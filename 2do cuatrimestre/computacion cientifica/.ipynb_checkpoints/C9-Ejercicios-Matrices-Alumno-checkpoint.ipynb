{
 "cells": [
  {
   "cell_type": "markdown",
   "metadata": {
    "ExecuteTime": {
     "end_time": "2019-09-27T20:21:36.851765Z",
     "start_time": "2019-09-27T20:21:36.847777Z"
    }
   },
   "source": [
    "# COMPUTACIÓN CIENTÍFICA\n",
    "## Práctica para el Parcial 1\n"
   ]
  },
  {
   "cell_type": "markdown",
   "metadata": {
    "ExecuteTime": {
     "end_time": "2019-09-27T17:50:49.760504Z",
     "start_time": "2019-09-27T17:50:49.754520Z"
    }
   },
   "source": [
    "En la carpeta data encontrará el archivo de Numpy *ratings_movie_lens.npy* con los datos correspondientes a clasificaciones de peliculas reales. "
   ]
  },
  {
   "cell_type": "code",
   "execution_count": 4,
   "metadata": {
    "ExecuteTime": {
     "end_time": "2021-05-10T21:50:32.334111Z",
     "start_time": "2021-05-10T21:50:32.330123Z"
    }
   },
   "outputs": [],
   "source": [
    "import numpy as np"
   ]
  },
  {
   "cell_type": "markdown",
   "metadata": {},
   "source": [
    "Cargue el array de datos ratings_movie_lens.npy en un array denominado calificaciones\n",
    "\n",
    "Numpy cuenta con \n",
    "\n",
    "np.load('path') \n",
    "\n",
    "para leer archivos con extensión .npy. \n",
    "\n",
    "El path puede ser absoluto o relativo a la ubicación del archivo desde el cual se ejecuta np.load(), generalmente ésta es la opción que se utiliza.\n",
    "\n",
    "'datos/ratings_movie_lens.npy'\n",
    "                 "
   ]
  },
  {
   "cell_type": "code",
   "execution_count": 2,
   "metadata": {
    "ExecuteTime": {
     "end_time": "2021-05-10T21:51:46.480476Z",
     "start_time": "2021-05-10T21:51:46.462524Z"
    }
   },
   "outputs": [
    {
     "data": {
      "text/plain": [
       "array([[5., 3., 4., ..., 0., 0., 0.],\n",
       "       [4., 0., 0., ..., 0., 0., 0.],\n",
       "       [0., 0., 0., ..., 0., 0., 0.],\n",
       "       ...,\n",
       "       [5., 0., 0., ..., 0., 0., 0.],\n",
       "       [0., 0., 0., ..., 0., 0., 0.],\n",
       "       [0., 5., 0., ..., 0., 0., 0.]])"
      ]
     },
     "execution_count": 2,
     "metadata": {},
     "output_type": "execute_result"
    }
   ],
   "source": [
    "# Escriba aquí su código\n",
    "calificaciones=np.load('datos/ratings_movie_lens.npy')\n",
    "calificaciones"
   ]
  },
  {
   "cell_type": "markdown",
   "metadata": {},
   "source": [
    "Muestre algunos elementos de calificaciones"
   ]
  },
  {
   "cell_type": "code",
   "execution_count": 3,
   "metadata": {
    "ExecuteTime": {
     "end_time": "2019-09-27T20:30:27.670268Z",
     "start_time": "2019-09-27T20:30:27.666305Z"
    }
   },
   "outputs": [],
   "source": [
    "# Escriba aquí su código\n"
   ]
  },
  {
   "cell_type": "markdown",
   "metadata": {},
   "source": [
    "Cada fila de *calificaciones* corresponde a un usuario y cada columna a una película reales.\n",
    "Cuántos usuarios hay y cuántas películas hay?\n",
    "- guarde el valor la cantidad de usuarios en la variable q_usuarios\n",
    "- guarde la cantidad de películas en la variable q_peliculas"
   ]
  },
  {
   "cell_type": "code",
   "execution_count": 6,
   "metadata": {
    "ExecuteTime": {
     "end_time": "2019-09-27T20:30:27.677251Z",
     "start_time": "2019-09-27T20:30:27.673260Z"
    }
   },
   "outputs": [
    {
     "data": {
      "text/plain": [
       "(943, 1682)"
      ]
     },
     "execution_count": 6,
     "metadata": {},
     "output_type": "execute_result"
    }
   ],
   "source": [
    "# Escriba aquí su código\n",
    "calificaciones.shape\n",
    "\n",
    "# Muestre la cantidad de usuarios y de películas\n",
    "# q_usuarios, q_peliculas\n"
   ]
  },
  {
   "cell_type": "markdown",
   "metadata": {
    "ExecuteTime": {
     "end_time": "2019-09-27T17:56:55.805602Z",
     "start_time": "2019-09-27T17:56:55.799653Z"
    }
   },
   "source": [
    "Los valores van de 0 a 5:  \n",
    "- el 0 indica que no se ha calificado a la película, \n",
    "- luego las calificaciones son de 1 a 5 siendo el 5 la mejor calificación."
   ]
  },
  {
   "cell_type": "markdown",
   "metadata": {},
   "source": [
    "Cuántas calificaciones \"reales\" (distintas de cero) ha hecho cada usuario?\n",
    "Guarde el resultado en la variable q_calificaciones_reales"
   ]
  },
  {
   "cell_type": "code",
   "execution_count": 5,
   "metadata": {
    "ExecuteTime": {
     "end_time": "2019-09-27T20:30:27.683234Z",
     "start_time": "2019-09-27T20:30:27.679245Z"
    }
   },
   "outputs": [],
   "source": [
    "# Escriba aquí su código\n",
    "\n",
    "\n"
   ]
  },
  {
   "cell_type": "code",
   "execution_count": 6,
   "metadata": {
    "ExecuteTime": {
     "end_time": "2019-09-27T20:30:27.690250Z",
     "start_time": "2019-09-27T20:30:27.685240Z"
    }
   },
   "outputs": [],
   "source": [
    "#Escriba aqui su código\n"
   ]
  },
  {
   "cell_type": "code",
   "execution_count": 7,
   "metadata": {
    "ExecuteTime": {
     "end_time": "2019-09-27T20:30:27.695216Z",
     "start_time": "2019-09-27T20:30:27.692215Z"
    }
   },
   "outputs": [],
   "source": [
    "#Escriba aqui su codigo\n"
   ]
  },
  {
   "cell_type": "code",
   "execution_count": 8,
   "metadata": {
    "ExecuteTime": {
     "end_time": "2019-09-27T20:30:27.704177Z",
     "start_time": "2019-09-27T20:30:27.699192Z"
    }
   },
   "outputs": [],
   "source": [
    "# q_calificaciones_reales"
   ]
  },
  {
   "cell_type": "markdown",
   "metadata": {},
   "source": [
    "Muestre la cantidad de calificaciones reales de los primeros 10 usuarios.\n",
    "Guarde este resultado en la variable q_users_10"
   ]
  },
  {
   "cell_type": "code",
   "execution_count": 9,
   "metadata": {
    "ExecuteTime": {
     "end_time": "2019-09-27T20:30:27.712158Z",
     "start_time": "2019-09-27T20:30:27.708168Z"
    }
   },
   "outputs": [],
   "source": [
    "# Escriba aquí su código\n"
   ]
  },
  {
   "cell_type": "markdown",
   "metadata": {},
   "source": [
    "En promedio cuántas películas ha calificado cada usuario?\n",
    "guarde el resultado en la variable q_promedio_pelis_xusuario"
   ]
  },
  {
   "cell_type": "code",
   "execution_count": 10,
   "metadata": {
    "ExecuteTime": {
     "end_time": "2019-09-27T20:30:27.718146Z",
     "start_time": "2019-09-27T20:30:27.715149Z"
    }
   },
   "outputs": [],
   "source": [
    "# Escriba aquí su código\n"
   ]
  },
  {
   "cell_type": "markdown",
   "metadata": {},
   "source": [
    "Qué cantidad de calificaciones reales tiene cada una de las películas?"
   ]
  },
  {
   "cell_type": "code",
   "execution_count": 11,
   "metadata": {
    "ExecuteTime": {
     "end_time": "2019-09-27T20:30:27.726119Z",
     "start_time": "2019-09-27T20:30:27.721132Z"
    }
   },
   "outputs": [],
   "source": [
    "# Escriba aquí su código\n"
   ]
  },
  {
   "cell_type": "markdown",
   "metadata": {},
   "source": [
    "Muestre la cantidad de calificaciones reales de las primeras 10 películas.\n",
    "Guarde este resultado en la variable q_calif_10_pelis"
   ]
  },
  {
   "cell_type": "code",
   "execution_count": 12,
   "metadata": {
    "ExecuteTime": {
     "end_time": "2019-09-27T20:30:27.733099Z",
     "start_time": "2019-09-27T20:30:27.729111Z"
    }
   },
   "outputs": [],
   "source": [
    "# Escriba aquí su código\n"
   ]
  },
  {
   "cell_type": "markdown",
   "metadata": {},
   "source": [
    "## Problema 1: Sistemas de Recomendación  con Promedio"
   ]
  },
  {
   "cell_type": "markdown",
   "metadata": {},
   "source": [
    "En este caso sencillamente deberá calcular la calificación promedio para cada una de las películas utilizando para ello las calificaciones válidas.  \n",
    "- Deberá indicar cuál es el valor del **mejor promedio** entre todas las películas, guardándolo en la variable best_mean_rating\n",
    "- y en qué número de columna se encuentra, guardando este valor en la varibale id_best_mean_rating"
   ]
  },
  {
   "cell_type": "code",
   "execution_count": 13,
   "metadata": {
    "ExecuteTime": {
     "end_time": "2019-09-27T20:30:27.740081Z",
     "start_time": "2019-09-27T20:30:27.735095Z"
    }
   },
   "outputs": [],
   "source": [
    "# Escriba aquí su código\n"
   ]
  },
  {
   "cell_type": "code",
   "execution_count": 14,
   "metadata": {
    "ExecuteTime": {
     "end_time": "2019-09-27T20:30:27.746066Z",
     "start_time": "2019-09-27T20:30:27.742076Z"
    }
   },
   "outputs": [],
   "source": [
    "# Escriba aquí su código\n"
   ]
  },
  {
   "cell_type": "code",
   "execution_count": 15,
   "metadata": {
    "ExecuteTime": {
     "end_time": "2019-09-27T20:30:27.752049Z",
     "start_time": "2019-09-27T20:30:27.748060Z"
    }
   },
   "outputs": [],
   "source": [
    "# Escriba aquí su código para obtener best_mean rating\n",
    "\n",
    "# best_mean rating"
   ]
  },
  {
   "cell_type": "code",
   "execution_count": 16,
   "metadata": {
    "ExecuteTime": {
     "end_time": "2019-09-27T20:30:27.757045Z",
     "start_time": "2019-09-27T20:30:27.754044Z"
    }
   },
   "outputs": [],
   "source": [
    "# Escriba aquí su código\n",
    "\n",
    "# id_best_mean_rating"
   ]
  },
  {
   "cell_type": "code",
   "execution_count": 17,
   "metadata": {
    "ExecuteTime": {
     "end_time": "2019-09-27T20:30:27.763021Z",
     "start_time": "2019-09-27T20:30:27.759030Z"
    }
   },
   "outputs": [],
   "source": [
    "# Muestre los valores de \n",
    "# best_mean_rating\n",
    "# id_best_mean_rating"
   ]
  },
  {
   "cell_type": "markdown",
   "metadata": {},
   "source": [
    "Cuántas películas obtuvieron calificación promedio mayor o igual a 3?"
   ]
  },
  {
   "cell_type": "code",
   "execution_count": 18,
   "metadata": {
    "ExecuteTime": {
     "end_time": "2019-09-27T20:30:27.768006Z",
     "start_time": "2019-09-27T20:30:27.765014Z"
    }
   },
   "outputs": [],
   "source": [
    "# Escriba aquí su código\n"
   ]
  },
  {
   "cell_type": "markdown",
   "metadata": {
    "ExecuteTime": {
     "end_time": "2019-09-27T18:38:09.257326Z",
     "start_time": "2019-09-27T18:38:09.253336Z"
    }
   },
   "source": [
    "## REPORTE FINAL"
   ]
  },
  {
   "cell_type": "markdown",
   "metadata": {
    "ExecuteTime": {
     "end_time": "2019-09-27T18:50:40.449735Z",
     "start_time": "2019-09-27T18:50:40.443751Z"
    }
   },
   "source": [
    "Quite todos los comentarios a las celdas siguientes"
   ]
  },
  {
   "cell_type": "code",
   "execution_count": 27,
   "metadata": {
    "ExecuteTime": {
     "end_time": "2019-09-27T20:30:27.822861Z",
     "start_time": "2019-09-27T20:30:27.818871Z"
    }
   },
   "outputs": [],
   "source": [
    "# q_usuarios"
   ]
  },
  {
   "cell_type": "code",
   "execution_count": 28,
   "metadata": {
    "ExecuteTime": {
     "end_time": "2019-09-27T20:30:27.827847Z",
     "start_time": "2019-09-27T20:30:27.824855Z"
    }
   },
   "outputs": [],
   "source": [
    "# q_peliculas"
   ]
  },
  {
   "cell_type": "code",
   "execution_count": 29,
   "metadata": {
    "ExecuteTime": {
     "end_time": "2019-09-27T20:30:27.833831Z",
     "start_time": "2019-09-27T20:30:27.829843Z"
    }
   },
   "outputs": [],
   "source": [
    "# q_calificaciones_reales"
   ]
  },
  {
   "cell_type": "code",
   "execution_count": 30,
   "metadata": {
    "ExecuteTime": {
     "end_time": "2019-09-27T20:30:27.839815Z",
     "start_time": "2019-09-27T20:30:27.835826Z"
    }
   },
   "outputs": [],
   "source": [
    "# q_users_10"
   ]
  },
  {
   "cell_type": "code",
   "execution_count": 31,
   "metadata": {
    "ExecuteTime": {
     "end_time": "2019-09-27T20:30:27.845799Z",
     "start_time": "2019-09-27T20:30:27.841810Z"
    }
   },
   "outputs": [],
   "source": [
    "# q_promedio_pelis_xusuario"
   ]
  },
  {
   "cell_type": "code",
   "execution_count": 32,
   "metadata": {
    "ExecuteTime": {
     "end_time": "2019-09-27T20:30:27.850786Z",
     "start_time": "2019-09-27T20:30:27.847795Z"
    }
   },
   "outputs": [],
   "source": [
    "# q_calif_10_pelis"
   ]
  },
  {
   "cell_type": "markdown",
   "metadata": {},
   "source": [
    "### PROBLEMA 1"
   ]
  },
  {
   "cell_type": "code",
   "execution_count": 33,
   "metadata": {
    "ExecuteTime": {
     "end_time": "2019-09-27T20:30:27.856769Z",
     "start_time": "2019-09-27T20:30:27.852780Z"
    }
   },
   "outputs": [],
   "source": [
    "# best_mean_rating"
   ]
  },
  {
   "cell_type": "code",
   "execution_count": 34,
   "metadata": {
    "ExecuteTime": {
     "end_time": "2019-09-27T20:30:27.861756Z",
     "start_time": "2019-09-27T20:30:27.857766Z"
    }
   },
   "outputs": [],
   "source": [
    "# id_best_mean_rating"
   ]
  }
 ],
 "metadata": {
  "hide_input": false,
  "kernelspec": {
   "display_name": "Python 3",
   "language": "python",
   "name": "python3"
  },
  "language_info": {
   "codemirror_mode": {
    "name": "ipython",
    "version": 3
   },
   "file_extension": ".py",
   "mimetype": "text/x-python",
   "name": "python",
   "nbconvert_exporter": "python",
   "pygments_lexer": "ipython3",
   "version": "3.8.5"
  },
  "toc": {
   "base_numbering": 1,
   "nav_menu": {},
   "number_sections": true,
   "sideBar": true,
   "skip_h1_title": true,
   "title_cell": "Tabla de Contenidos",
   "title_sidebar": "Contenidos",
   "toc_cell": false,
   "toc_position": {
    "height": "calc(100% - 180px)",
    "left": "10px",
    "top": "150px",
    "width": "207.1px"
   },
   "toc_section_display": true,
   "toc_window_display": true
  },
  "varInspector": {
   "cols": {
    "lenName": 16,
    "lenType": 16,
    "lenVar": 40
   },
   "kernels_config": {
    "python": {
     "delete_cmd_postfix": "",
     "delete_cmd_prefix": "del ",
     "library": "var_list.py",
     "varRefreshCmd": "print(var_dic_list())"
    },
    "r": {
     "delete_cmd_postfix": ") ",
     "delete_cmd_prefix": "rm(",
     "library": "var_list.r",
     "varRefreshCmd": "cat(var_dic_list()) "
    }
   },
   "types_to_exclude": [
    "module",
    "function",
    "builtin_function_or_method",
    "instance",
    "_Feature"
   ],
   "window_display": false
  }
 },
 "nbformat": 4,
 "nbformat_minor": 2
}
