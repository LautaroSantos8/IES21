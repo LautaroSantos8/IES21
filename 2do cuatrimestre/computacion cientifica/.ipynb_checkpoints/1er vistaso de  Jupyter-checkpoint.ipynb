{
 "cells": [
  {
   "cell_type": "markdown",
   "metadata": {},
   "source": [
    "# Computación Científica\n",
    "\n",
    "## Entorno de Jupyter y Comandos de desarrollo\n",
    "\n",
    "### Entorno de Jupyter\n",
    "\n",
    "Jupyter Notebook es un entorno computacional interactivo basado en web para crear documentos de *cuaderno Jupyter*. Es compatible con varios lenguajes como **Python** (IPython), Julia, R, etc. y se utiliza principalmente para análisis de datos, visualización de datos y más computación exploratoria interactiva.\n",
    "\n",
    "JupyterLab es la interfaz de usuario de próxima generación que incluye portátiles . Tiene una estructura modular, donde puede abrir varios cuadernos o archivos (por ejemplo, HTML, texto, Markdowns, etc.) como pestañas en la misma ventana. Ofrece una experiencia más similar a la de IDE (entorno de desarrollo integrado).\n",
    "\n",
    "\n",
    "### Comandos de desarrollo\n",
    "\n",
    "**Los comando se escriben utilizando operadores.**\n",
    "* Aritméticos: + - * / // %\n",
    "* Relacionales: >  <  ==  != \n",
    "* Básico: = (Asignación)\n",
    "\n",
    "**Intrucciones básicas:**\n",
    "* Mostrar: **print**\n",
    "* Leer: **input**\n",
    "\n",
    "**Tipos de datos:**\n",
    "* Número entero: **int()**\n",
    "* Número decimal: **float()**\n",
    "* Texto: **str()**"
   ]
  },
  {
   "cell_type": "markdown",
   "metadata": {},
   "source": [
    "## Rapaso de intrucciones en Phyton\n",
    "\n",
    "**Ejemplo 1:** Mostrar en pantalla el resultado de la suma de dos números."
   ]
  },
  {
   "cell_type": "code",
   "execution_count": 5,
   "metadata": {},
   "outputs": [
    {
     "name": "stdout",
     "output_type": "stream",
     "text": [
      "El resultado de 15 mas 10 es igual a 25\n"
     ]
    }
   ],
   "source": [
    "# Una forma usada es esta\n",
    "x=15\n",
    "y=10\n",
    "a=x+y\n",
    "print(f\"El resultado de {x} mas {y} es igual a {a}\")"
   ]
  },
  {
   "cell_type": "code",
   "execution_count": 6,
   "metadata": {},
   "outputs": [
    {
     "name": "stdout",
     "output_type": "stream",
     "text": [
      "El resultado de 15 mas 10 es igual a 25\n"
     ]
    }
   ],
   "source": [
    "# Pero ademas de puede realizar de la siguiente forma\n",
    "x=15\n",
    "y=10\n",
    "print(f\"El resultado de {x} mas {y} es igual a {x+y}\")"
   ]
  },
  {
   "cell_type": "markdown",
   "metadata": {},
   "source": [
    "**Ejercicio 2**: Mostrar en pantalla el resultado de la multiplicación de dos numeros que se le pide al usuario "
   ]
  },
  {
   "cell_type": "code",
   "execution_count": 13,
   "metadata": {},
   "outputs": [
    {
     "name": "stdout",
     "output_type": "stream",
     "text": [
      "ingrese el valor del primer numero: 2\n",
      "ingrese el valor del segundo numero: 2\n",
      "El resultado de la multiplicacion entre 2 y 2 es igual a 4\n"
     ]
    }
   ],
   "source": [
    "# Una forma usada es esta\n",
    "x=int(input(\"ingrese el valor del primer numero: \"))\n",
    "y=int(input(\"ingrese el valor del segundo numero: \"))\n",
    "print(f\"El resultado de la multiplicacion entre {x} y {y} es igual a {x*y}\")"
   ]
  },
  {
   "cell_type": "code",
   "execution_count": 14,
   "metadata": {},
   "outputs": [
    {
     "name": "stdout",
     "output_type": "stream",
     "text": [
      "ingrese el valor del primer numero: 2\n",
      "ingrese el valor del segundo numero: 2\n",
      "El resultado de la multiplicacion entre 2 y 2 es igual a 4\n"
     ]
    }
   ],
   "source": [
    "# Pero ademas de puede realizar de la siguiente forma\n",
    "x=int(input(\"ingrese el valor del primer numero: \"))\n",
    "y=int(input(\"ingrese el valor del segundo numero: \"))\n",
    "a=x*y\n",
    "print(f\"El resultado de la multiplicacion entre {x} y {y} es igual a {a}\")"
   ]
  },
  {
   "cell_type": "markdown",
   "metadata": {},
   "source": [
    "**Ejemplo 3**: Se necesita un programa que tenga la siguiente funcionalidad: el usuario debe ingresar el precio de un producto y se deberá informar cual es el valor del IVA de un producto y su precio final."
   ]
  },
  {
   "cell_type": "code",
   "execution_count": 15,
   "metadata": {},
   "outputs": [
    {
     "name": "stdout",
     "output_type": "stream",
     "text": [
      "Ingrese el valor del precio del producto: 100\n",
      "el IVA del producto es de 21.0 y su precio final es de 121.0\n"
     ]
    }
   ],
   "source": [
    "# El IVA es el 21% del producto y su precio final es el precio inicial sumado el IVA\n",
    "precio=float(input(\"Ingrese el valor del precio del producto: \"))\n",
    "IVA=precio*0.21\n",
    "final=precio+IVA\n",
    "print(f\"el IVA del producto es de {IVA} y su precio final es de {final}\")"
   ]
  },
  {
   "cell_type": "markdown",
   "metadata": {},
   "source": [
    "**Ejemplo 4**: Se necesita un procedimiento que tenga la funcionalidad del ejemplo 3."
   ]
  },
  {
   "cell_type": "code",
   "execution_count": 18,
   "metadata": {},
   "outputs": [
    {
     "name": "stdout",
     "output_type": "stream",
     "text": [
      "Ingrese el valor del precio del producto: 100\n",
      "el IVA del producto es de 21.0 y su precio final es de 121.0\n"
     ]
    }
   ],
   "source": [
    "def CalcularIVA():\n",
    "    precio=float(input(\"Ingrese el valor del precio del producto: \"))\n",
    "    IVA=precio*0.21\n",
    "    final=precio+IVA\n",
    "    print(f\"el IVA del producto es de {IVA} y su precio final es de {final}\")\n",
    "CalcularIVA()"
   ]
  },
  {
   "cell_type": "markdown",
   "metadata": {},
   "source": [
    "**Ejemplo 5**: Llamar al procedimiento creado en el ejemplo 4"
   ]
  },
  {
   "cell_type": "code",
   "execution_count": 19,
   "metadata": {},
   "outputs": [
    {
     "name": "stdout",
     "output_type": "stream",
     "text": [
      "Ingrese el valor del precio del producto: 100\n",
      "el IVA del producto es de 21.0 y su precio final es de 121.0\n"
     ]
    }
   ],
   "source": [
    "CalcularIVA()"
   ]
  },
  {
   "cell_type": "code",
   "execution_count": null,
   "metadata": {},
   "outputs": [],
   "source": []
  }
 ],
 "metadata": {
  "kernelspec": {
   "display_name": "Python 3",
   "language": "python",
   "name": "python3"
  },
  "language_info": {
   "codemirror_mode": {
    "name": "ipython",
    "version": 3
   },
   "file_extension": ".py",
   "mimetype": "text/x-python",
   "name": "python",
   "nbconvert_exporter": "python",
   "pygments_lexer": "ipython3",
   "version": "3.8.5"
  }
 },
 "nbformat": 4,
 "nbformat_minor": 4
}
