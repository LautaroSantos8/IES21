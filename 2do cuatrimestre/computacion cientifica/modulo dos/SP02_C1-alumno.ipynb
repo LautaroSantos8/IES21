{
 "cells": [
  {
   "cell_type": "markdown",
   "metadata": {
    "toc": true
   },
   "source": [
    "<h1>Table of Contents<span class=\"tocSkip\"></span></h1>\n",
    "<div class=\"toc\"><ul class=\"toc-item\"><li><span><a href=\"#Pandas\" data-toc-modified-id=\"Pandas-1\"><span class=\"toc-item-num\">1&nbsp;&nbsp;</span>Pandas</a></span></li><li><span><a href=\"#Series-en-Pandas\" data-toc-modified-id=\"Series-en-Pandas-2\"><span class=\"toc-item-num\">2&nbsp;&nbsp;</span>Series en Pandas</a></span></li><li><span><a href=\"#DataFrames-en-Pandas\" data-toc-modified-id=\"DataFrames-en-Pandas-3\"><span class=\"toc-item-num\">3&nbsp;&nbsp;</span>DataFrames en Pandas</a></span><ul class=\"toc-item\"><li><span><a href=\"#Crear-un-DataFrame\" data-toc-modified-id=\"Crear-un-DataFrame-3.1\"><span class=\"toc-item-num\">3.1&nbsp;&nbsp;</span>Crear un DataFrame</a></span></li><li><span><a href=\"#Agregar-columnas-a-un-DataFrame\" data-toc-modified-id=\"Agregar-columnas-a-un-DataFrame-3.2\"><span class=\"toc-item-num\">3.2&nbsp;&nbsp;</span>Agregar columnas a un DataFrame</a></span></li><li><span><a href=\"#Agregar-filas-con-append()\" data-toc-modified-id=\"Agregar-filas-con-append()-3.3\"><span class=\"toc-item-num\">3.3&nbsp;&nbsp;</span>Agregar filas con append()</a></span></li></ul></li><li><span><a href=\"#Observando-las-características-de-un-Data-Frame\" data-toc-modified-id=\"Observando-las-características-de-un-Data-Frame-4\"><span class=\"toc-item-num\">4&nbsp;&nbsp;</span>Observando las características de un Data Frame</a></span><ul class=\"toc-item\"><li><span><a href=\"#shape()\" data-toc-modified-id=\"shape()-4.1\"><span class=\"toc-item-num\">4.1&nbsp;&nbsp;</span>shape()</a></span></li><li><span><a href=\"#describe()\" data-toc-modified-id=\"describe()-4.2\"><span class=\"toc-item-num\">4.2&nbsp;&nbsp;</span>describe()</a></span></li><li><span><a href=\"#unique()--Valores-únicos-de-una-columna\" data-toc-modified-id=\"unique()--Valores-únicos-de-una-columna-4.3\"><span class=\"toc-item-num\">4.3&nbsp;&nbsp;</span>unique()  Valores únicos de una columna</a></span></li><li><span><a href=\"#value_counts()-Cantidad-de-Valores-únicos-de-una-columna\" data-toc-modified-id=\"value_counts()-Cantidad-de-Valores-únicos-de-una-columna-4.4\"><span class=\"toc-item-num\">4.4&nbsp;&nbsp;</span>value_counts() Cantidad de Valores únicos de una columna</a></span></li></ul></li><li><span><a href=\"#Funciones-agregadas-por-columnas\" data-toc-modified-id=\"Funciones-agregadas-por-columnas-5\"><span class=\"toc-item-num\">5&nbsp;&nbsp;</span>Funciones agregadas por columnas</a></span><ul class=\"toc-item\"><li><span><a href=\"#Promedio\" data-toc-modified-id=\"Promedio-5.1\"><span class=\"toc-item-num\">5.1&nbsp;&nbsp;</span>Promedio</a></span></li><li><span><a href=\"#Desvío-Standard\" data-toc-modified-id=\"Desvío-Standard-5.2\"><span class=\"toc-item-num\">5.2&nbsp;&nbsp;</span>Desvío Standard</a></span></li><li><span><a href=\"#Mínimo\" data-toc-modified-id=\"Mínimo-5.3\"><span class=\"toc-item-num\">5.3&nbsp;&nbsp;</span>Mínimo</a></span></li><li><span><a href=\"#Máximo\" data-toc-modified-id=\"Máximo-5.4\"><span class=\"toc-item-num\">5.4&nbsp;&nbsp;</span>Máximo</a></span></li></ul></li></ul></div>"
   ]
  },
  {
   "cell_type": "markdown",
   "metadata": {},
   "source": [
    "# COMPUTACIÓN CIENTÍFICA\n",
    "# Situación Profesional 2\n",
    "# CLASE 1\n",
    "**Prof. Ricardo Piña - Erica Bongiovanni**"
   ]
  },
  {
   "cell_type": "markdown",
   "metadata": {},
   "source": [
    "## Pandas"
   ]
  },
  {
   "cell_type": "markdown",
   "metadata": {},
   "source": [
    "Entre las librerías de Python existe **Pandas**. \n",
    "\n",
    "Anteriormente hemos usado NumPy para trabajar con vectores, matrices y tensores (arrays de un, dos o 3 ejes) que son las estructuras más básicas de los datos, **Pandas** se ubica \"un piso por encima de NumPy\", permitiendo trabajar con estructuras de datos más sofisticadas como los denominados **Data Frames** muy similares a las **planillas de cálculo tipo Excel**, los cuales tienen ciertas características tabulares muy deseables al hacer análsis de nuestros datos, como por ejemplo:  \n",
    "\n",
    "\n",
    "    \n"
   ]
  },
  {
   "cell_type": "markdown",
   "metadata": {},
   "source": [
    "- Los Data Frames permiten dar **nombres** a las columnas y mantener indexadas las filas.\n",
    "- Es posible **agregar o quitar** filas o columnas y hacer operaciones entre ellas.\n",
    "- Es posible filtrar y ordenar filas o columnas fácilmente.\n",
    "- Es capaz de leer y guardar datos en diversos formatos como: \n",
    "    - csv, archivos de texto, archivos de Excel\n",
    "    - bases de datos SQL\n",
    "    - HTML\n",
    "    - XML\n",
    "    - JSON\n",
    "    - HDF5 (formato jerárquico de datos; muy veloz)"
   ]
  },
  {
   "cell_type": "markdown",
   "metadata": {},
   "source": [
    "Por estas características, Pandas es una excelente herramienta para hacer **Data Wrangling**, es decir transformar datos **\"crudos\"** en datos aptos para su análisis. Generalmente ** Data Wrangling** implica las siguientes tareas referidas a los datos:  \n",
    "\n",
    "- Limpiar\n",
    "- Combinar\n",
    "- Adaptar\n",
    "- Evaluar\n",
    "\n",
    "\n",
    "Pandas es una excelente herramienta para trabajar con datos organizados en forma de **tabla** y es una alternativa viable ante lenguajes como R que son más específicos para el uso de las matemáticas y estadísticas.\n",
    "\n",
    "Por otro lado, podemos mencionar algunas debildades de Pandas, como por ejemplo que carece de implementación de modelos de Machine Learning como por ejemplo los Árboles de Decisión que vimos en materias anteriores; sólo provee funcionalidades básicas para Regresión Lineal.  \n",
    "\n",
    "Cuando necesitemos aplicar técnicas de Machine Learning usaremos NumPy y Pandas en conjunto con otras librerías como **MatPlotLib para gráficar** y  **Sci-Kit** Learn para la creación de modelos..."
   ]
  },
  {
   "cell_type": "markdown",
   "metadata": {},
   "source": [
    "Ahora veremos algunas funcionalidades de Pandas y luego las aplicaremos en nuestros casos de Sistemas de Recomendación."
   ]
  },
  {
   "cell_type": "code",
   "execution_count": 1,
   "metadata": {
    "ExecuteTime": {
     "end_time": "2020-10-09T20:09:17.604469Z",
     "start_time": "2020-10-09T20:09:17.600480Z"
    }
   },
   "outputs": [],
   "source": [
    "import pandas as pd\n",
    "import numpy as np"
   ]
  },
  {
   "cell_type": "markdown",
   "metadata": {},
   "source": [
    "## Series en Pandas"
   ]
  },
  {
   "cell_type": "markdown",
   "metadata": {},
   "source": [
    "En Pandas una Serie es un conjunto de valores indexados, es decir que Pandas le agrega un número de índice que comienza su numeracion en 0.  \n",
    "Se utiliza la función:  \n",
    "~~~\n",
    "pd.Series( [array de NumPy])\n",
    "~~~"
   ]
  },
  {
   "cell_type": "code",
   "execution_count": 13,
   "metadata": {
    "ExecuteTime": {
     "end_time": "2020-10-09T20:09:17.819899Z",
     "start_time": "2020-10-09T20:09:17.811915Z"
    }
   },
   "outputs": [
    {
     "data": {
      "text/plain": [
       "0    10\n",
       "1    20\n",
       "2    30\n",
       "dtype: int64"
      ]
     },
     "execution_count": 13,
     "metadata": {},
     "output_type": "execute_result"
    }
   ],
   "source": [
    "serie=pd.Series([10,20,30])\n",
    "serie"
   ]
  },
  {
   "cell_type": "markdown",
   "metadata": {},
   "source": [
    "los datos que nos muestra la lista de dato son: \n",
    "* en la primer columna nos muestra un indice\n",
    "* en la segunda los valores cargados \n",
    "* en la ultima fila nos dice que tipo de dato es"
   ]
  },
  {
   "cell_type": "markdown",
   "metadata": {},
   "source": [
    "Es posible acceder a los valores o a los índices por separado:"
   ]
  },
  {
   "cell_type": "code",
   "execution_count": 14,
   "metadata": {
    "ExecuteTime": {
     "end_time": "2020-10-09T20:09:17.935610Z",
     "start_time": "2020-10-09T20:09:17.930599Z"
    }
   },
   "outputs": [
    {
     "data": {
      "text/plain": [
       "array([10, 20, 30], dtype=int64)"
      ]
     },
     "execution_count": 14,
     "metadata": {},
     "output_type": "execute_result"
    }
   ],
   "source": [
    "serie.values"
   ]
  },
  {
   "cell_type": "markdown",
   "metadata": {},
   "source": [
    "al colocar la instruccion **values** nos muestra la lista como si fuese un array "
   ]
  },
  {
   "cell_type": "code",
   "execution_count": 15,
   "metadata": {
    "ExecuteTime": {
     "end_time": "2020-10-09T20:09:17.943565Z",
     "start_time": "2020-10-09T20:09:17.938576Z"
    }
   },
   "outputs": [
    {
     "data": {
      "text/plain": [
       "RangeIndex(start=0, stop=3, step=1)"
      ]
     },
     "execution_count": 15,
     "metadata": {},
     "output_type": "execute_result"
    }
   ],
   "source": [
    "serie.index"
   ]
  },
  {
   "cell_type": "markdown",
   "metadata": {},
   "source": [
    "al colocar index nos mostrará el inicio, el final sin contar este y la escala en la que pasa dato a dato, como la funcion arange en numpy"
   ]
  },
  {
   "cell_type": "markdown",
   "metadata": {},
   "source": [
    "De la misma manera que para un array de NumPy es posible acceder a los datos a través del índice que les corresponde, usando la notación usual de corchetes:"
   ]
  },
  {
   "cell_type": "code",
   "execution_count": 16,
   "metadata": {
    "ExecuteTime": {
     "end_time": "2020-10-09T20:09:18.056262Z",
     "start_time": "2020-10-09T20:09:18.050278Z"
    }
   },
   "outputs": [
    {
     "data": {
      "text/plain": [
       "30"
      ]
     },
     "execution_count": 16,
     "metadata": {},
     "output_type": "execute_result"
    }
   ],
   "source": [
    "serie[2]"
   ]
  },
  {
   "cell_type": "code",
   "execution_count": 17,
   "metadata": {
    "ExecuteTime": {
     "end_time": "2020-10-09T20:09:18.064242Z",
     "start_time": "2020-10-09T20:09:18.058257Z"
    }
   },
   "outputs": [
    {
     "data": {
      "text/plain": [
       "0    10\n",
       "1    20\n",
       "dtype: int64"
      ]
     },
     "execution_count": 17,
     "metadata": {},
     "output_type": "execute_result"
    }
   ],
   "source": [
    "# al colocar dos valores separados por : me dará los datos desde la posicion del primero hasta el segundo valor sin \n",
    "# contar al ultimo\n",
    "serie[0:2]"
   ]
  },
  {
   "cell_type": "markdown",
   "metadata": {},
   "source": [
    "Hasta aquí da la impresión que no hay diferencia entre las Series de Pandas y los arrays de NumPy, sin embargo en el caso de NumPy el ínidice está definido *implícitamente* y es un valor numérico asignado por NumPy.  \n",
    "En cambio en Pandas podemos asignar números o cadenas arbitrarias como ínidice: \n",
    "\n"
   ]
  },
  {
   "cell_type": "code",
   "execution_count": 54,
   "metadata": {
    "ExecuteTime": {
     "end_time": "2020-10-09T20:09:18.179933Z",
     "start_time": "2020-10-09T20:09:18.173947Z"
    }
   },
   "outputs": [
    {
     "data": {
      "text/plain": [
       "a    10\n",
       "b    20\n",
       "c    30\n",
       "d    40\n",
       "dtype: int64"
      ]
     },
     "execution_count": 54,
     "metadata": {},
     "output_type": "execute_result"
    }
   ],
   "source": [
    "serie2=pd.Series([10,20,30,40],index=[\"a\",\"b\",\"c\",\"d\"])\n",
    "serie2"
   ]
  },
  {
   "cell_type": "markdown",
   "metadata": {},
   "source": [
    "Lo interesante es que aún podemos acceder a los valores usando el índice: "
   ]
  },
  {
   "cell_type": "code",
   "execution_count": 14,
   "metadata": {
    "ExecuteTime": {
     "end_time": "2020-10-09T20:09:18.281660Z",
     "start_time": "2020-10-09T20:09:18.275677Z"
    }
   },
   "outputs": [
    {
     "data": {
      "text/plain": [
       "20"
      ]
     },
     "execution_count": 14,
     "metadata": {},
     "output_type": "execute_result"
    }
   ],
   "source": [
    "serie2[\"b\"]"
   ]
  },
  {
   "cell_type": "code",
   "execution_count": 26,
   "metadata": {},
   "outputs": [
    {
     "data": {
      "text/plain": [
       "10"
      ]
     },
     "execution_count": 26,
     "metadata": {},
     "output_type": "execute_result"
    }
   ],
   "source": [
    "serie2[0]"
   ]
  },
  {
   "cell_type": "code",
   "execution_count": 35,
   "metadata": {},
   "outputs": [
    {
     "data": {
      "text/plain": [
       "a    10\n",
       "b    20\n",
       "c    30\n",
       "dtype: int64"
      ]
     },
     "execution_count": 35,
     "metadata": {},
     "output_type": "execute_result"
    }
   ],
   "source": [
    "serie2[\"a\":\"c\"]"
   ]
  },
  {
   "cell_type": "markdown",
   "metadata": {},
   "source": [
    "## DataFrames en Pandas"
   ]
  },
  {
   "cell_type": "markdown",
   "metadata": {},
   "source": [
    "### Crear un DataFrame"
   ]
  },
  {
   "cell_type": "markdown",
   "metadata": {},
   "source": [
    "Una forma de crear un dataframe es crear uno vacío y luego agregar sus **columnas**:"
   ]
  },
  {
   "cell_type": "code",
   "execution_count": 139,
   "metadata": {
    "ExecuteTime": {
     "end_time": "2020-10-09T20:09:18.617761Z",
     "start_time": "2020-10-09T20:09:18.613771Z"
    }
   },
   "outputs": [],
   "source": [
    "# Creamos un dataframe vacío\n",
    "df_01=pd.DataFrame()"
   ]
  },
  {
   "cell_type": "markdown",
   "metadata": {},
   "source": [
    "### Agregar columnas a un DataFrame"
   ]
  },
  {
   "cell_type": "markdown",
   "metadata": {
    "ExecuteTime": {
     "end_time": "2020-10-09T20:09:18.741432Z",
     "start_time": "2020-10-09T20:09:18.737440Z"
    }
   },
   "source": [
    " Agregamos un par de columnas:"
   ]
  },
  {
   "cell_type": "code",
   "execution_count": 140,
   "metadata": {
    "ExecuteTime": {
     "end_time": "2020-10-09T20:09:18.753400Z",
     "start_time": "2020-10-09T20:09:18.745420Z"
    }
   },
   "outputs": [],
   "source": [
    "df_01[\"Nombre\"]=[\"Juan\",\"Pedro\",\"Ana\"]\n",
    "df_01[\"Edad\"]=[40,25,30]"
   ]
  },
  {
   "cell_type": "markdown",
   "metadata": {
    "ExecuteTime": {
     "end_time": "2019-09-20T18:58:57.461493Z",
     "start_time": "2019-09-20T18:58:57.456530Z"
    }
   },
   "source": [
    "Veamos qué aspecto tiene df_01 hasta ahora:"
   ]
  },
  {
   "cell_type": "code",
   "execution_count": 141,
   "metadata": {
    "ExecuteTime": {
     "end_time": "2020-10-09T20:09:18.862107Z",
     "start_time": "2020-10-09T20:09:18.851136Z"
    }
   },
   "outputs": [
    {
     "data": {
      "text/html": [
       "<div>\n",
       "<style scoped>\n",
       "    .dataframe tbody tr th:only-of-type {\n",
       "        vertical-align: middle;\n",
       "    }\n",
       "\n",
       "    .dataframe tbody tr th {\n",
       "        vertical-align: top;\n",
       "    }\n",
       "\n",
       "    .dataframe thead th {\n",
       "        text-align: right;\n",
       "    }\n",
       "</style>\n",
       "<table border=\"1\" class=\"dataframe\">\n",
       "  <thead>\n",
       "    <tr style=\"text-align: right;\">\n",
       "      <th></th>\n",
       "      <th>Nombre</th>\n",
       "      <th>Edad</th>\n",
       "    </tr>\n",
       "  </thead>\n",
       "  <tbody>\n",
       "    <tr>\n",
       "      <th>0</th>\n",
       "      <td>Juan</td>\n",
       "      <td>40</td>\n",
       "    </tr>\n",
       "    <tr>\n",
       "      <th>1</th>\n",
       "      <td>Pedro</td>\n",
       "      <td>25</td>\n",
       "    </tr>\n",
       "    <tr>\n",
       "      <th>2</th>\n",
       "      <td>Ana</td>\n",
       "      <td>30</td>\n",
       "    </tr>\n",
       "  </tbody>\n",
       "</table>\n",
       "</div>"
      ],
      "text/plain": [
       "  Nombre  Edad\n",
       "0   Juan    40\n",
       "1  Pedro    25\n",
       "2    Ana    30"
      ]
     },
     "execution_count": 141,
     "metadata": {},
     "output_type": "execute_result"
    }
   ],
   "source": [
    "# Escriba aquí su código\n",
    "df_01"
   ]
  },
  {
   "cell_type": "markdown",
   "metadata": {},
   "source": [
    "Agreguemos una columna más, la columna \"Nota\" con los valores 7,9 y 4"
   ]
  },
  {
   "cell_type": "code",
   "execution_count": 142,
   "metadata": {
    "ExecuteTime": {
     "end_time": "2020-10-09T20:09:18.962838Z",
     "start_time": "2020-10-09T20:09:18.958848Z"
    }
   },
   "outputs": [],
   "source": [
    "# Escriba aquí su código\n",
    "df_01[\"Notas\"]=[7,9,4]"
   ]
  },
  {
   "cell_type": "markdown",
   "metadata": {},
   "source": [
    "Veamos qué tenemos en df_01"
   ]
  },
  {
   "cell_type": "code",
   "execution_count": 143,
   "metadata": {
    "ExecuteTime": {
     "end_time": "2020-10-09T20:09:19.101471Z",
     "start_time": "2020-10-09T20:09:19.093488Z"
    }
   },
   "outputs": [
    {
     "data": {
      "text/html": [
       "<div>\n",
       "<style scoped>\n",
       "    .dataframe tbody tr th:only-of-type {\n",
       "        vertical-align: middle;\n",
       "    }\n",
       "\n",
       "    .dataframe tbody tr th {\n",
       "        vertical-align: top;\n",
       "    }\n",
       "\n",
       "    .dataframe thead th {\n",
       "        text-align: right;\n",
       "    }\n",
       "</style>\n",
       "<table border=\"1\" class=\"dataframe\">\n",
       "  <thead>\n",
       "    <tr style=\"text-align: right;\">\n",
       "      <th></th>\n",
       "      <th>Nombre</th>\n",
       "      <th>Edad</th>\n",
       "      <th>Notas</th>\n",
       "    </tr>\n",
       "  </thead>\n",
       "  <tbody>\n",
       "    <tr>\n",
       "      <th>0</th>\n",
       "      <td>Juan</td>\n",
       "      <td>40</td>\n",
       "      <td>7</td>\n",
       "    </tr>\n",
       "    <tr>\n",
       "      <th>1</th>\n",
       "      <td>Pedro</td>\n",
       "      <td>25</td>\n",
       "      <td>9</td>\n",
       "    </tr>\n",
       "    <tr>\n",
       "      <th>2</th>\n",
       "      <td>Ana</td>\n",
       "      <td>30</td>\n",
       "      <td>4</td>\n",
       "    </tr>\n",
       "  </tbody>\n",
       "</table>\n",
       "</div>"
      ],
      "text/plain": [
       "  Nombre  Edad  Notas\n",
       "0   Juan    40      7\n",
       "1  Pedro    25      9\n",
       "2    Ana    30      4"
      ]
     },
     "execution_count": 143,
     "metadata": {},
     "output_type": "execute_result"
    }
   ],
   "source": [
    "# Escriba aquí su código\n",
    "df_01"
   ]
  },
  {
   "cell_type": "markdown",
   "metadata": {
    "ExecuteTime": {
     "end_time": "2019-09-20T19:40:20.688644Z",
     "start_time": "2019-09-20T19:40:20.684657Z"
    }
   },
   "source": [
    "### Agregar filas con append()"
   ]
  },
  {
   "cell_type": "markdown",
   "metadata": {},
   "source": [
    "Una vez que se ha creado un DataFrame, es posible también agregar filas, cada fila nueva se debe agregar como una Serie"
   ]
  },
  {
   "cell_type": "code",
   "execution_count": 144,
   "metadata": {
    "ExecuteTime": {
     "end_time": "2020-10-09T20:09:19.314897Z",
     "start_time": "2020-10-09T20:09:19.310908Z"
    }
   },
   "outputs": [],
   "source": [
    "nueva_fila=pd.Series([\"carlos\",22,6],index=[\"Nombre\",\"Edad\",\"Notas\"])"
   ]
  },
  {
   "cell_type": "code",
   "execution_count": 145,
   "metadata": {
    "ExecuteTime": {
     "end_time": "2020-10-09T20:09:37.198245Z",
     "start_time": "2020-10-09T20:09:37.186278Z"
    }
   },
   "outputs": [
    {
     "data": {
      "text/html": [
       "<div>\n",
       "<style scoped>\n",
       "    .dataframe tbody tr th:only-of-type {\n",
       "        vertical-align: middle;\n",
       "    }\n",
       "\n",
       "    .dataframe tbody tr th {\n",
       "        vertical-align: top;\n",
       "    }\n",
       "\n",
       "    .dataframe thead th {\n",
       "        text-align: right;\n",
       "    }\n",
       "</style>\n",
       "<table border=\"1\" class=\"dataframe\">\n",
       "  <thead>\n",
       "    <tr style=\"text-align: right;\">\n",
       "      <th></th>\n",
       "      <th>Nombre</th>\n",
       "      <th>Edad</th>\n",
       "      <th>Notas</th>\n",
       "    </tr>\n",
       "  </thead>\n",
       "  <tbody>\n",
       "    <tr>\n",
       "      <th>0</th>\n",
       "      <td>Juan</td>\n",
       "      <td>40</td>\n",
       "      <td>7</td>\n",
       "    </tr>\n",
       "    <tr>\n",
       "      <th>1</th>\n",
       "      <td>Pedro</td>\n",
       "      <td>25</td>\n",
       "      <td>9</td>\n",
       "    </tr>\n",
       "    <tr>\n",
       "      <th>2</th>\n",
       "      <td>Ana</td>\n",
       "      <td>30</td>\n",
       "      <td>4</td>\n",
       "    </tr>\n",
       "    <tr>\n",
       "      <th>3</th>\n",
       "      <td>carlos</td>\n",
       "      <td>22</td>\n",
       "      <td>6</td>\n",
       "    </tr>\n",
       "  </tbody>\n",
       "</table>\n",
       "</div>"
      ],
      "text/plain": [
       "   Nombre  Edad  Notas\n",
       "0    Juan    40      7\n",
       "1   Pedro    25      9\n",
       "2     Ana    30      4\n",
       "3  carlos    22      6"
      ]
     },
     "execution_count": 145,
     "metadata": {},
     "output_type": "execute_result"
    }
   ],
   "source": [
    "df_01.append(nueva_fila,ignore_index=True)"
   ]
  },
  {
   "cell_type": "markdown",
   "metadata": {
    "ExecuteTime": {
     "end_time": "2019-10-04T20:27:05.146964Z",
     "start_time": "2019-10-04T20:27:05.140941Z"
    }
   },
   "source": [
    "Pero fíjese cómo es en realidad df_01"
   ]
  },
  {
   "cell_type": "code",
   "execution_count": 146,
   "metadata": {
    "ExecuteTime": {
     "end_time": "2019-12-17T18:43:34.544187Z",
     "start_time": "2019-12-17T18:43:34.536243Z"
    }
   },
   "outputs": [
    {
     "data": {
      "text/html": [
       "<div>\n",
       "<style scoped>\n",
       "    .dataframe tbody tr th:only-of-type {\n",
       "        vertical-align: middle;\n",
       "    }\n",
       "\n",
       "    .dataframe tbody tr th {\n",
       "        vertical-align: top;\n",
       "    }\n",
       "\n",
       "    .dataframe thead th {\n",
       "        text-align: right;\n",
       "    }\n",
       "</style>\n",
       "<table border=\"1\" class=\"dataframe\">\n",
       "  <thead>\n",
       "    <tr style=\"text-align: right;\">\n",
       "      <th></th>\n",
       "      <th>Nombre</th>\n",
       "      <th>Edad</th>\n",
       "      <th>Notas</th>\n",
       "    </tr>\n",
       "  </thead>\n",
       "  <tbody>\n",
       "    <tr>\n",
       "      <th>0</th>\n",
       "      <td>Juan</td>\n",
       "      <td>40</td>\n",
       "      <td>7</td>\n",
       "    </tr>\n",
       "    <tr>\n",
       "      <th>1</th>\n",
       "      <td>Pedro</td>\n",
       "      <td>25</td>\n",
       "      <td>9</td>\n",
       "    </tr>\n",
       "    <tr>\n",
       "      <th>2</th>\n",
       "      <td>Ana</td>\n",
       "      <td>30</td>\n",
       "      <td>4</td>\n",
       "    </tr>\n",
       "  </tbody>\n",
       "</table>\n",
       "</div>"
      ],
      "text/plain": [
       "  Nombre  Edad  Notas\n",
       "0   Juan    40      7\n",
       "1  Pedro    25      9\n",
       "2    Ana    30      4"
      ]
     },
     "execution_count": 146,
     "metadata": {},
     "output_type": "execute_result"
    }
   ],
   "source": [
    "# Escriba aquí su código\n",
    "df_01"
   ]
  },
  {
   "cell_type": "markdown",
   "metadata": {},
   "source": [
    "En realidad cuando hicimos el append *creó un nuevo dataframe* y mantuvo al anterior inalterado.  \n",
    "\n",
    "Si quisiéramos agregarlo finalmente, deberíamos asignar el resultado a df_01:"
   ]
  },
  {
   "cell_type": "code",
   "execution_count": 147,
   "metadata": {
    "ExecuteTime": {
     "end_time": "2019-12-17T18:43:34.563141Z",
     "start_time": "2019-12-17T18:43:34.547182Z"
    }
   },
   "outputs": [
    {
     "data": {
      "text/html": [
       "<div>\n",
       "<style scoped>\n",
       "    .dataframe tbody tr th:only-of-type {\n",
       "        vertical-align: middle;\n",
       "    }\n",
       "\n",
       "    .dataframe tbody tr th {\n",
       "        vertical-align: top;\n",
       "    }\n",
       "\n",
       "    .dataframe thead th {\n",
       "        text-align: right;\n",
       "    }\n",
       "</style>\n",
       "<table border=\"1\" class=\"dataframe\">\n",
       "  <thead>\n",
       "    <tr style=\"text-align: right;\">\n",
       "      <th></th>\n",
       "      <th>Nombre</th>\n",
       "      <th>Edad</th>\n",
       "      <th>Notas</th>\n",
       "    </tr>\n",
       "  </thead>\n",
       "  <tbody>\n",
       "    <tr>\n",
       "      <th>0</th>\n",
       "      <td>Juan</td>\n",
       "      <td>40</td>\n",
       "      <td>7</td>\n",
       "    </tr>\n",
       "    <tr>\n",
       "      <th>1</th>\n",
       "      <td>Pedro</td>\n",
       "      <td>25</td>\n",
       "      <td>9</td>\n",
       "    </tr>\n",
       "    <tr>\n",
       "      <th>2</th>\n",
       "      <td>Ana</td>\n",
       "      <td>30</td>\n",
       "      <td>4</td>\n",
       "    </tr>\n",
       "    <tr>\n",
       "      <th>3</th>\n",
       "      <td>carlos</td>\n",
       "      <td>22</td>\n",
       "      <td>6</td>\n",
       "    </tr>\n",
       "  </tbody>\n",
       "</table>\n",
       "</div>"
      ],
      "text/plain": [
       "   Nombre  Edad  Notas\n",
       "0    Juan    40      7\n",
       "1   Pedro    25      9\n",
       "2     Ana    30      4\n",
       "3  carlos    22      6"
      ]
     },
     "execution_count": 147,
     "metadata": {},
     "output_type": "execute_result"
    }
   ],
   "source": [
    "# Escriba aquí su código\n",
    "df_01=df_01.append(nueva_fila,ignore_index=True)\n",
    "# Muestre df_01\n",
    "df_01"
   ]
  },
  {
   "cell_type": "markdown",
   "metadata": {},
   "source": [
    "Si pasamos los índices, los podemos poner en cualquier orden:\n"
   ]
  },
  {
   "cell_type": "code",
   "execution_count": 148,
   "metadata": {},
   "outputs": [
    {
     "data": {
      "text/html": [
       "<div>\n",
       "<style scoped>\n",
       "    .dataframe tbody tr th:only-of-type {\n",
       "        vertical-align: middle;\n",
       "    }\n",
       "\n",
       "    .dataframe tbody tr th {\n",
       "        vertical-align: top;\n",
       "    }\n",
       "\n",
       "    .dataframe thead th {\n",
       "        text-align: right;\n",
       "    }\n",
       "</style>\n",
       "<table border=\"1\" class=\"dataframe\">\n",
       "  <thead>\n",
       "    <tr style=\"text-align: right;\">\n",
       "      <th></th>\n",
       "      <th>Nombre</th>\n",
       "      <th>Edad</th>\n",
       "      <th>Notas</th>\n",
       "    </tr>\n",
       "  </thead>\n",
       "  <tbody>\n",
       "    <tr>\n",
       "      <th>0</th>\n",
       "      <td>Juan</td>\n",
       "      <td>40</td>\n",
       "      <td>7</td>\n",
       "    </tr>\n",
       "    <tr>\n",
       "      <th>1</th>\n",
       "      <td>Pedro</td>\n",
       "      <td>25</td>\n",
       "      <td>9</td>\n",
       "    </tr>\n",
       "    <tr>\n",
       "      <th>2</th>\n",
       "      <td>Ana</td>\n",
       "      <td>30</td>\n",
       "      <td>4</td>\n",
       "    </tr>\n",
       "    <tr>\n",
       "      <th>3</th>\n",
       "      <td>carlos</td>\n",
       "      <td>22</td>\n",
       "      <td>6</td>\n",
       "    </tr>\n",
       "    <tr>\n",
       "      <th>4</th>\n",
       "      <td>Marta</td>\n",
       "      <td>19</td>\n",
       "      <td>4</td>\n",
       "    </tr>\n",
       "  </tbody>\n",
       "</table>\n",
       "</div>"
      ],
      "text/plain": [
       "   Nombre  Edad  Notas\n",
       "0    Juan    40      7\n",
       "1   Pedro    25      9\n",
       "2     Ana    30      4\n",
       "3  carlos    22      6\n",
       "4   Marta    19      4"
      ]
     },
     "execution_count": 148,
     "metadata": {},
     "output_type": "execute_result"
    }
   ],
   "source": [
    "nueva_fila_2=pd.Series([19,4,\"Marta\"],index=[\"Edad\",\"Notas\",\"Nombre\"])\n",
    "df_01=df_01.append(nueva_fila_2, ignore_index= True)\n",
    "df_01"
   ]
  },
  {
   "cell_type": "markdown",
   "metadata": {},
   "source": [
    "Agregue ahora los datos de Nota 4, para María que tiene 20 años y asigne el resultado a df_01:"
   ]
  },
  {
   "cell_type": "code",
   "execution_count": 149,
   "metadata": {
    "ExecuteTime": {
     "end_time": "2019-12-17T18:43:34.602040Z",
     "start_time": "2019-12-17T18:43:34.586074Z"
    }
   },
   "outputs": [
    {
     "data": {
      "text/html": [
       "<div>\n",
       "<style scoped>\n",
       "    .dataframe tbody tr th:only-of-type {\n",
       "        vertical-align: middle;\n",
       "    }\n",
       "\n",
       "    .dataframe tbody tr th {\n",
       "        vertical-align: top;\n",
       "    }\n",
       "\n",
       "    .dataframe thead th {\n",
       "        text-align: right;\n",
       "    }\n",
       "</style>\n",
       "<table border=\"1\" class=\"dataframe\">\n",
       "  <thead>\n",
       "    <tr style=\"text-align: right;\">\n",
       "      <th></th>\n",
       "      <th>Nombre</th>\n",
       "      <th>Edad</th>\n",
       "      <th>Notas</th>\n",
       "    </tr>\n",
       "  </thead>\n",
       "  <tbody>\n",
       "    <tr>\n",
       "      <th>0</th>\n",
       "      <td>Juan</td>\n",
       "      <td>40</td>\n",
       "      <td>7</td>\n",
       "    </tr>\n",
       "    <tr>\n",
       "      <th>1</th>\n",
       "      <td>Pedro</td>\n",
       "      <td>25</td>\n",
       "      <td>9</td>\n",
       "    </tr>\n",
       "    <tr>\n",
       "      <th>2</th>\n",
       "      <td>Ana</td>\n",
       "      <td>30</td>\n",
       "      <td>4</td>\n",
       "    </tr>\n",
       "    <tr>\n",
       "      <th>3</th>\n",
       "      <td>carlos</td>\n",
       "      <td>22</td>\n",
       "      <td>6</td>\n",
       "    </tr>\n",
       "    <tr>\n",
       "      <th>4</th>\n",
       "      <td>Marta</td>\n",
       "      <td>19</td>\n",
       "      <td>4</td>\n",
       "    </tr>\n",
       "    <tr>\n",
       "      <th>5</th>\n",
       "      <td>María</td>\n",
       "      <td>20</td>\n",
       "      <td>4</td>\n",
       "    </tr>\n",
       "  </tbody>\n",
       "</table>\n",
       "</div>"
      ],
      "text/plain": [
       "   Nombre  Edad  Notas\n",
       "0    Juan    40      7\n",
       "1   Pedro    25      9\n",
       "2     Ana    30      4\n",
       "3  carlos    22      6\n",
       "4   Marta    19      4\n",
       "5   María    20      4"
      ]
     },
     "execution_count": 149,
     "metadata": {},
     "output_type": "execute_result"
    }
   ],
   "source": [
    "# Escriba aquí su código\n",
    "nueva_fila_3=pd.Series([\"María\",20,4],index=[\"Nombre\",\"Edad\",\"Notas\"])\n",
    "df_01=df_01.append(nueva_fila_3, ignore_index= True)\n",
    "df_01"
   ]
  },
  {
   "cell_type": "markdown",
   "metadata": {},
   "source": [
    "También podemos agregar varias filas, una forma de hacerlo es agregar un nuevo dataframe:\n",
    "\n",
    "- Cree un nuevo DataFrame con las mismas columnas que df_01, llámelo df_02\n",
    "- Cargue los datos de \n",
    "    - Martín, 22 , 5\n",
    "    - Claudia, 19, 9\n",
    "    - Esteban, 24, 8"
   ]
  },
  {
   "cell_type": "code",
   "execution_count": 150,
   "metadata": {
    "ExecuteTime": {
     "end_time": "2019-09-20T19:54:40.704494Z",
     "start_time": "2019-09-20T19:54:40.700479Z"
    }
   },
   "outputs": [],
   "source": [
    "df_02=pd.DataFrame()"
   ]
  },
  {
   "cell_type": "code",
   "execution_count": 151,
   "metadata": {
    "ExecuteTime": {
     "end_time": "2019-12-17T18:43:34.616992Z",
     "start_time": "2019-12-17T18:43:34.605023Z"
    }
   },
   "outputs": [
    {
     "data": {
      "text/html": [
       "<div>\n",
       "<style scoped>\n",
       "    .dataframe tbody tr th:only-of-type {\n",
       "        vertical-align: middle;\n",
       "    }\n",
       "\n",
       "    .dataframe tbody tr th {\n",
       "        vertical-align: top;\n",
       "    }\n",
       "\n",
       "    .dataframe thead th {\n",
       "        text-align: right;\n",
       "    }\n",
       "</style>\n",
       "<table border=\"1\" class=\"dataframe\">\n",
       "  <thead>\n",
       "    <tr style=\"text-align: right;\">\n",
       "      <th></th>\n",
       "      <th>Nombre</th>\n",
       "      <th>Edad</th>\n",
       "      <th>Notas</th>\n",
       "    </tr>\n",
       "  </thead>\n",
       "  <tbody>\n",
       "    <tr>\n",
       "      <th>0</th>\n",
       "      <td>Martín</td>\n",
       "      <td>22</td>\n",
       "      <td>5</td>\n",
       "    </tr>\n",
       "    <tr>\n",
       "      <th>1</th>\n",
       "      <td>Claudia</td>\n",
       "      <td>19</td>\n",
       "      <td>9</td>\n",
       "    </tr>\n",
       "    <tr>\n",
       "      <th>2</th>\n",
       "      <td>Esteban</td>\n",
       "      <td>24</td>\n",
       "      <td>8</td>\n",
       "    </tr>\n",
       "  </tbody>\n",
       "</table>\n",
       "</div>"
      ],
      "text/plain": [
       "    Nombre  Edad  Notas\n",
       "0   Martín    22      5\n",
       "1  Claudia    19      9\n",
       "2  Esteban    24      8"
      ]
     },
     "execution_count": 151,
     "metadata": {},
     "output_type": "execute_result"
    }
   ],
   "source": [
    "# Escriba aquí su código\n",
    "df_02[\"Nombre\"]=[\"Martín\",\"Claudia\",\"Esteban\"]\n",
    "df_02[\"Edad\"]=[22,19,24]\n",
    "df_02[\"Notas\"]=[5,9,8]\n",
    "# Muestre df_02 para verificar\n",
    "df_02"
   ]
  },
  {
   "cell_type": "markdown",
   "metadata": {},
   "source": [
    "- Agregue estos datos a df_01\n",
    "- Mueste cómo quedó df_01"
   ]
  },
  {
   "cell_type": "code",
   "execution_count": 152,
   "metadata": {
    "ExecuteTime": {
     "end_time": "2019-12-17T18:43:34.627961Z",
     "start_time": "2019-12-17T18:43:34.618987Z"
    }
   },
   "outputs": [
    {
     "data": {
      "text/html": [
       "<div>\n",
       "<style scoped>\n",
       "    .dataframe tbody tr th:only-of-type {\n",
       "        vertical-align: middle;\n",
       "    }\n",
       "\n",
       "    .dataframe tbody tr th {\n",
       "        vertical-align: top;\n",
       "    }\n",
       "\n",
       "    .dataframe thead th {\n",
       "        text-align: right;\n",
       "    }\n",
       "</style>\n",
       "<table border=\"1\" class=\"dataframe\">\n",
       "  <thead>\n",
       "    <tr style=\"text-align: right;\">\n",
       "      <th></th>\n",
       "      <th>Nombre</th>\n",
       "      <th>Edad</th>\n",
       "      <th>Notas</th>\n",
       "    </tr>\n",
       "  </thead>\n",
       "  <tbody>\n",
       "    <tr>\n",
       "      <th>0</th>\n",
       "      <td>Juan</td>\n",
       "      <td>40</td>\n",
       "      <td>7</td>\n",
       "    </tr>\n",
       "    <tr>\n",
       "      <th>1</th>\n",
       "      <td>Pedro</td>\n",
       "      <td>25</td>\n",
       "      <td>9</td>\n",
       "    </tr>\n",
       "    <tr>\n",
       "      <th>2</th>\n",
       "      <td>Ana</td>\n",
       "      <td>30</td>\n",
       "      <td>4</td>\n",
       "    </tr>\n",
       "    <tr>\n",
       "      <th>3</th>\n",
       "      <td>carlos</td>\n",
       "      <td>22</td>\n",
       "      <td>6</td>\n",
       "    </tr>\n",
       "    <tr>\n",
       "      <th>4</th>\n",
       "      <td>Marta</td>\n",
       "      <td>19</td>\n",
       "      <td>4</td>\n",
       "    </tr>\n",
       "    <tr>\n",
       "      <th>5</th>\n",
       "      <td>María</td>\n",
       "      <td>20</td>\n",
       "      <td>4</td>\n",
       "    </tr>\n",
       "    <tr>\n",
       "      <th>6</th>\n",
       "      <td>Martín</td>\n",
       "      <td>22</td>\n",
       "      <td>5</td>\n",
       "    </tr>\n",
       "    <tr>\n",
       "      <th>7</th>\n",
       "      <td>Claudia</td>\n",
       "      <td>19</td>\n",
       "      <td>9</td>\n",
       "    </tr>\n",
       "    <tr>\n",
       "      <th>8</th>\n",
       "      <td>Esteban</td>\n",
       "      <td>24</td>\n",
       "      <td>8</td>\n",
       "    </tr>\n",
       "  </tbody>\n",
       "</table>\n",
       "</div>"
      ],
      "text/plain": [
       "    Nombre  Edad  Notas\n",
       "0     Juan    40      7\n",
       "1    Pedro    25      9\n",
       "2      Ana    30      4\n",
       "3   carlos    22      6\n",
       "4    Marta    19      4\n",
       "5    María    20      4\n",
       "6   Martín    22      5\n",
       "7  Claudia    19      9\n",
       "8  Esteban    24      8"
      ]
     },
     "execution_count": 152,
     "metadata": {},
     "output_type": "execute_result"
    }
   ],
   "source": [
    "# Escriba aquí su código\n",
    "df_01=df_01.append(df_02,ignore_index=True)\n",
    "df_01"
   ]
  },
  {
   "cell_type": "markdown",
   "metadata": {},
   "source": [
    "## Observando las características de un Data Frame"
   ]
  },
  {
   "cell_type": "markdown",
   "metadata": {},
   "source": [
    "### shape()"
   ]
  },
  {
   "cell_type": "markdown",
   "metadata": {},
   "source": [
    "Podemos conocer la cantidad de filas y columas con .shape()"
   ]
  },
  {
   "cell_type": "code",
   "execution_count": 153,
   "metadata": {
    "ExecuteTime": {
     "end_time": "2019-12-17T18:43:34.638961Z",
     "start_time": "2019-12-17T18:43:34.632950Z"
    }
   },
   "outputs": [
    {
     "data": {
      "text/plain": [
       "(9, 3)"
      ]
     },
     "execution_count": 153,
     "metadata": {},
     "output_type": "execute_result"
    }
   ],
   "source": [
    "df_01.shape"
   ]
  },
  {
   "cell_type": "markdown",
   "metadata": {
    "ExecuteTime": {
     "end_time": "2019-09-20T20:03:46.957997Z",
     "start_time": "2019-09-20T20:03:46.955007Z"
    }
   },
   "source": [
    "### describe()\n",
    "\n",
    "Esta es una gran herramienta para obtener mucha información sobre las columnas o variables numéricas con muy poco código!\n",
    "\n",
    "Nos ofrece: \n",
    "- Cantidad de valores \n",
    "- Media\n",
    "- Desvío Standard\n",
    "- Valor Mínimo\n",
    "- Valor para el 1er, 2do y 3er cuartil\n",
    "- Valor máximo  \n",
    "\n",
    "**Nota:** los cálculos anteriores **no** incluyen los *missing values*\n"
   ]
  },
  {
   "cell_type": "code",
   "execution_count": 101,
   "metadata": {
    "ExecuteTime": {
     "end_time": "2019-12-17T18:43:34.660873Z",
     "start_time": "2019-12-17T18:43:34.642922Z"
    }
   },
   "outputs": [
    {
     "data": {
      "text/html": [
       "<div>\n",
       "<style scoped>\n",
       "    .dataframe tbody tr th:only-of-type {\n",
       "        vertical-align: middle;\n",
       "    }\n",
       "\n",
       "    .dataframe tbody tr th {\n",
       "        vertical-align: top;\n",
       "    }\n",
       "\n",
       "    .dataframe thead th {\n",
       "        text-align: right;\n",
       "    }\n",
       "</style>\n",
       "<table border=\"1\" class=\"dataframe\">\n",
       "  <thead>\n",
       "    <tr style=\"text-align: right;\">\n",
       "      <th></th>\n",
       "      <th>Edad</th>\n",
       "      <th>Notas</th>\n",
       "    </tr>\n",
       "  </thead>\n",
       "  <tbody>\n",
       "    <tr>\n",
       "      <th>count</th>\n",
       "      <td>4.000000</td>\n",
       "      <td>4.000000</td>\n",
       "    </tr>\n",
       "    <tr>\n",
       "      <th>mean</th>\n",
       "      <td>29.250000</td>\n",
       "      <td>6.500000</td>\n",
       "    </tr>\n",
       "    <tr>\n",
       "      <th>std</th>\n",
       "      <td>7.889867</td>\n",
       "      <td>2.081666</td>\n",
       "    </tr>\n",
       "    <tr>\n",
       "      <th>min</th>\n",
       "      <td>22.000000</td>\n",
       "      <td>4.000000</td>\n",
       "    </tr>\n",
       "    <tr>\n",
       "      <th>25%</th>\n",
       "      <td>24.250000</td>\n",
       "      <td>5.500000</td>\n",
       "    </tr>\n",
       "    <tr>\n",
       "      <th>50%</th>\n",
       "      <td>27.500000</td>\n",
       "      <td>6.500000</td>\n",
       "    </tr>\n",
       "    <tr>\n",
       "      <th>75%</th>\n",
       "      <td>32.500000</td>\n",
       "      <td>7.500000</td>\n",
       "    </tr>\n",
       "    <tr>\n",
       "      <th>max</th>\n",
       "      <td>40.000000</td>\n",
       "      <td>9.000000</td>\n",
       "    </tr>\n",
       "  </tbody>\n",
       "</table>\n",
       "</div>"
      ],
      "text/plain": [
       "            Edad     Notas\n",
       "count   4.000000  4.000000\n",
       "mean   29.250000  6.500000\n",
       "std     7.889867  2.081666\n",
       "min    22.000000  4.000000\n",
       "25%    24.250000  5.500000\n",
       "50%    27.500000  6.500000\n",
       "75%    32.500000  7.500000\n",
       "max    40.000000  9.000000"
      ]
     },
     "execution_count": 101,
     "metadata": {},
     "output_type": "execute_result"
    }
   ],
   "source": [
    "df_01.describe()"
   ]
  },
  {
   "cell_type": "markdown",
   "metadata": {},
   "source": [
    "### unique()  Valores únicos de una columna"
   ]
  },
  {
   "cell_type": "markdown",
   "metadata": {},
   "source": [
    "obtengo la lista de los datos sin saber la cantidad de veces que se repite"
   ]
  },
  {
   "cell_type": "code",
   "execution_count": 159,
   "metadata": {
    "ExecuteTime": {
     "end_time": "2019-12-17T18:43:34.667854Z",
     "start_time": "2019-12-17T18:43:34.662868Z"
    }
   },
   "outputs": [
    {
     "data": {
      "text/plain": [
       "array(['Juan', 'Pedro', 'Ana', 'carlos', 'Marta', 'María', 'Martín',\n",
       "       'Claudia', 'Esteban'], dtype=object)"
      ]
     },
     "execution_count": 159,
     "metadata": {},
     "output_type": "execute_result"
    }
   ],
   "source": [
    "df_01.Nombre.unique()"
   ]
  },
  {
   "cell_type": "code",
   "execution_count": 158,
   "metadata": {},
   "outputs": [
    {
     "data": {
      "text/plain": [
       "array([40, 25, 30, 22, 19, 20, 24], dtype=int64)"
      ]
     },
     "execution_count": 158,
     "metadata": {},
     "output_type": "execute_result"
    }
   ],
   "source": [
    "df_01.Edad.unique()"
   ]
  },
  {
   "cell_type": "code",
   "execution_count": 157,
   "metadata": {},
   "outputs": [
    {
     "data": {
      "text/plain": [
       "array([7, 9, 4, 6, 5, 8], dtype=int64)"
      ]
     },
     "execution_count": 157,
     "metadata": {},
     "output_type": "execute_result"
    }
   ],
   "source": [
    "df_01.Notas.unique()"
   ]
  },
  {
   "cell_type": "markdown",
   "metadata": {},
   "source": [
    "### value_counts() Cantidad de Valores únicos de una columna "
   ]
  },
  {
   "cell_type": "markdown",
   "metadata": {},
   "source": [
    "obtengo la lista de datos y me dice cuantas veces se repite"
   ]
  },
  {
   "cell_type": "code",
   "execution_count": 154,
   "metadata": {
    "ExecuteTime": {
     "end_time": "2019-12-17T18:43:34.676831Z",
     "start_time": "2019-12-17T18:43:34.669851Z"
    }
   },
   "outputs": [
    {
     "data": {
      "text/plain": [
       "Marta      1\n",
       "Ana        1\n",
       "Juan       1\n",
       "Esteban    1\n",
       "Martín     1\n",
       "Pedro      1\n",
       "María      1\n",
       "carlos     1\n",
       "Claudia    1\n",
       "Name: Nombre, dtype: int64"
      ]
     },
     "execution_count": 154,
     "metadata": {},
     "output_type": "execute_result"
    }
   ],
   "source": [
    "df_01.Nombre.value_counts()"
   ]
  },
  {
   "cell_type": "code",
   "execution_count": 155,
   "metadata": {},
   "outputs": [
    {
     "data": {
      "text/plain": [
       "22    2\n",
       "19    2\n",
       "30    1\n",
       "24    1\n",
       "25    1\n",
       "40    1\n",
       "20    1\n",
       "Name: Edad, dtype: int64"
      ]
     },
     "execution_count": 155,
     "metadata": {},
     "output_type": "execute_result"
    }
   ],
   "source": [
    "df_01.Edad.value_counts()"
   ]
  },
  {
   "cell_type": "code",
   "execution_count": 156,
   "metadata": {},
   "outputs": [
    {
     "data": {
      "text/plain": [
       "4    3\n",
       "9    2\n",
       "8    1\n",
       "7    1\n",
       "6    1\n",
       "5    1\n",
       "Name: Notas, dtype: int64"
      ]
     },
     "execution_count": 156,
     "metadata": {},
     "output_type": "execute_result"
    }
   ],
   "source": [
    "df_01.Notas.value_counts()"
   ]
  },
  {
   "cell_type": "markdown",
   "metadata": {},
   "source": [
    "## Funciones agregadas por columnas"
   ]
  },
  {
   "cell_type": "markdown",
   "metadata": {
    "ExecuteTime": {
     "end_time": "2019-10-25T15:02:30.000807Z",
     "start_time": "2019-10-25T15:02:29.996818Z"
    }
   },
   "source": [
    "### Promedio"
   ]
  },
  {
   "cell_type": "markdown",
   "metadata": {},
   "source": [
    "También podemos obtener estos valores para cada columna de manera independiente, y como las columnas tienen nombre, ahora es más fácil referirise a ellas:\n",
    "\n",
    "Utilice nombreDataFrame.NombreColumna.Funcion()\n"
   ]
  },
  {
   "cell_type": "markdown",
   "metadata": {
    "ExecuteTime": {
     "end_time": "2019-10-04T20:30:02.535236Z",
     "start_time": "2019-10-04T20:30:02.529253Z"
    }
   },
   "source": [
    "Calcule el promedio de Edad:"
   ]
  },
  {
   "cell_type": "code",
   "execution_count": 160,
   "metadata": {
    "ExecuteTime": {
     "end_time": "2019-12-17T18:43:34.683812Z",
     "start_time": "2019-12-17T18:43:34.678825Z"
    }
   },
   "outputs": [
    {
     "data": {
      "text/plain": [
       "24.555555555555557"
      ]
     },
     "execution_count": 160,
     "metadata": {},
     "output_type": "execute_result"
    }
   ],
   "source": [
    "# Escriba aquí su código\n",
    "df_01.Edad.mean()"
   ]
  },
  {
   "cell_type": "code",
   "execution_count": 161,
   "metadata": {},
   "outputs": [
    {
     "data": {
      "text/plain": [
       "6.222222222222222"
      ]
     },
     "execution_count": 161,
     "metadata": {},
     "output_type": "execute_result"
    }
   ],
   "source": [
    "df_01.Notas.mean()"
   ]
  },
  {
   "cell_type": "markdown",
   "metadata": {},
   "source": [
    "si el valor no es numerico dará error"
   ]
  },
  {
   "cell_type": "markdown",
   "metadata": {},
   "source": [
    "### Desvío Standard"
   ]
  },
  {
   "cell_type": "markdown",
   "metadata": {},
   "source": [
    "Calcule el desvío standard para la Nota"
   ]
  },
  {
   "cell_type": "code",
   "execution_count": 163,
   "metadata": {
    "ExecuteTime": {
     "end_time": "2019-12-17T18:43:34.690796Z",
     "start_time": "2019-12-17T18:43:34.685807Z"
    }
   },
   "outputs": [
    {
     "data": {
      "text/plain": [
       "2.1081851067789197"
      ]
     },
     "execution_count": 163,
     "metadata": {},
     "output_type": "execute_result"
    }
   ],
   "source": [
    "# Escriba aquí su código\n",
    "df_01.Notas.std()"
   ]
  },
  {
   "cell_type": "code",
   "execution_count": 164,
   "metadata": {},
   "outputs": [
    {
     "data": {
      "text/plain": [
       "6.747427493332387"
      ]
     },
     "execution_count": 164,
     "metadata": {},
     "output_type": "execute_result"
    }
   ],
   "source": [
    "df_01.Edad.std()"
   ]
  },
  {
   "cell_type": "markdown",
   "metadata": {
    "ExecuteTime": {
     "end_time": "2019-10-25T15:03:13.226790Z",
     "start_time": "2019-10-25T15:03:13.222800Z"
    }
   },
   "source": [
    "### Mínimo"
   ]
  },
  {
   "cell_type": "markdown",
   "metadata": {},
   "source": [
    "Calcule la mínima Nota"
   ]
  },
  {
   "cell_type": "code",
   "execution_count": 165,
   "metadata": {
    "ExecuteTime": {
     "end_time": "2019-12-17T18:43:34.697774Z",
     "start_time": "2019-12-17T18:43:34.692788Z"
    }
   },
   "outputs": [
    {
     "data": {
      "text/plain": [
       "4"
      ]
     },
     "execution_count": 165,
     "metadata": {},
     "output_type": "execute_result"
    }
   ],
   "source": [
    "# Escriba aquí su código\n",
    "df_01.Notas.min()"
   ]
  },
  {
   "cell_type": "code",
   "execution_count": 167,
   "metadata": {},
   "outputs": [
    {
     "data": {
      "text/plain": [
       "19"
      ]
     },
     "execution_count": 167,
     "metadata": {},
     "output_type": "execute_result"
    }
   ],
   "source": [
    "df_01.Edad.min()"
   ]
  },
  {
   "cell_type": "markdown",
   "metadata": {},
   "source": [
    "### Máximo"
   ]
  },
  {
   "cell_type": "markdown",
   "metadata": {},
   "source": [
    "Calcule la mayor Edad"
   ]
  },
  {
   "cell_type": "code",
   "execution_count": 166,
   "metadata": {
    "ExecuteTime": {
     "end_time": "2019-12-17T18:43:34.706751Z",
     "start_time": "2019-12-17T18:43:34.699769Z"
    }
   },
   "outputs": [
    {
     "data": {
      "text/plain": [
       "9"
      ]
     },
     "execution_count": 166,
     "metadata": {},
     "output_type": "execute_result"
    }
   ],
   "source": [
    "df_01.Notas.max()"
   ]
  },
  {
   "cell_type": "code",
   "execution_count": 168,
   "metadata": {},
   "outputs": [
    {
     "data": {
      "text/plain": [
       "40"
      ]
     },
     "execution_count": 168,
     "metadata": {},
     "output_type": "execute_result"
    }
   ],
   "source": [
    "df_01.Edad.max()"
   ]
  },
  {
   "cell_type": "markdown",
   "metadata": {},
   "source": [
    "### Suma de toda la columna"
   ]
  },
  {
   "cell_type": "code",
   "execution_count": 24,
   "metadata": {
    "collapsed": true
   },
   "outputs": [
    {
     "ename": "NameError",
     "evalue": "name 'df_01' is not defined",
     "output_type": "error",
     "traceback": [
      "\u001b[1;31m---------------------------------------------------------------------------\u001b[0m",
      "\u001b[1;31mNameError\u001b[0m                                 Traceback (most recent call last)",
      "\u001b[1;32m<ipython-input-24-d29111dadad2>\u001b[0m in \u001b[0;36m<module>\u001b[1;34m\u001b[0m\n\u001b[1;32m----> 1\u001b[1;33m \u001b[0mdf_01\u001b[0m\u001b[1;33m.\u001b[0m\u001b[0mNotas\u001b[0m\u001b[1;33m.\u001b[0m\u001b[0msum\u001b[0m\u001b[1;33m(\u001b[0m\u001b[1;33m)\u001b[0m\u001b[1;33m\u001b[0m\u001b[1;33m\u001b[0m\u001b[0m\n\u001b[0m",
      "\u001b[1;31mNameError\u001b[0m: name 'df_01' is not defined"
     ]
    }
   ],
   "source": [
    "df_01.Notas.sum()"
   ]
  },
  {
   "cell_type": "code",
   "execution_count": null,
   "metadata": {},
   "outputs": [],
   "source": [
    "df_01.Edad.sum()"
   ]
  },
  {
   "cell_type": "markdown",
   "metadata": {},
   "source": [
    "## Cargar data frames desde un archivo "
   ]
  },
  {
   "cell_type": "code",
   "execution_count": 8,
   "metadata": {},
   "outputs": [
    {
     "data": {
      "text/html": [
       "<div>\n",
       "<style scoped>\n",
       "    .dataframe tbody tr th:only-of-type {\n",
       "        vertical-align: middle;\n",
       "    }\n",
       "\n",
       "    .dataframe tbody tr th {\n",
       "        vertical-align: top;\n",
       "    }\n",
       "\n",
       "    .dataframe thead th {\n",
       "        text-align: right;\n",
       "    }\n",
       "</style>\n",
       "<table border=\"1\" class=\"dataframe\">\n",
       "  <thead>\n",
       "    <tr style=\"text-align: right;\">\n",
       "      <th></th>\n",
       "      <th>5</th>\n",
       "      <th>0</th>\n",
       "      <th>4</th>\n",
       "      <th>2</th>\n",
       "      <th>3</th>\n",
       "    </tr>\n",
       "  </thead>\n",
       "  <tbody>\n",
       "    <tr>\n",
       "      <th>0</th>\n",
       "      <td>0</td>\n",
       "      <td>1</td>\n",
       "      <td>2</td>\n",
       "      <td>2</td>\n",
       "      <td>2</td>\n",
       "    </tr>\n",
       "    <tr>\n",
       "      <th>1</th>\n",
       "      <td>1</td>\n",
       "      <td>4</td>\n",
       "      <td>0</td>\n",
       "      <td>0</td>\n",
       "      <td>0</td>\n",
       "    </tr>\n",
       "    <tr>\n",
       "      <th>2</th>\n",
       "      <td>4</td>\n",
       "      <td>3</td>\n",
       "      <td>4</td>\n",
       "      <td>2</td>\n",
       "      <td>1</td>\n",
       "    </tr>\n",
       "    <tr>\n",
       "      <th>3</th>\n",
       "      <td>2</td>\n",
       "      <td>0</td>\n",
       "      <td>4</td>\n",
       "      <td>5</td>\n",
       "      <td>3</td>\n",
       "    </tr>\n",
       "    <tr>\n",
       "      <th>4</th>\n",
       "      <td>0</td>\n",
       "      <td>0</td>\n",
       "      <td>0</td>\n",
       "      <td>5</td>\n",
       "      <td>0</td>\n",
       "    </tr>\n",
       "    <tr>\n",
       "      <th>5</th>\n",
       "      <td>2</td>\n",
       "      <td>4</td>\n",
       "      <td>3</td>\n",
       "      <td>0</td>\n",
       "      <td>2</td>\n",
       "    </tr>\n",
       "    <tr>\n",
       "      <th>6</th>\n",
       "      <td>1</td>\n",
       "      <td>0</td>\n",
       "      <td>2</td>\n",
       "      <td>0</td>\n",
       "      <td>4</td>\n",
       "    </tr>\n",
       "    <tr>\n",
       "      <th>7</th>\n",
       "      <td>2</td>\n",
       "      <td>5</td>\n",
       "      <td>4</td>\n",
       "      <td>3</td>\n",
       "      <td>0</td>\n",
       "    </tr>\n",
       "    <tr>\n",
       "      <th>8</th>\n",
       "      <td>3</td>\n",
       "      <td>0</td>\n",
       "      <td>5</td>\n",
       "      <td>4</td>\n",
       "      <td>5</td>\n",
       "    </tr>\n",
       "  </tbody>\n",
       "</table>\n",
       "</div>"
      ],
      "text/plain": [
       "   5  0  4  2  3\n",
       "0  0  1  2  2  2\n",
       "1  1  4  0  0  0\n",
       "2  4  3  4  2  1\n",
       "3  2  0  4  5  3\n",
       "4  0  0  0  5  0\n",
       "5  2  4  3  0  2\n",
       "6  1  0  2  0  4\n",
       "7  2  5  4  3  0\n",
       "8  3  0  5  4  5"
      ]
     },
     "execution_count": 8,
     "metadata": {},
     "output_type": "execute_result"
    }
   ],
   "source": [
    "DatosArchivoR=pd.read_csv(\"datos/C1-ratings.csv\", sep=\";\")\n",
    "DatosArchivoR"
   ]
  },
  {
   "cell_type": "markdown",
   "metadata": {},
   "source": [
    "La lista creada no toma todos los datos, ya que al inicio toma los datos de la fila 0 como su cabecera, por lo que al agregar header = None determinamos que no tendrá cabecera"
   ]
  },
  {
   "cell_type": "code",
   "execution_count": 9,
   "metadata": {},
   "outputs": [
    {
     "data": {
      "text/html": [
       "<div>\n",
       "<style scoped>\n",
       "    .dataframe tbody tr th:only-of-type {\n",
       "        vertical-align: middle;\n",
       "    }\n",
       "\n",
       "    .dataframe tbody tr th {\n",
       "        vertical-align: top;\n",
       "    }\n",
       "\n",
       "    .dataframe thead th {\n",
       "        text-align: right;\n",
       "    }\n",
       "</style>\n",
       "<table border=\"1\" class=\"dataframe\">\n",
       "  <thead>\n",
       "    <tr style=\"text-align: right;\">\n",
       "      <th></th>\n",
       "      <th>0</th>\n",
       "      <th>1</th>\n",
       "      <th>2</th>\n",
       "      <th>3</th>\n",
       "      <th>4</th>\n",
       "    </tr>\n",
       "  </thead>\n",
       "  <tbody>\n",
       "    <tr>\n",
       "      <th>0</th>\n",
       "      <td>5</td>\n",
       "      <td>0</td>\n",
       "      <td>4</td>\n",
       "      <td>2</td>\n",
       "      <td>3</td>\n",
       "    </tr>\n",
       "    <tr>\n",
       "      <th>1</th>\n",
       "      <td>0</td>\n",
       "      <td>1</td>\n",
       "      <td>2</td>\n",
       "      <td>2</td>\n",
       "      <td>2</td>\n",
       "    </tr>\n",
       "    <tr>\n",
       "      <th>2</th>\n",
       "      <td>1</td>\n",
       "      <td>4</td>\n",
       "      <td>0</td>\n",
       "      <td>0</td>\n",
       "      <td>0</td>\n",
       "    </tr>\n",
       "    <tr>\n",
       "      <th>3</th>\n",
       "      <td>4</td>\n",
       "      <td>3</td>\n",
       "      <td>4</td>\n",
       "      <td>2</td>\n",
       "      <td>1</td>\n",
       "    </tr>\n",
       "    <tr>\n",
       "      <th>4</th>\n",
       "      <td>2</td>\n",
       "      <td>0</td>\n",
       "      <td>4</td>\n",
       "      <td>5</td>\n",
       "      <td>3</td>\n",
       "    </tr>\n",
       "    <tr>\n",
       "      <th>5</th>\n",
       "      <td>0</td>\n",
       "      <td>0</td>\n",
       "      <td>0</td>\n",
       "      <td>5</td>\n",
       "      <td>0</td>\n",
       "    </tr>\n",
       "    <tr>\n",
       "      <th>6</th>\n",
       "      <td>2</td>\n",
       "      <td>4</td>\n",
       "      <td>3</td>\n",
       "      <td>0</td>\n",
       "      <td>2</td>\n",
       "    </tr>\n",
       "    <tr>\n",
       "      <th>7</th>\n",
       "      <td>1</td>\n",
       "      <td>0</td>\n",
       "      <td>2</td>\n",
       "      <td>0</td>\n",
       "      <td>4</td>\n",
       "    </tr>\n",
       "    <tr>\n",
       "      <th>8</th>\n",
       "      <td>2</td>\n",
       "      <td>5</td>\n",
       "      <td>4</td>\n",
       "      <td>3</td>\n",
       "      <td>0</td>\n",
       "    </tr>\n",
       "    <tr>\n",
       "      <th>9</th>\n",
       "      <td>3</td>\n",
       "      <td>0</td>\n",
       "      <td>5</td>\n",
       "      <td>4</td>\n",
       "      <td>5</td>\n",
       "    </tr>\n",
       "  </tbody>\n",
       "</table>\n",
       "</div>"
      ],
      "text/plain": [
       "   0  1  2  3  4\n",
       "0  5  0  4  2  3\n",
       "1  0  1  2  2  2\n",
       "2  1  4  0  0  0\n",
       "3  4  3  4  2  1\n",
       "4  2  0  4  5  3\n",
       "5  0  0  0  5  0\n",
       "6  2  4  3  0  2\n",
       "7  1  0  2  0  4\n",
       "8  2  5  4  3  0\n",
       "9  3  0  5  4  5"
      ]
     },
     "execution_count": 9,
     "metadata": {},
     "output_type": "execute_result"
    }
   ],
   "source": [
    "DatosArchivoR=pd.read_csv(\"datos/C1-ratings.csv\", sep=\";\", header = None)\n",
    "DatosArchivoR"
   ]
  },
  {
   "cell_type": "markdown",
   "metadata": {},
   "source": [
    "## Ejercicio"
   ]
  },
  {
   "cell_type": "markdown",
   "metadata": {},
   "source": [
    "Crear una lista que tenga los datos de los archivos de Empleados, Mozos y personal de planta"
   ]
  },
  {
   "cell_type": "code",
   "execution_count": 11,
   "metadata": {},
   "outputs": [
    {
     "data": {
      "text/html": [
       "<div>\n",
       "<style scoped>\n",
       "    .dataframe tbody tr th:only-of-type {\n",
       "        vertical-align: middle;\n",
       "    }\n",
       "\n",
       "    .dataframe tbody tr th {\n",
       "        vertical-align: top;\n",
       "    }\n",
       "\n",
       "    .dataframe thead th {\n",
       "        text-align: right;\n",
       "    }\n",
       "</style>\n",
       "<table border=\"1\" class=\"dataframe\">\n",
       "  <thead>\n",
       "    <tr style=\"text-align: right;\">\n",
       "      <th></th>\n",
       "      <th>Legajo</th>\n",
       "      <th>Apellido</th>\n",
       "      <th>Nombre</th>\n",
       "      <th>Categoría</th>\n",
       "      <th>Antigüedad</th>\n",
       "      <th>Básico</th>\n",
       "    </tr>\n",
       "  </thead>\n",
       "  <tbody>\n",
       "    <tr>\n",
       "      <th>0</th>\n",
       "      <td>1236</td>\n",
       "      <td>García</td>\n",
       "      <td>Claudia</td>\n",
       "      <td>1</td>\n",
       "      <td>2</td>\n",
       "      <td>12000</td>\n",
       "    </tr>\n",
       "    <tr>\n",
       "      <th>1</th>\n",
       "      <td>1247</td>\n",
       "      <td>Moyano</td>\n",
       "      <td>Javier</td>\n",
       "      <td>2</td>\n",
       "      <td>5</td>\n",
       "      <td>16800</td>\n",
       "    </tr>\n",
       "    <tr>\n",
       "      <th>2</th>\n",
       "      <td>1250</td>\n",
       "      <td>Pérez</td>\n",
       "      <td>Raul</td>\n",
       "      <td>3</td>\n",
       "      <td>6</td>\n",
       "      <td>21600</td>\n",
       "    </tr>\n",
       "    <tr>\n",
       "      <th>3</th>\n",
       "      <td>1258</td>\n",
       "      <td>García</td>\n",
       "      <td>Pablo</td>\n",
       "      <td>5</td>\n",
       "      <td>7</td>\n",
       "      <td>31200</td>\n",
       "    </tr>\n",
       "    <tr>\n",
       "      <th>4</th>\n",
       "      <td>1269</td>\n",
       "      <td>Martínez</td>\n",
       "      <td>Carolina</td>\n",
       "      <td>6</td>\n",
       "      <td>8</td>\n",
       "      <td>36000</td>\n",
       "    </tr>\n",
       "    <tr>\n",
       "      <th>5</th>\n",
       "      <td>1280</td>\n",
       "      <td>López</td>\n",
       "      <td>Franco</td>\n",
       "      <td>8</td>\n",
       "      <td>9</td>\n",
       "      <td>45600</td>\n",
       "    </tr>\n",
       "    <tr>\n",
       "      <th>6</th>\n",
       "      <td>1291</td>\n",
       "      <td>Romero</td>\n",
       "      <td>Esteban</td>\n",
       "      <td>7</td>\n",
       "      <td>5</td>\n",
       "      <td>40800</td>\n",
       "    </tr>\n",
       "    <tr>\n",
       "      <th>7</th>\n",
       "      <td>1302</td>\n",
       "      <td>Gómez</td>\n",
       "      <td>Federico</td>\n",
       "      <td>9</td>\n",
       "      <td>4</td>\n",
       "      <td>50400</td>\n",
       "    </tr>\n",
       "    <tr>\n",
       "      <th>8</th>\n",
       "      <td>1313</td>\n",
       "      <td>López</td>\n",
       "      <td>Mirtha</td>\n",
       "      <td>5</td>\n",
       "      <td>2</td>\n",
       "      <td>31200</td>\n",
       "    </tr>\n",
       "    <tr>\n",
       "      <th>9</th>\n",
       "      <td>1324</td>\n",
       "      <td>Cabral</td>\n",
       "      <td>Mónica</td>\n",
       "      <td>4</td>\n",
       "      <td>3</td>\n",
       "      <td>26400</td>\n",
       "    </tr>\n",
       "    <tr>\n",
       "      <th>10</th>\n",
       "      <td>1335</td>\n",
       "      <td>Arias</td>\n",
       "      <td>Daniela</td>\n",
       "      <td>2</td>\n",
       "      <td>1</td>\n",
       "      <td>16800</td>\n",
       "    </tr>\n",
       "    <tr>\n",
       "      <th>11</th>\n",
       "      <td>1346</td>\n",
       "      <td>Pérez</td>\n",
       "      <td>Laura</td>\n",
       "      <td>6</td>\n",
       "      <td>4</td>\n",
       "      <td>36000</td>\n",
       "    </tr>\n",
       "    <tr>\n",
       "      <th>12</th>\n",
       "      <td>1357</td>\n",
       "      <td>Ruiz</td>\n",
       "      <td>Josefina</td>\n",
       "      <td>2</td>\n",
       "      <td>5</td>\n",
       "      <td>16800</td>\n",
       "    </tr>\n",
       "    <tr>\n",
       "      <th>13</th>\n",
       "      <td>1368</td>\n",
       "      <td>Lacasio</td>\n",
       "      <td>Giorgina</td>\n",
       "      <td>3</td>\n",
       "      <td>2</td>\n",
       "      <td>21600</td>\n",
       "    </tr>\n",
       "    <tr>\n",
       "      <th>14</th>\n",
       "      <td>1379</td>\n",
       "      <td>Barilá</td>\n",
       "      <td>Martina</td>\n",
       "      <td>4</td>\n",
       "      <td>6</td>\n",
       "      <td>26400</td>\n",
       "    </tr>\n",
       "    <tr>\n",
       "      <th>15</th>\n",
       "      <td>1390</td>\n",
       "      <td>Romero</td>\n",
       "      <td>Emilio</td>\n",
       "      <td>5</td>\n",
       "      <td>7</td>\n",
       "      <td>31200</td>\n",
       "    </tr>\n",
       "    <tr>\n",
       "      <th>16</th>\n",
       "      <td>1401</td>\n",
       "      <td>Yadarola</td>\n",
       "      <td>Adrián</td>\n",
       "      <td>6</td>\n",
       "      <td>5</td>\n",
       "      <td>36000</td>\n",
       "    </tr>\n",
       "    <tr>\n",
       "      <th>17</th>\n",
       "      <td>1412</td>\n",
       "      <td>Cornavaca</td>\n",
       "      <td>Esteban</td>\n",
       "      <td>4</td>\n",
       "      <td>8</td>\n",
       "      <td>26400</td>\n",
       "    </tr>\n",
       "    <tr>\n",
       "      <th>18</th>\n",
       "      <td>1423</td>\n",
       "      <td>Moreno</td>\n",
       "      <td>Romina</td>\n",
       "      <td>5</td>\n",
       "      <td>4</td>\n",
       "      <td>31200</td>\n",
       "    </tr>\n",
       "    <tr>\n",
       "      <th>19</th>\n",
       "      <td>1434</td>\n",
       "      <td>Limia</td>\n",
       "      <td>Josefina</td>\n",
       "      <td>2</td>\n",
       "      <td>2</td>\n",
       "      <td>16800</td>\n",
       "    </tr>\n",
       "    <tr>\n",
       "      <th>20</th>\n",
       "      <td>1445</td>\n",
       "      <td>Pérez</td>\n",
       "      <td>Sofia</td>\n",
       "      <td>3</td>\n",
       "      <td>1</td>\n",
       "      <td>21600</td>\n",
       "    </tr>\n",
       "    <tr>\n",
       "      <th>21</th>\n",
       "      <td>1456</td>\n",
       "      <td>Vargas</td>\n",
       "      <td>Carla</td>\n",
       "      <td>6</td>\n",
       "      <td>5</td>\n",
       "      <td>36000</td>\n",
       "    </tr>\n",
       "    <tr>\n",
       "      <th>22</th>\n",
       "      <td>1467</td>\n",
       "      <td>Rodriguez</td>\n",
       "      <td>Mariana</td>\n",
       "      <td>5</td>\n",
       "      <td>2</td>\n",
       "      <td>31200</td>\n",
       "    </tr>\n",
       "    <tr>\n",
       "      <th>23</th>\n",
       "      <td>1478</td>\n",
       "      <td>Fernandez</td>\n",
       "      <td>Roxana</td>\n",
       "      <td>4</td>\n",
       "      <td>4</td>\n",
       "      <td>26400</td>\n",
       "    </tr>\n",
       "    <tr>\n",
       "      <th>24</th>\n",
       "      <td>1489</td>\n",
       "      <td>Pereyra</td>\n",
       "      <td>Sabina</td>\n",
       "      <td>5</td>\n",
       "      <td>2</td>\n",
       "      <td>31200</td>\n",
       "    </tr>\n",
       "    <tr>\n",
       "      <th>25</th>\n",
       "      <td>1500</td>\n",
       "      <td>Rosales</td>\n",
       "      <td>Silvina</td>\n",
       "      <td>6</td>\n",
       "      <td>5</td>\n",
       "      <td>36000</td>\n",
       "    </tr>\n",
       "    <tr>\n",
       "      <th>26</th>\n",
       "      <td>1511</td>\n",
       "      <td>Pedraza</td>\n",
       "      <td>Rodrigo</td>\n",
       "      <td>2</td>\n",
       "      <td>4</td>\n",
       "      <td>16800</td>\n",
       "    </tr>\n",
       "    <tr>\n",
       "      <th>27</th>\n",
       "      <td>1522</td>\n",
       "      <td>Roca</td>\n",
       "      <td>David</td>\n",
       "      <td>3</td>\n",
       "      <td>5</td>\n",
       "      <td>21600</td>\n",
       "    </tr>\n",
       "    <tr>\n",
       "      <th>28</th>\n",
       "      <td>1533</td>\n",
       "      <td>Medrano</td>\n",
       "      <td>Ivan</td>\n",
       "      <td>5</td>\n",
       "      <td>7</td>\n",
       "      <td>31200</td>\n",
       "    </tr>\n",
       "    <tr>\n",
       "      <th>29</th>\n",
       "      <td>1544</td>\n",
       "      <td>Reyes</td>\n",
       "      <td>Raul</td>\n",
       "      <td>4</td>\n",
       "      <td>4</td>\n",
       "      <td>26400</td>\n",
       "    </tr>\n",
       "    <tr>\n",
       "      <th>30</th>\n",
       "      <td>1555</td>\n",
       "      <td>Lozano</td>\n",
       "      <td>Ricardo</td>\n",
       "      <td>5</td>\n",
       "      <td>8</td>\n",
       "      <td>31200</td>\n",
       "    </tr>\n",
       "    <tr>\n",
       "      <th>31</th>\n",
       "      <td>1566</td>\n",
       "      <td>Zaya</td>\n",
       "      <td>Estaban</td>\n",
       "      <td>6</td>\n",
       "      <td>5</td>\n",
       "      <td>36000</td>\n",
       "    </tr>\n",
       "    <tr>\n",
       "      <th>32</th>\n",
       "      <td>1577</td>\n",
       "      <td>Victori</td>\n",
       "      <td>Walter</td>\n",
       "      <td>5</td>\n",
       "      <td>2</td>\n",
       "      <td>31200</td>\n",
       "    </tr>\n",
       "    <tr>\n",
       "      <th>33</th>\n",
       "      <td>1588</td>\n",
       "      <td>Romero</td>\n",
       "      <td>Sergio</td>\n",
       "      <td>4</td>\n",
       "      <td>4</td>\n",
       "      <td>26400</td>\n",
       "    </tr>\n",
       "    <tr>\n",
       "      <th>34</th>\n",
       "      <td>1599</td>\n",
       "      <td>Peralta</td>\n",
       "      <td>Gustavo</td>\n",
       "      <td>5</td>\n",
       "      <td>5</td>\n",
       "      <td>31200</td>\n",
       "    </tr>\n",
       "    <tr>\n",
       "      <th>35</th>\n",
       "      <td>1610</td>\n",
       "      <td>Villagra</td>\n",
       "      <td>Gabriel</td>\n",
       "      <td>6</td>\n",
       "      <td>7</td>\n",
       "      <td>36000</td>\n",
       "    </tr>\n",
       "    <tr>\n",
       "      <th>36</th>\n",
       "      <td>1621</td>\n",
       "      <td>Villafañe</td>\n",
       "      <td>Mariano</td>\n",
       "      <td>5</td>\n",
       "      <td>8</td>\n",
       "      <td>31200</td>\n",
       "    </tr>\n",
       "    <tr>\n",
       "      <th>37</th>\n",
       "      <td>1632</td>\n",
       "      <td>Visintini</td>\n",
       "      <td>Jorge</td>\n",
       "      <td>5</td>\n",
       "      <td>9</td>\n",
       "      <td>31200</td>\n",
       "    </tr>\n",
       "  </tbody>\n",
       "</table>\n",
       "</div>"
      ],
      "text/plain": [
       "    Legajo   Apellido    Nombre  Categoría  Antigüedad  Básico\n",
       "0     1236     García   Claudia          1           2   12000\n",
       "1     1247     Moyano    Javier          2           5   16800\n",
       "2     1250      Pérez      Raul          3           6   21600\n",
       "3     1258     García     Pablo          5           7   31200\n",
       "4     1269   Martínez  Carolina          6           8   36000\n",
       "5     1280      López    Franco          8           9   45600\n",
       "6     1291     Romero   Esteban          7           5   40800\n",
       "7     1302      Gómez  Federico          9           4   50400\n",
       "8     1313      López    Mirtha          5           2   31200\n",
       "9     1324     Cabral    Mónica          4           3   26400\n",
       "10    1335      Arias   Daniela          2           1   16800\n",
       "11    1346      Pérez     Laura          6           4   36000\n",
       "12    1357       Ruiz  Josefina          2           5   16800\n",
       "13    1368    Lacasio  Giorgina          3           2   21600\n",
       "14    1379     Barilá   Martina          4           6   26400\n",
       "15    1390     Romero    Emilio          5           7   31200\n",
       "16    1401   Yadarola    Adrián          6           5   36000\n",
       "17    1412  Cornavaca   Esteban          4           8   26400\n",
       "18    1423     Moreno    Romina          5           4   31200\n",
       "19    1434      Limia  Josefina          2           2   16800\n",
       "20    1445      Pérez     Sofia          3           1   21600\n",
       "21    1456     Vargas     Carla          6           5   36000\n",
       "22    1467  Rodriguez   Mariana          5           2   31200\n",
       "23    1478  Fernandez    Roxana          4           4   26400\n",
       "24    1489    Pereyra    Sabina          5           2   31200\n",
       "25    1500    Rosales   Silvina          6           5   36000\n",
       "26    1511    Pedraza   Rodrigo          2           4   16800\n",
       "27    1522       Roca     David          3           5   21600\n",
       "28    1533    Medrano      Ivan          5           7   31200\n",
       "29    1544      Reyes      Raul          4           4   26400\n",
       "30    1555     Lozano   Ricardo          5           8   31200\n",
       "31    1566       Zaya   Estaban          6           5   36000\n",
       "32    1577    Victori    Walter          5           2   31200\n",
       "33    1588     Romero    Sergio          4           4   26400\n",
       "34    1599    Peralta   Gustavo          5           5   31200\n",
       "35    1610   Villagra   Gabriel          6           7   36000\n",
       "36    1621  Villafañe   Mariano          5           8   31200\n",
       "37    1632  Visintini     Jorge          5           9   31200"
      ]
     },
     "execution_count": 11,
     "metadata": {},
     "output_type": "execute_result"
    }
   ],
   "source": [
    "Empleados=pd.read_csv(\"datos/C1-Empleados.csv\", sep=\";\")\n",
    "Empleados"
   ]
  },
  {
   "cell_type": "code",
   "execution_count": 34,
   "metadata": {},
   "outputs": [
    {
     "data": {
      "text/html": [
       "<div>\n",
       "<style scoped>\n",
       "    .dataframe tbody tr th:only-of-type {\n",
       "        vertical-align: middle;\n",
       "    }\n",
       "\n",
       "    .dataframe tbody tr th {\n",
       "        vertical-align: top;\n",
       "    }\n",
       "\n",
       "    .dataframe thead th {\n",
       "        text-align: right;\n",
       "    }\n",
       "</style>\n",
       "<table border=\"1\" class=\"dataframe\">\n",
       "  <thead>\n",
       "    <tr style=\"text-align: right;\">\n",
       "      <th></th>\n",
       "      <th>Legajo</th>\n",
       "      <th>Categoría</th>\n",
       "      <th>Antigüedad</th>\n",
       "      <th>Básico</th>\n",
       "    </tr>\n",
       "  </thead>\n",
       "  <tbody>\n",
       "    <tr>\n",
       "      <th>count</th>\n",
       "      <td>38.000000</td>\n",
       "      <td>38.000000</td>\n",
       "      <td>38.000000</td>\n",
       "      <td>38.000000</td>\n",
       "    </tr>\n",
       "    <tr>\n",
       "      <th>mean</th>\n",
       "      <td>1429.157895</td>\n",
       "      <td>4.552632</td>\n",
       "      <td>4.789474</td>\n",
       "      <td>29052.631579</td>\n",
       "    </tr>\n",
       "    <tr>\n",
       "      <th>std</th>\n",
       "      <td>121.181465</td>\n",
       "      <td>1.735128</td>\n",
       "      <td>2.267966</td>\n",
       "      <td>8328.613552</td>\n",
       "    </tr>\n",
       "    <tr>\n",
       "      <th>min</th>\n",
       "      <td>1236.000000</td>\n",
       "      <td>1.000000</td>\n",
       "      <td>1.000000</td>\n",
       "      <td>12000.000000</td>\n",
       "    </tr>\n",
       "    <tr>\n",
       "      <th>25%</th>\n",
       "      <td>1326.750000</td>\n",
       "      <td>3.250000</td>\n",
       "      <td>3.250000</td>\n",
       "      <td>22800.000000</td>\n",
       "    </tr>\n",
       "    <tr>\n",
       "      <th>50%</th>\n",
       "      <td>1428.500000</td>\n",
       "      <td>5.000000</td>\n",
       "      <td>5.000000</td>\n",
       "      <td>31200.000000</td>\n",
       "    </tr>\n",
       "    <tr>\n",
       "      <th>75%</th>\n",
       "      <td>1530.250000</td>\n",
       "      <td>5.750000</td>\n",
       "      <td>6.750000</td>\n",
       "      <td>34800.000000</td>\n",
       "    </tr>\n",
       "    <tr>\n",
       "      <th>max</th>\n",
       "      <td>1632.000000</td>\n",
       "      <td>9.000000</td>\n",
       "      <td>9.000000</td>\n",
       "      <td>50400.000000</td>\n",
       "    </tr>\n",
       "  </tbody>\n",
       "</table>\n",
       "</div>"
      ],
      "text/plain": [
       "            Legajo  Categoría  Antigüedad        Básico\n",
       "count    38.000000  38.000000   38.000000     38.000000\n",
       "mean   1429.157895   4.552632    4.789474  29052.631579\n",
       "std     121.181465   1.735128    2.267966   8328.613552\n",
       "min    1236.000000   1.000000    1.000000  12000.000000\n",
       "25%    1326.750000   3.250000    3.250000  22800.000000\n",
       "50%    1428.500000   5.000000    5.000000  31200.000000\n",
       "75%    1530.250000   5.750000    6.750000  34800.000000\n",
       "max    1632.000000   9.000000    9.000000  50400.000000"
      ]
     },
     "execution_count": 34,
     "metadata": {},
     "output_type": "execute_result"
    }
   ],
   "source": [
    "Empleados.describe()"
   ]
  },
  {
   "cell_type": "code",
   "execution_count": 35,
   "metadata": {},
   "outputs": [
    {
     "data": {
      "text/plain": [
       "5    12\n",
       "6     7\n",
       "4     6\n",
       "2     5\n",
       "3     4\n",
       "9     1\n",
       "8     1\n",
       "7     1\n",
       "1     1\n",
       "Name: Categoría, dtype: int64"
      ]
     },
     "execution_count": 35,
     "metadata": {},
     "output_type": "execute_result"
    }
   ],
   "source": [
    "Empleados.Categoría.value_counts()"
   ]
  },
  {
   "cell_type": "code",
   "execution_count": 16,
   "metadata": {},
   "outputs": [
    {
     "data": {
      "text/html": [
       "<div>\n",
       "<style scoped>\n",
       "    .dataframe tbody tr th:only-of-type {\n",
       "        vertical-align: middle;\n",
       "    }\n",
       "\n",
       "    .dataframe tbody tr th {\n",
       "        vertical-align: top;\n",
       "    }\n",
       "\n",
       "    .dataframe thead th {\n",
       "        text-align: right;\n",
       "    }\n",
       "</style>\n",
       "<table border=\"1\" class=\"dataframe\">\n",
       "  <thead>\n",
       "    <tr style=\"text-align: right;\">\n",
       "      <th></th>\n",
       "      <th>0</th>\n",
       "      <th>1</th>\n",
       "      <th>2</th>\n",
       "      <th>3</th>\n",
       "      <th>4</th>\n",
       "    </tr>\n",
       "  </thead>\n",
       "  <tbody>\n",
       "    <tr>\n",
       "      <th>0</th>\n",
       "      <td>100</td>\n",
       "      <td>Garcia, Pablo</td>\n",
       "      <td>Experto</td>\n",
       "      <td>15.00</td>\n",
       "      <td>8530</td>\n",
       "    </tr>\n",
       "    <tr>\n",
       "      <th>1</th>\n",
       "      <td>50</td>\n",
       "      <td>Ramirez, Gustavo</td>\n",
       "      <td>Juniors</td>\n",
       "      <td>12.50</td>\n",
       "      <td>1248</td>\n",
       "    </tr>\n",
       "    <tr>\n",
       "      <th>2</th>\n",
       "      <td>75</td>\n",
       "      <td>Martinez, Sergio</td>\n",
       "      <td>Experto</td>\n",
       "      <td>15.00</td>\n",
       "      <td>2456</td>\n",
       "    </tr>\n",
       "    <tr>\n",
       "      <th>3</th>\n",
       "      <td>150</td>\n",
       "      <td>Diller, Mario</td>\n",
       "      <td>Juniors</td>\n",
       "      <td>12.50</td>\n",
       "      <td>9524</td>\n",
       "    </tr>\n",
       "    <tr>\n",
       "      <th>4</th>\n",
       "      <td>125</td>\n",
       "      <td>Romanutti, Juan</td>\n",
       "      <td>Master</td>\n",
       "      <td>14.25</td>\n",
       "      <td>2135</td>\n",
       "    </tr>\n",
       "    <tr>\n",
       "      <th>5</th>\n",
       "      <td>25</td>\n",
       "      <td>Casale, Ricardo</td>\n",
       "      <td>Master</td>\n",
       "      <td>14.25</td>\n",
       "      <td>2145</td>\n",
       "    </tr>\n",
       "    <tr>\n",
       "      <th>6</th>\n",
       "      <td>175</td>\n",
       "      <td>Molina, Hugo</td>\n",
       "      <td>Juniors</td>\n",
       "      <td>12.50</td>\n",
       "      <td>2954</td>\n",
       "    </tr>\n",
       "  </tbody>\n",
       "</table>\n",
       "</div>"
      ],
      "text/plain": [
       "     0                 1        2      3     4\n",
       "0  100     Garcia, Pablo  Experto  15.00  8530\n",
       "1   50  Ramirez, Gustavo  Juniors  12.50  1248\n",
       "2   75  Martinez, Sergio  Experto  15.00  2456\n",
       "3  150     Diller, Mario  Juniors  12.50  9524\n",
       "4  125   Romanutti, Juan   Master  14.25  2135\n",
       "5   25   Casale, Ricardo   Master  14.25  2145\n",
       "6  175      Molina, Hugo  Juniors  12.50  2954"
      ]
     },
     "execution_count": 16,
     "metadata": {},
     "output_type": "execute_result"
    }
   ],
   "source": [
    "Mozos=pd.read_csv(\"datos/C1-Mozos.csv\", sep=\",\", header= None)\n",
    "Mozos"
   ]
  },
  {
   "cell_type": "code",
   "execution_count": 21,
   "metadata": {},
   "outputs": [
    {
     "data": {
      "text/plain": [
       "Juniors    3\n",
       "Experto    2\n",
       "Master     2\n",
       "Name: 2, dtype: int64"
      ]
     },
     "execution_count": 21,
     "metadata": {},
     "output_type": "execute_result"
    }
   ],
   "source": [
    "# Al solo trabajar con la columna dos puedo determinar cuantas veces se repite cada puesto\n",
    "Mozos[2].value_counts()"
   ]
  },
  {
   "cell_type": "code",
   "execution_count": 33,
   "metadata": {},
   "outputs": [
    {
     "data": {
      "text/html": [
       "<div>\n",
       "<style scoped>\n",
       "    .dataframe tbody tr th:only-of-type {\n",
       "        vertical-align: middle;\n",
       "    }\n",
       "\n",
       "    .dataframe tbody tr th {\n",
       "        vertical-align: top;\n",
       "    }\n",
       "\n",
       "    .dataframe thead th {\n",
       "        text-align: right;\n",
       "    }\n",
       "</style>\n",
       "<table border=\"1\" class=\"dataframe\">\n",
       "  <thead>\n",
       "    <tr style=\"text-align: right;\">\n",
       "      <th></th>\n",
       "      <th>0</th>\n",
       "      <th>3</th>\n",
       "      <th>4</th>\n",
       "    </tr>\n",
       "  </thead>\n",
       "  <tbody>\n",
       "    <tr>\n",
       "      <th>count</th>\n",
       "      <td>7.000000</td>\n",
       "      <td>7.000000</td>\n",
       "      <td>7.000000</td>\n",
       "    </tr>\n",
       "    <tr>\n",
       "      <th>mean</th>\n",
       "      <td>100.000000</td>\n",
       "      <td>13.714286</td>\n",
       "      <td>4141.714286</td>\n",
       "    </tr>\n",
       "    <tr>\n",
       "      <th>std</th>\n",
       "      <td>54.006172</td>\n",
       "      <td>1.176405</td>\n",
       "      <td>3387.863177</td>\n",
       "    </tr>\n",
       "    <tr>\n",
       "      <th>min</th>\n",
       "      <td>25.000000</td>\n",
       "      <td>12.500000</td>\n",
       "      <td>1248.000000</td>\n",
       "    </tr>\n",
       "    <tr>\n",
       "      <th>25%</th>\n",
       "      <td>62.500000</td>\n",
       "      <td>12.500000</td>\n",
       "      <td>2140.000000</td>\n",
       "    </tr>\n",
       "    <tr>\n",
       "      <th>50%</th>\n",
       "      <td>100.000000</td>\n",
       "      <td>14.250000</td>\n",
       "      <td>2456.000000</td>\n",
       "    </tr>\n",
       "    <tr>\n",
       "      <th>75%</th>\n",
       "      <td>137.500000</td>\n",
       "      <td>14.625000</td>\n",
       "      <td>5742.000000</td>\n",
       "    </tr>\n",
       "    <tr>\n",
       "      <th>max</th>\n",
       "      <td>175.000000</td>\n",
       "      <td>15.000000</td>\n",
       "      <td>9524.000000</td>\n",
       "    </tr>\n",
       "  </tbody>\n",
       "</table>\n",
       "</div>"
      ],
      "text/plain": [
       "                0          3            4\n",
       "count    7.000000   7.000000     7.000000\n",
       "mean   100.000000  13.714286  4141.714286\n",
       "std     54.006172   1.176405  3387.863177\n",
       "min     25.000000  12.500000  1248.000000\n",
       "25%     62.500000  12.500000  2140.000000\n",
       "50%    100.000000  14.250000  2456.000000\n",
       "75%    137.500000  14.625000  5742.000000\n",
       "max    175.000000  15.000000  9524.000000"
      ]
     },
     "execution_count": 33,
     "metadata": {},
     "output_type": "execute_result"
    }
   ],
   "source": [
    "Mozos.describe()"
   ]
  },
  {
   "cell_type": "code",
   "execution_count": 15,
   "metadata": {},
   "outputs": [
    {
     "data": {
      "text/html": [
       "<div>\n",
       "<style scoped>\n",
       "    .dataframe tbody tr th:only-of-type {\n",
       "        vertical-align: middle;\n",
       "    }\n",
       "\n",
       "    .dataframe tbody tr th {\n",
       "        vertical-align: top;\n",
       "    }\n",
       "\n",
       "    .dataframe thead th {\n",
       "        text-align: right;\n",
       "    }\n",
       "</style>\n",
       "<table border=\"1\" class=\"dataframe\">\n",
       "  <thead>\n",
       "    <tr style=\"text-align: right;\">\n",
       "      <th></th>\n",
       "      <th>Código</th>\n",
       "      <th>Empleado</th>\n",
       "      <th>Tarea</th>\n",
       "      <th>FechaIngreso</th>\n",
       "      <th>AñoIngreso</th>\n",
       "      <th>Categoría</th>\n",
       "      <th>Básico</th>\n",
       "    </tr>\n",
       "  </thead>\n",
       "  <tbody>\n",
       "    <tr>\n",
       "      <th>0</th>\n",
       "      <td>127</td>\n",
       "      <td>Garcia, Claudia</td>\n",
       "      <td>Maestranza</td>\n",
       "      <td>01/06/2010</td>\n",
       "      <td>2010</td>\n",
       "      <td>1</td>\n",
       "      <td>4587</td>\n",
       "    </tr>\n",
       "    <tr>\n",
       "      <th>1</th>\n",
       "      <td>131</td>\n",
       "      <td>Moyano, Javier</td>\n",
       "      <td>Administrativo</td>\n",
       "      <td>01/12/2012</td>\n",
       "      <td>2012</td>\n",
       "      <td>2</td>\n",
       "      <td>1236</td>\n",
       "    </tr>\n",
       "    <tr>\n",
       "      <th>2</th>\n",
       "      <td>135</td>\n",
       "      <td>Perez, Raul</td>\n",
       "      <td>Cajero</td>\n",
       "      <td>01/08/2008</td>\n",
       "      <td>2008</td>\n",
       "      <td>3</td>\n",
       "      <td>7521</td>\n",
       "    </tr>\n",
       "    <tr>\n",
       "      <th>3</th>\n",
       "      <td>139</td>\n",
       "      <td>Echavarri, Pablo</td>\n",
       "      <td>Personal Auxiliar</td>\n",
       "      <td>01/06/2012</td>\n",
       "      <td>2012</td>\n",
       "      <td>1</td>\n",
       "      <td>3574</td>\n",
       "    </tr>\n",
       "    <tr>\n",
       "      <th>4</th>\n",
       "      <td>143</td>\n",
       "      <td>Daniotti, Carolina</td>\n",
       "      <td>Auxiliar Especializado</td>\n",
       "      <td>01/06/2010</td>\n",
       "      <td>2010</td>\n",
       "      <td>2</td>\n",
       "      <td>1594</td>\n",
       "    </tr>\n",
       "    <tr>\n",
       "      <th>5</th>\n",
       "      <td>147</td>\n",
       "      <td>Gonzalez, Franco</td>\n",
       "      <td>Vendedor</td>\n",
       "      <td>01/03/2014</td>\n",
       "      <td>2014</td>\n",
       "      <td>3</td>\n",
       "      <td>6545</td>\n",
       "    </tr>\n",
       "    <tr>\n",
       "      <th>6</th>\n",
       "      <td>151</td>\n",
       "      <td>Migotti, Esteban</td>\n",
       "      <td>Maestranza</td>\n",
       "      <td>01/08/2008</td>\n",
       "      <td>2008</td>\n",
       "      <td>1</td>\n",
       "      <td>3254</td>\n",
       "    </tr>\n",
       "    <tr>\n",
       "      <th>7</th>\n",
       "      <td>155</td>\n",
       "      <td>Gomez, Federico</td>\n",
       "      <td>Administrativo</td>\n",
       "      <td>01/06/2012</td>\n",
       "      <td>2012</td>\n",
       "      <td>5</td>\n",
       "      <td>2154</td>\n",
       "    </tr>\n",
       "  </tbody>\n",
       "</table>\n",
       "</div>"
      ],
      "text/plain": [
       "   Código            Empleado                   Tarea FechaIngreso  \\\n",
       "0     127     Garcia, Claudia              Maestranza   01/06/2010   \n",
       "1     131      Moyano, Javier          Administrativo   01/12/2012   \n",
       "2     135         Perez, Raul                  Cajero   01/08/2008   \n",
       "3     139    Echavarri, Pablo       Personal Auxiliar   01/06/2012   \n",
       "4     143  Daniotti, Carolina  Auxiliar Especializado   01/06/2010   \n",
       "5     147    Gonzalez, Franco                Vendedor   01/03/2014   \n",
       "6     151    Migotti, Esteban              Maestranza   01/08/2008   \n",
       "7     155     Gomez, Federico          Administrativo   01/06/2012   \n",
       "\n",
       "   AñoIngreso  Categoría  Básico  \n",
       "0        2010          1    4587  \n",
       "1        2012          2    1236  \n",
       "2        2008          3    7521  \n",
       "3        2012          1    3574  \n",
       "4        2010          2    1594  \n",
       "5        2014          3    6545  \n",
       "6        2008          1    3254  \n",
       "7        2012          5    2154  "
      ]
     },
     "execution_count": 15,
     "metadata": {},
     "output_type": "execute_result"
    }
   ],
   "source": [
    "PersonalPlanta=pd.read_csv(\"datos/C1-PersonalPlanta.csv\", sep=\";\")\n",
    "PersonalPlanta"
   ]
  },
  {
   "cell_type": "code",
   "execution_count": 22,
   "metadata": {},
   "outputs": [
    {
     "data": {
      "text/plain": [
       "Maestranza                2\n",
       "Administrativo            2\n",
       "Vendedor                  1\n",
       "Cajero                    1\n",
       "Auxiliar Especializado    1\n",
       "Personal Auxiliar         1\n",
       "Name: Tarea, dtype: int64"
      ]
     },
     "execution_count": 22,
     "metadata": {},
     "output_type": "execute_result"
    }
   ],
   "source": [
    "# Cantidad de veces que se repiten las tareas\n",
    "PersonalPlanta.Tarea.value_counts()"
   ]
  },
  {
   "cell_type": "code",
   "execution_count": 23,
   "metadata": {},
   "outputs": [
    {
     "data": {
      "text/plain": [
       "30465"
      ]
     },
     "execution_count": 23,
     "metadata": {},
     "output_type": "execute_result"
    }
   ],
   "source": [
    "PersonalPlanta.Básico.sum()"
   ]
  },
  {
   "cell_type": "code",
   "execution_count": 25,
   "metadata": {},
   "outputs": [
    {
     "data": {
      "text/plain": [
       "1236"
      ]
     },
     "execution_count": 25,
     "metadata": {},
     "output_type": "execute_result"
    }
   ],
   "source": [
    "PersonalPlanta.Básico.min()"
   ]
  },
  {
   "cell_type": "code",
   "execution_count": 26,
   "metadata": {},
   "outputs": [
    {
     "data": {
      "text/plain": [
       "7521"
      ]
     },
     "execution_count": 26,
     "metadata": {},
     "output_type": "execute_result"
    }
   ],
   "source": [
    "PersonalPlanta.Básico.max()"
   ]
  },
  {
   "cell_type": "code",
   "execution_count": 27,
   "metadata": {},
   "outputs": [
    {
     "data": {
      "text/plain": [
       "3808.125"
      ]
     },
     "execution_count": 27,
     "metadata": {},
     "output_type": "execute_result"
    }
   ],
   "source": [
    "PersonalPlanta.Básico.mean()"
   ]
  },
  {
   "cell_type": "code",
   "execution_count": 29,
   "metadata": {},
   "outputs": [
    {
     "data": {
      "text/plain": [
       "2283.44185308682"
      ]
     },
     "execution_count": 29,
     "metadata": {},
     "output_type": "execute_result"
    }
   ],
   "source": [
    "PersonalPlanta.Básico.std()"
   ]
  },
  {
   "cell_type": "code",
   "execution_count": 32,
   "metadata": {},
   "outputs": [
    {
     "data": {
      "text/html": [
       "<div>\n",
       "<style scoped>\n",
       "    .dataframe tbody tr th:only-of-type {\n",
       "        vertical-align: middle;\n",
       "    }\n",
       "\n",
       "    .dataframe tbody tr th {\n",
       "        vertical-align: top;\n",
       "    }\n",
       "\n",
       "    .dataframe thead th {\n",
       "        text-align: right;\n",
       "    }\n",
       "</style>\n",
       "<table border=\"1\" class=\"dataframe\">\n",
       "  <thead>\n",
       "    <tr style=\"text-align: right;\">\n",
       "      <th></th>\n",
       "      <th>Código</th>\n",
       "      <th>AñoIngreso</th>\n",
       "      <th>Categoría</th>\n",
       "      <th>Básico</th>\n",
       "    </tr>\n",
       "  </thead>\n",
       "  <tbody>\n",
       "    <tr>\n",
       "      <th>count</th>\n",
       "      <td>8.000000</td>\n",
       "      <td>8.00000</td>\n",
       "      <td>8.00000</td>\n",
       "      <td>8.000000</td>\n",
       "    </tr>\n",
       "    <tr>\n",
       "      <th>mean</th>\n",
       "      <td>141.000000</td>\n",
       "      <td>2010.75000</td>\n",
       "      <td>2.25000</td>\n",
       "      <td>3808.125000</td>\n",
       "    </tr>\n",
       "    <tr>\n",
       "      <th>std</th>\n",
       "      <td>9.797959</td>\n",
       "      <td>2.12132</td>\n",
       "      <td>1.38873</td>\n",
       "      <td>2283.441853</td>\n",
       "    </tr>\n",
       "    <tr>\n",
       "      <th>min</th>\n",
       "      <td>127.000000</td>\n",
       "      <td>2008.00000</td>\n",
       "      <td>1.00000</td>\n",
       "      <td>1236.000000</td>\n",
       "    </tr>\n",
       "    <tr>\n",
       "      <th>25%</th>\n",
       "      <td>134.000000</td>\n",
       "      <td>2009.50000</td>\n",
       "      <td>1.00000</td>\n",
       "      <td>2014.000000</td>\n",
       "    </tr>\n",
       "    <tr>\n",
       "      <th>50%</th>\n",
       "      <td>141.000000</td>\n",
       "      <td>2011.00000</td>\n",
       "      <td>2.00000</td>\n",
       "      <td>3414.000000</td>\n",
       "    </tr>\n",
       "    <tr>\n",
       "      <th>75%</th>\n",
       "      <td>148.000000</td>\n",
       "      <td>2012.00000</td>\n",
       "      <td>3.00000</td>\n",
       "      <td>5076.500000</td>\n",
       "    </tr>\n",
       "    <tr>\n",
       "      <th>max</th>\n",
       "      <td>155.000000</td>\n",
       "      <td>2014.00000</td>\n",
       "      <td>5.00000</td>\n",
       "      <td>7521.000000</td>\n",
       "    </tr>\n",
       "  </tbody>\n",
       "</table>\n",
       "</div>"
      ],
      "text/plain": [
       "           Código  AñoIngreso  Categoría       Básico\n",
       "count    8.000000     8.00000    8.00000     8.000000\n",
       "mean   141.000000  2010.75000    2.25000  3808.125000\n",
       "std      9.797959     2.12132    1.38873  2283.441853\n",
       "min    127.000000  2008.00000    1.00000  1236.000000\n",
       "25%    134.000000  2009.50000    1.00000  2014.000000\n",
       "50%    141.000000  2011.00000    2.00000  3414.000000\n",
       "75%    148.000000  2012.00000    3.00000  5076.500000\n",
       "max    155.000000  2014.00000    5.00000  7521.000000"
      ]
     },
     "execution_count": 32,
     "metadata": {},
     "output_type": "execute_result"
    }
   ],
   "source": [
    "PersonalPlanta.describe()"
   ]
  },
  {
   "cell_type": "code",
   "execution_count": null,
   "metadata": {},
   "outputs": [],
   "source": []
  }
 ],
 "metadata": {
  "hide_input": false,
  "kernelspec": {
   "display_name": "Python 3",
   "language": "python",
   "name": "python3"
  },
  "language_info": {
   "codemirror_mode": {
    "name": "ipython",
    "version": 3
   },
   "file_extension": ".py",
   "mimetype": "text/x-python",
   "name": "python",
   "nbconvert_exporter": "python",
   "pygments_lexer": "ipython3",
   "version": "3.8.5"
  },
  "toc": {
   "base_numbering": 1,
   "nav_menu": {},
   "number_sections": true,
   "sideBar": true,
   "skip_h1_title": true,
   "title_cell": "Table of Contents",
   "title_sidebar": "Contents",
   "toc_cell": true,
   "toc_position": {
    "height": "calc(100% - 180px)",
    "left": "10px",
    "top": "150px",
    "width": "186px"
   },
   "toc_section_display": true,
   "toc_window_display": true
  },
  "varInspector": {
   "cols": {
    "lenName": 16,
    "lenType": 16,
    "lenVar": 40
   },
   "kernels_config": {
    "python": {
     "delete_cmd_postfix": "",
     "delete_cmd_prefix": "del ",
     "library": "var_list.py",
     "varRefreshCmd": "print(var_dic_list())"
    },
    "r": {
     "delete_cmd_postfix": ") ",
     "delete_cmd_prefix": "rm(",
     "library": "var_list.r",
     "varRefreshCmd": "cat(var_dic_list()) "
    }
   },
   "types_to_exclude": [
    "module",
    "function",
    "builtin_function_or_method",
    "instance",
    "_Feature"
   ],
   "window_display": false
  }
 },
 "nbformat": 4,
 "nbformat_minor": 2
}
