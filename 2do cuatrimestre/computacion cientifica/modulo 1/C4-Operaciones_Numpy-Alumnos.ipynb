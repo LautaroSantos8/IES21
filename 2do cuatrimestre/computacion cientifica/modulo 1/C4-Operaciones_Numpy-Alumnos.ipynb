{
 "cells": [
  {
   "cell_type": "markdown",
   "metadata": {
    "toc": true
   },
   "source": [
    "![imagen](https://encrypted-tbn0.gstatic.com/images?q=tbn:ANd9GcSRv7-9e8oYLYuPJ2mPM3YOlHoKFiHaQCFClWRKVBOzUe1CWABtg5QtluntYIxiHgpYNdw&usqp=CAU)\n",
    "\n",
    "# Computación Científica"
   ]
  },
  {
   "cell_type": "markdown",
   "metadata": {},
   "source": [
    "## Situación profesional\n",
    "Una empresa que brinda el servicio de *streaming* de películas por internet quiere implementar un **Sistema de Recomendación (SR o RS en inglés)** para su usuarios, de tal manera de poder sugerir, dentro de las películas que aún no ha visto, cuál podría ser la que más le gustará.  \n",
    "Para ello en su plataforma solicitan a cada usuario que califique la película que acaba de ver.  \n",
    "\n",
    "- La calificación (rating) asume valores de 1 a 5, siendo 1 la peor calificación y 5 la mejor.  \n",
    "- Se establece el valor 0 para aquellas películas que no han sido calificadas por los usuarios. "
   ]
  },
  {
   "cell_type": "markdown",
   "metadata": {},
   "source": [
    "# Algebra en Python: NumPy"
   ]
  },
  {
   "cell_type": "markdown",
   "metadata": {},
   "source": [
    "La solución de este problema nos obligará a realizar un intenso trabajo **algebraico** tendremos que trabajar con datos, organizados en forma de vectores y matrices y oportunamente deberemos recurrir a operaciones como el producto interno o producto punto para efectuar cálculos de distancias o ángulos como los que ha aprendido en la materia Álgebra.  \n",
    "\n",
    "Afortunadamente Python cuenta con librerías adecuadas para esta tarea, como NumPy que nos permitirá resolver estas operaciones en forma **eficiente** ya que muchas de sus operaciones están precompiladas en lenguaje C, que es muy veloz a la hora de ejecutar el código, pero contaremos con la facilidad de un lenguaje como Python."
   ]
  },
  {
   "cell_type": "markdown",
   "metadata": {},
   "source": [
    "### Creación de arrays en NumPy"
   ]
  },
  {
   "cell_type": "markdown",
   "metadata": {},
   "source": [
    "Para crear el array usamos:  \n",
    "\n",
    "**np.array()**  \n",
    "\n",
    "y dentro del paréntesis los elementos se enumeran como una **secuencia** entre corchetes y separados por coma:  \n",
    "\n",
    "**np.array([ secuencia de elementos separados por coma ])**\n",
    "\n",
    "Recordemos que lo primero que debemos hacer es importar Numpy."
   ]
  },
  {
   "cell_type": "code",
   "execution_count": 2,
   "metadata": {},
   "outputs": [
    {
     "name": "stdout",
     "output_type": "stream",
     "text": [
      "[1 2 3]\n"
     ]
    }
   ],
   "source": [
    "# Importamos la libreria\n",
    "import numpy as np\n",
    "# Creamos un vector\n",
    "vector = np.array([1,2,3])\n",
    "# Mostramos el vector\n",
    "print(vector)"
   ]
  },
  {
   "cell_type": "markdown",
   "metadata": {},
   "source": [
    "Para crear una **matriz** se hace del mismo modo, só que se debe tener en cuenta que se enumera una lista de vectores dentro de los corchetes.\n",
    "\n",
    "Recordemos que desde el punto de vista de NumPy una matriz será una secuencia de vectores, y un vector era una secuencia de números ...\n",
    "\n",
    "\n",
    "np.array([ [ fila 1 ],[ fila 2 ],...,[ fila n ] ])"
   ]
  },
  {
   "cell_type": "code",
   "execution_count": 3,
   "metadata": {},
   "outputs": [
    {
     "name": "stdout",
     "output_type": "stream",
     "text": [
      "[[1 2]\n",
      " [3 4]]\n"
     ]
    }
   ],
   "source": [
    "import numpy as np\n",
    "matriz = np.array([[1,2],[3,4]])\n",
    "print(matriz)"
   ]
  },
  {
   "cell_type": "markdown",
   "metadata": {},
   "source": [
    "### Propiedades: .ndim, .shape, .size \n",
    "\n",
    "* ndim: cantidad de ejes. (Dimensiones)\n",
    "* shape: cantidad de elementos de cada eje. (cantidad de elementos de cada dimensión, forma)\n",
    "* size: cantidad de elementos de la estructura. (Tamaño, talla)"
   ]
  },
  {
   "cell_type": "code",
   "execution_count": 15,
   "metadata": {},
   "outputs": [
    {
     "name": "stdout",
     "output_type": "stream",
     "text": [
      "dimension: 1\n",
      "forma: (3,)\n",
      "tamaño: 3\n"
     ]
    }
   ],
   "source": [
    "# Cantidad de ejes del vector\n",
    "dimension= vector.ndim\n",
    "# Cantidad de elementos en cada eje\n",
    "forma= vector.shape\n",
    "# Cantidad de elementos en el vector\n",
    "tamaño= vector.size\n",
    "print(f\"dimension: {dimension}\")\n",
    "print(f\"forma: {forma}\")\n",
    "print(f\"tamaño: {tamaño}\")"
   ]
  },
  {
   "cell_type": "code",
   "execution_count": 14,
   "metadata": {},
   "outputs": [
    {
     "name": "stdout",
     "output_type": "stream",
     "text": [
      "dimension: 2\n",
      "forma: (2, 2)\n",
      "tamaño4\n"
     ]
    }
   ],
   "source": [
    "# Cantidad de ejes del vector\n",
    "dim= matriz.ndim\n",
    "# Cantidad de elementos en cada eje\n",
    "form= matriz.shape\n",
    "# Cantidad de elementos en el vector\n",
    "tam= matriz.size\n",
    "print(f\"dimension: {dim}\")\n",
    "print(f\"forma: {form}\")\n",
    "print(f\"tamaño: {tam}\")"
   ]
  },
  {
   "cell_type": "markdown",
   "metadata": {},
   "source": [
    "## Operaciones con arrays en NumPy"
   ]
  },
  {
   "cell_type": "markdown",
   "metadata": {},
   "source": [
    "### Operaciones básicas\n",
    "\n",
    "Se pueden realizar operaciones entre un vector y un escalar:\n",
    "* Suma: +\n",
    "* Resta: -\n",
    "* Producto: *\n",
    "* División: /\n",
    "* Potencia: **\n",
    "* División entera: //\n",
    "* Resto de la División: %"
   ]
  },
  {
   "cell_type": "code",
   "execution_count": 21,
   "metadata": {},
   "outputs": [
    {
     "name": "stdout",
     "output_type": "stream",
     "text": [
      "[1 2 3 6]\n",
      "[3 4 5 8]\n"
     ]
    }
   ],
   "source": [
    "# Le sumamos 2 a cada elemento del vector \n",
    "import numpy as no\n",
    "vector = np.array ([1,2,3,6])\n",
    "print(vector)\n",
    "print(vector+2)\n"
   ]
  },
  {
   "cell_type": "code",
   "execution_count": 19,
   "metadata": {},
   "outputs": [
    {
     "name": "stdout",
     "output_type": "stream",
     "text": [
      "[1 2 3 6]\n",
      "[-1  0  1  4]\n"
     ]
    }
   ],
   "source": [
    "# Le restamos 2 a cada elemento del vector \n",
    "import numpy as no\n",
    "vector = np.array ([1,2,3,6])\n",
    "print(vector)\n",
    "print(vector-2)"
   ]
  },
  {
   "cell_type": "code",
   "execution_count": 22,
   "metadata": {},
   "outputs": [
    {
     "name": "stdout",
     "output_type": "stream",
     "text": [
      "[1 2 3 6]\n",
      "[ 2  4  6 12]\n"
     ]
    }
   ],
   "source": [
    "# Multiplicamos por 2 aa cada elemento del vector \n",
    "import numpy as no\n",
    "vector = np.array ([1,2,3,6])\n",
    "print(vector)\n",
    "print(vector*2)"
   ]
  },
  {
   "cell_type": "code",
   "execution_count": 23,
   "metadata": {},
   "outputs": [
    {
     "name": "stdout",
     "output_type": "stream",
     "text": [
      "[1 2 3 6]\n",
      "[0.5 1.  1.5 3. ]\n"
     ]
    }
   ],
   "source": [
    "# dividimos por 2 aa cada elemento del vector \n",
    "import numpy as no\n",
    "vector = np.array ([1,2,3,6])\n",
    "print(vector)\n",
    "print(vector/2)"
   ]
  },
  {
   "cell_type": "code",
   "execution_count": 24,
   "metadata": {},
   "outputs": [
    {
     "name": "stdout",
     "output_type": "stream",
     "text": [
      "[1 2 3 6]\n",
      "[0 1 1 3]\n"
     ]
    }
   ],
   "source": [
    "# Dividimos entero por 2 aa cada elemento del vector \n",
    "import numpy as no\n",
    "vector = np.array ([1,2,3,6])\n",
    "print(vector)\n",
    "print(vector//2)"
   ]
  },
  {
   "cell_type": "code",
   "execution_count": 25,
   "metadata": {},
   "outputs": [
    {
     "name": "stdout",
     "output_type": "stream",
     "text": [
      "[1 2 3 6]\n",
      "[1 0 1 0]\n"
     ]
    }
   ],
   "source": [
    "# Encontramos los restos de la division anterior\n",
    "import numpy as no\n",
    "vector = np.array ([1,2,3,6])\n",
    "print(vector)\n",
    "print(vector%2)"
   ]
  },
  {
   "cell_type": "code",
   "execution_count": 26,
   "metadata": {},
   "outputs": [
    {
     "name": "stdout",
     "output_type": "stream",
     "text": [
      "[1 2 3 6]\n",
      "[ 1  4  9 36]\n"
     ]
    }
   ],
   "source": [
    "# Elevamos al cuadrado los elementos del vector\n",
    "import numpy as no\n",
    "vector = np.array ([1,2,3,6])\n",
    "print(vector)\n",
    "print(vector**2)"
   ]
  },
  {
   "cell_type": "markdown",
   "metadata": {},
   "source": [
    "### Del mismo modo ocurre con las matrices"
   ]
  },
  {
   "cell_type": "code",
   "execution_count": 5,
   "metadata": {},
   "outputs": [
    {
     "name": "stdout",
     "output_type": "stream",
     "text": [
      "[[1 2]\n",
      " [3 6]]\n",
      "[[3 4]\n",
      " [5 8]]\n"
     ]
    }
   ],
   "source": [
    "# Le sumamos 2 a cada elemento de la matriz\n",
    "import numpy as no\n",
    "matriz = np.array ([[1,2],[3,6]])\n",
    "print(matriz)\n",
    "print(matriz+2)"
   ]
  },
  {
   "cell_type": "code",
   "execution_count": 6,
   "metadata": {},
   "outputs": [
    {
     "name": "stdout",
     "output_type": "stream",
     "text": [
      "[[1 2]\n",
      " [3 6]]\n",
      "[[-1  0]\n",
      " [ 1  4]]\n"
     ]
    }
   ],
   "source": [
    "# Le restamos 2 a cada elemento de la matriz\n",
    "import numpy as no\n",
    "matriz = np.array ([[1,2],[3,6]])\n",
    "print(matriz)\n",
    "print(matriz-2)"
   ]
  },
  {
   "cell_type": "code",
   "execution_count": 7,
   "metadata": {},
   "outputs": [
    {
     "name": "stdout",
     "output_type": "stream",
     "text": [
      "[[1 2]\n",
      " [3 6]]\n",
      "[[ 2  4]\n",
      " [ 6 12]]\n"
     ]
    }
   ],
   "source": [
    "# lo multiplicamos por 2 a cada elemento de la matriz\n",
    "import numpy as no\n",
    "matriz = np.array ([[1,2],[3,6]])\n",
    "print(matriz)\n",
    "print(matriz*2)"
   ]
  },
  {
   "cell_type": "code",
   "execution_count": 8,
   "metadata": {},
   "outputs": [
    {
     "name": "stdout",
     "output_type": "stream",
     "text": [
      "[[1 2]\n",
      " [3 6]]\n",
      "[[0.5 1. ]\n",
      " [1.5 3. ]]\n"
     ]
    }
   ],
   "source": [
    "# lo dividimos por 2 a cada elemento de la matriz\n",
    "import numpy as no\n",
    "matriz = np.array ([[1,2],[3,6]])\n",
    "print(matriz)\n",
    "print(matriz/2)"
   ]
  },
  {
   "cell_type": "code",
   "execution_count": 9,
   "metadata": {},
   "outputs": [
    {
     "name": "stdout",
     "output_type": "stream",
     "text": [
      "[[1 2]\n",
      " [3 6]]\n",
      "[[0 1]\n",
      " [1 3]]\n"
     ]
    }
   ],
   "source": [
    "# lo dividimos de forma entera por 2 a cada elemento de la matriz\n",
    "import numpy as no\n",
    "matriz = np.array ([[1,2],[3,6]])\n",
    "print(matriz)\n",
    "print(matriz//2)"
   ]
  },
  {
   "cell_type": "code",
   "execution_count": 10,
   "metadata": {},
   "outputs": [
    {
     "name": "stdout",
     "output_type": "stream",
     "text": [
      "[[1 2]\n",
      " [3 6]]\n",
      "[[1 0]\n",
      " [1 0]]\n"
     ]
    }
   ],
   "source": [
    "# mostramos el resto de la division entera por 2 a cada elemento de la matriz\n",
    "import numpy as no\n",
    "matriz = np.array ([[1,2],[3,6]])\n",
    "print(matriz)\n",
    "print(matriz%2)"
   ]
  },
  {
   "cell_type": "code",
   "execution_count": 11,
   "metadata": {},
   "outputs": [
    {
     "name": "stdout",
     "output_type": "stream",
     "text": [
      "[[1 2]\n",
      " [3 6]]\n",
      "[[ 1  4]\n",
      " [ 9 36]]\n"
     ]
    }
   ],
   "source": [
    "# lo elevamos al cuadrado a cada elemento de la matriz\n",
    "import numpy as no\n",
    "matriz = np.array ([[1,2],[3,6]])\n",
    "print(matriz)\n",
    "print(matriz**2)"
   ]
  },
  {
   "cell_type": "markdown",
   "metadata": {},
   "source": [
    "También se pueden realizar operaciones entre un vector, pero hay que tener en cuenta que si desea sumar o restar vectores con distinta cantidad de elementos, dará error."
   ]
  },
  {
   "cell_type": "code",
   "execution_count": 29,
   "metadata": {},
   "outputs": [
    {
     "name": "stdout",
     "output_type": "stream",
     "text": [
      "[1 2 3]\n",
      "[4 5 6]\n",
      "[5 7 9]\n"
     ]
    }
   ],
   "source": [
    "# Importamos la libreria y creamos dos vectores\n",
    "import numpy as np\n",
    "d1= np.array ([1,2,3])\n",
    "d2= np.array([4,5,6])\n",
    "print(d1)\n",
    "print(d2)\n",
    "print(d1+d2)"
   ]
  },
  {
   "cell_type": "code",
   "execution_count": 30,
   "metadata": {},
   "outputs": [
    {
     "name": "stdout",
     "output_type": "stream",
     "text": [
      "[1 2 3]\n",
      "[4 5 6]\n",
      "[-3 -3 -3]\n"
     ]
    }
   ],
   "source": [
    "import numpy as np\n",
    "d1= np.array ([1,2,3])\n",
    "d2= np.array([4,5,6])\n",
    "print(d1)\n",
    "print(d2)\n",
    "print(d1-d2)"
   ]
  },
  {
   "cell_type": "code",
   "execution_count": 32,
   "metadata": {},
   "outputs": [
    {
     "name": "stdout",
     "output_type": "stream",
     "text": [
      "[1 2 3]\n",
      "[4 5 6]\n",
      "[ 4 10 18]\n"
     ]
    }
   ],
   "source": [
    "import numpy as np\n",
    "d1= np.array ([1,2,3])\n",
    "d2= np.array([4,5,6])\n",
    "print(d1)\n",
    "print(d2)\n",
    "print(d1*d2)"
   ]
  },
  {
   "cell_type": "code",
   "execution_count": 31,
   "metadata": {},
   "outputs": [
    {
     "name": "stdout",
     "output_type": "stream",
     "text": [
      "[1 2 3]\n",
      "[4 5 6]\n",
      "[0.25 0.4  0.5 ]\n"
     ]
    }
   ],
   "source": [
    "import numpy as np\n",
    "d1= np.array ([1,2,3])\n",
    "d2= np.array([4,5,6])\n",
    "print(d1)\n",
    "print(d2)\n",
    "print(d1/d2)"
   ]
  },
  {
   "cell_type": "markdown",
   "metadata": {},
   "source": [
    "se puede realizar el mismo proceso con matrices"
   ]
  },
  {
   "cell_type": "code",
   "execution_count": 34,
   "metadata": {},
   "outputs": [
    {
     "name": "stdout",
     "output_type": "stream",
     "text": [
      "[[7 4]\n",
      " [0 3]\n",
      " [1 3]]\n",
      "[[1 2]\n",
      " [3 6]\n",
      " [8 7]]\n",
      "[[ 8  6]\n",
      " [ 3  9]\n",
      " [ 9 10]]\n"
     ]
    }
   ],
   "source": [
    "# Importamos la libreria y creamos dos matrices\n",
    "import numpy as np\n",
    "m1 = np.array([[7, 4],[0, 3], [1,3]])\n",
    "m2 = np.array([[1, 2],[3, 6], [8,7]])\n",
    "print(m1)\n",
    "print(m2)\n",
    "print(m1+m2)"
   ]
  },
  {
   "cell_type": "code",
   "execution_count": 35,
   "metadata": {},
   "outputs": [
    {
     "name": "stdout",
     "output_type": "stream",
     "text": [
      "[[7 4]\n",
      " [0 3]\n",
      " [1 3]]\n",
      "[[1 2]\n",
      " [3 6]\n",
      " [8 7]]\n",
      "[[ 6  2]\n",
      " [-3 -3]\n",
      " [-7 -4]]\n"
     ]
    }
   ],
   "source": [
    "import numpy as np\n",
    "m1 = np.array([[7, 4],[0, 3], [1,3]])\n",
    "m2 = np.array([[1, 2],[3, 6], [8,7]])\n",
    "print(m1)\n",
    "print(m2)\n",
    "print(m1-m2)"
   ]
  },
  {
   "cell_type": "code",
   "execution_count": 36,
   "metadata": {},
   "outputs": [
    {
     "name": "stdout",
     "output_type": "stream",
     "text": [
      "[[7 4]\n",
      " [0 3]\n",
      " [1 3]]\n",
      "[[1 2]\n",
      " [3 6]\n",
      " [8 7]]\n",
      "[[ 7  8]\n",
      " [ 0 18]\n",
      " [ 8 21]]\n"
     ]
    }
   ],
   "source": [
    "import numpy as np\n",
    "m1 = np.array([[7, 4],[0, 3], [1,3]])\n",
    "m2 = np.array([[1, 2],[3, 6], [8,7]])\n",
    "print(m1)\n",
    "print(m2)\n",
    "print(m1*m2)"
   ]
  },
  {
   "cell_type": "code",
   "execution_count": 37,
   "metadata": {},
   "outputs": [
    {
     "name": "stdout",
     "output_type": "stream",
     "text": [
      "[[7 4]\n",
      " [0 3]\n",
      " [1 3]]\n",
      "[[1 2]\n",
      " [3 6]\n",
      " [8 7]]\n",
      "[[7.         2.        ]\n",
      " [0.         0.5       ]\n",
      " [0.125      0.42857143]]\n"
     ]
    }
   ],
   "source": [
    "import numpy as np\n",
    "m1 = np.array([[7, 4],[0, 3], [1,3]])\n",
    "m2 = np.array([[1, 2],[3, 6], [8,7]])\n",
    "print(m1)\n",
    "print(m2)\n",
    "print(m1/m2)"
   ]
  },
  {
   "cell_type": "markdown",
   "metadata": {},
   "source": [
    "## Funciones universales\n",
    "\n",
    "- Raíz cuadrada: np.sqrt()\n",
    "- Funciones trigonométricas como sin(), cos(), tan()\n",
    "- Exponenciales"
   ]
  },
  {
   "cell_type": "code",
   "execution_count": 13,
   "metadata": {},
   "outputs": [
    {
     "name": "stdout",
     "output_type": "stream",
     "text": [
      "[ 9 16 25 36]\n",
      "[3. 4. 5. 6.]\n"
     ]
    }
   ],
   "source": [
    "# Ejemplo de raiz cuadrada\n",
    "import numpy as np\n",
    "a = np.array([9,16,25,36])\n",
    "b = np.sqrt(a)\n",
    "print(a)\n",
    "print(b)"
   ]
  },
  {
   "cell_type": "markdown",
   "metadata": {},
   "source": [
    "### Producto interno o producto punto de vectores"
   ]
  },
  {
   "cell_type": "markdown",
   "metadata": {},
   "source": [
    "El producto interno de dos vectores puede realizarse de dos maneras:  \n",
    "\n",
    "- con el operador @, vector1 @ vector2  \n",
    "- con la función:  np.dot(vector1, vector2)\n",
    "\n",
    "Veamos:"
   ]
  },
  {
   "cell_type": "code",
   "execution_count": 4,
   "metadata": {},
   "outputs": [
    {
     "name": "stdout",
     "output_type": "stream",
     "text": [
      "[1 2 3]\n",
      "[4 5 6]\n",
      "32\n"
     ]
    }
   ],
   "source": [
    "# Con vectores\n",
    "import numpy as np\n",
    "d1= np.array ([1,2,3])\n",
    "d2= np.array([4,5,6])\n",
    "print(d1)\n",
    "print(d2)\n",
    "print(d1@d2)"
   ]
  },
  {
   "cell_type": "code",
   "execution_count": 5,
   "metadata": {},
   "outputs": [
    {
     "name": "stdout",
     "output_type": "stream",
     "text": [
      "[1 2 3]\n",
      "[4 5 6]\n",
      "32\n"
     ]
    }
   ],
   "source": [
    "import numpy as np\n",
    "d1= np.array ([1,2,3])\n",
    "d2= np.array([4,5,6])\n",
    "print(d1)\n",
    "print(d2)\n",
    "print(np.dot(d1,d2))"
   ]
  },
  {
   "cell_type": "code",
   "execution_count": 20,
   "metadata": {},
   "outputs": [
    {
     "name": "stdout",
     "output_type": "stream",
     "text": [
      "[[7 4]\n",
      " [0 3]]\n",
      "[[1 2]\n",
      " [3 6]]\n",
      "[[19 38]\n",
      " [ 9 18]]\n"
     ]
    }
   ],
   "source": [
    "# Se puede calcular el producto interno de una matriz solo si esta es cuadrada\n",
    "import numpy as np\n",
    "m1 = np.array([[7, 4],[0, 3]])\n",
    "m2 = np.array([[1, 2],[3, 6]])\n",
    "print(m1)\n",
    "print(m2)\n",
    "print(m1@m2)"
   ]
  },
  {
   "cell_type": "markdown",
   "metadata": {},
   "source": [
    "### Módulo o norma de un vector"
   ]
  },
  {
   "cell_type": "markdown",
   "metadata": {},
   "source": [
    "En álgebra se define el Módulo o norma de un vector como un número positivo que representa la longitud del mismo.\n",
    "\n",
    "Si el vector es $ u=(u_1,u_2,...,u_n)$\n",
    "\n",
    "Su módulo o norma se calcula como:\n",
    "\n",
    "$$||u||=\\sqrt[]{u^2_1+u^2_2+...+u^2_n}$$  "
   ]
  },
  {
   "cell_type": "markdown",
   "metadata": {},
   "source": [
    "Si lo pensamos un poco, calcular la norma de un vector con los métodos de programación tradicionales requiere efectuar algún loop recorriendo todos los elementos del vector, elevándolos al cuadrado, sumándolos a un acumulador y luego de recorrer todo el vector deberíamos calcular su raíz cuadrada.  \n",
    "\n",
    "Un poco pesado, por suerte pensando algebraicamente y usando NumPy tenemos opciones muy sencillas que nos permitirán focalizarnos en las operaciones matemáticas y no en la programación en sí. \n",
    "\n",
    "\n"
   ]
  },
  {
   "cell_type": "markdown",
   "metadata": {},
   "source": [
    "El módulo de un vector se podía calcular también como la raíza cuadrada del producto interno del vector con sí mismo:\n",
    "\n",
    "$$ ||u||=\\sqrt[]{u . u} $$\n",
    "\n",
    "\n",
    "Entonces podríamos calcular el módulo del vecto v1 como:"
   ]
  },
  {
   "cell_type": "code",
   "execution_count": 21,
   "metadata": {},
   "outputs": [
    {
     "name": "stdout",
     "output_type": "stream",
     "text": [
      "5\n",
      "2.23606797749979\n"
     ]
    }
   ],
   "source": [
    "# Si quisieramos sacar el modulo de un vector deberia realizarse todo este procedimiento con la programacion antigüa\n",
    "import numpy as np\n",
    "v1=np.array([2,0,1])\n",
    "res=0\n",
    "for x in v1:\n",
    "    res = res + (x**2)\n",
    "print(res)\n",
    "print(np.sqrt(res))"
   ]
  },
  {
   "cell_type": "code",
   "execution_count": 9,
   "metadata": {},
   "outputs": [
    {
     "data": {
      "text/plain": [
       "2.23606797749979"
      ]
     },
     "execution_count": 9,
     "metadata": {},
     "output_type": "execute_result"
    }
   ],
   "source": [
    "# Gracias a las librerias, podemos simplificar todo el paso anterior de la siguiente forma\n",
    "import numpy as np \n",
    "vec= np.array([2,0,1])\n",
    "np.sqrt(vec@vec)"
   ]
  },
  {
   "cell_type": "markdown",
   "metadata": {},
   "source": [
    "Bastante más sencillo, no es cierto?"
   ]
  },
  {
   "cell_type": "markdown",
   "metadata": {},
   "source": [
    "Pero además, dentro de NumPy existe una librería dedicada a operaciones específicas de álgebra lineal denominada **linalg**, y entre ellas se encuentra el cáclulo del módulo o norma de un vector, así que podemos efectuar el cálculo en forma más elegante y legible para quien lee el código:\n"
   ]
  },
  {
   "cell_type": "code",
   "execution_count": 11,
   "metadata": {},
   "outputs": [
    {
     "data": {
      "text/plain": [
       "2.23606797749979"
      ]
     },
     "execution_count": 11,
     "metadata": {},
     "output_type": "execute_result"
    }
   ],
   "source": [
    "import numpy as np \n",
    "vec= np.array([2,0,1])\n",
    "np.linalg.norm(vec)"
   ]
  },
  {
   "cell_type": "markdown",
   "metadata": {},
   "source": [
    "### Distancia entre dos vectores o dos puntos"
   ]
  },
  {
   "cell_type": "markdown",
   "metadata": {},
   "source": [
    "En álgebra se define la distancia (euclídea) entre dos puntos o entre 2 vectores como el módulo o norma de su diferencia:  \n",
    "\n",
    "distancia(u,v) = ||u-v||  \n",
    "\n",
    "Se anima a calcular la distancia entre los vectores v1 y v2 que definimos con anterioridad?\n",
    "\n",
    "Resuelva el problema primero manualmente con papel y lápiz ... y luego en la celda siguiente"
   ]
  },
  {
   "cell_type": "code",
   "execution_count": 14,
   "metadata": {},
   "outputs": [
    {
     "data": {
      "text/plain": [
       "7.3484692283495345"
      ]
     },
     "execution_count": 14,
     "metadata": {},
     "output_type": "execute_result"
    }
   ],
   "source": [
    "import numpy as np\n",
    "v1=np.array([2,0,1])\n",
    "v2=np.array([5,6,4])\n",
    "np.linalg.norm(v1-v2)"
   ]
  },
  {
   "cell_type": "markdown",
   "metadata": {},
   "source": [
    "## EJERCICIOS"
   ]
  },
  {
   "cell_type": "markdown",
   "metadata": {},
   "source": [
    "Supongamos que tenemos la intención de crear un **Sistema de Recomendaciones** para los clientes de nuestro servicio de streaming de películas.  \n",
    "\n",
    "Para ello, decidimos recabar información de nuestros clientes, por ejemplo le solicitamos que califique qué tanto le gustó cada película después de que la vio.  \n",
    "\n",
    "Elaboramos un ranking de 1 a 5 siendo 1 que le gustó poco y 5 que le gustó muchísimo.  \n",
    "\n",
    "Después de un tiempo tendremos el puntaje asignado a muchas películas por muchos clientes.  \n",
    "Supongamos que nuestros clientes son A,B,C,D, etc y las películas son P1,P2, P3, nuestra información podría verse como en la siguiente tabla.\n"
   ]
  },
  {
   "cell_type": "raw",
   "metadata": {},
   "source": [
    "\n",
    "|   | P1 | P2 | P3 | P4 |\n",
    "|---|----|----|----|----|\n",
    "| A | 5  | 1  | 3  | 1  |\n",
    "| B | 3  | 5  | 4  | 4  |\n",
    "| C | 1  | 3  | 5  | 3  |\n",
    "| D | 4  | 2  | 1  | ?  |\n"
   ]
  },
  {
   "cell_type": "markdown",
   "metadata": {},
   "source": [
    "Nuestro objetivo es determinar si le recomendamos o no al cliente D la P4.  \n",
    "\n",
    "Nuestra hipótesis es que el gusto del cliente D será similar al del cliente que haya calificado más parecido a D las películas P1, P2 y P3, es decir al cliente más cercano a D considerando sólo las películas de 1 a 3.  \n",
    "\n",
    "Entonces crearemos un vector para cada cliente con las calificaciones que dio para las películas 1 a 3 y calcularemos la distancia entre el vector del cliente D y cada uno de los otros clientes. \n",
    "\n",
    "Esto nos permitirá determinar cuál de los clientes A, B o C es el más cercano a D, y asumiremos que el cliente D tendrá una calificación de P4 parecida al del más cercano a él.\n"
   ]
  },
  {
   "cell_type": "code",
   "execution_count": 23,
   "metadata": {},
   "outputs": [],
   "source": [
    "# Cree aquí los vectores considerando sólo las películas P1 a P3 para los cuatro clientes\n",
    "import numpy as np\n",
    "ca=np.array([5,1,3])\n",
    "cb=np.array([3,5,4])\n",
    "cc=np.array([1,3,5])\n",
    "cd=np.array([4,2,1])"
   ]
  },
  {
   "cell_type": "code",
   "execution_count": 25,
   "metadata": {},
   "outputs": [
    {
     "data": {
      "text/plain": [
       "2.449489742783178"
      ]
     },
     "execution_count": 25,
     "metadata": {},
     "output_type": "execute_result"
    }
   ],
   "source": [
    "#Calcule la distancia entre el vector del cliente D y el cliente A\n",
    "dda=np.linalg.norm(cd-ca)\n",
    "dda"
   ]
  },
  {
   "cell_type": "code",
   "execution_count": 18,
   "metadata": {},
   "outputs": [
    {
     "data": {
      "text/plain": [
       "4.358898943540674"
      ]
     },
     "execution_count": 18,
     "metadata": {},
     "output_type": "execute_result"
    }
   ],
   "source": [
    "#Calcule la distancia entre el vector del cliente D y el cliente B\n",
    "ddb=np.linalg.norm(cd-cb)\n",
    "ddb"
   ]
  },
  {
   "cell_type": "code",
   "execution_count": 19,
   "metadata": {},
   "outputs": [
    {
     "data": {
      "text/plain": [
       "5.0990195135927845"
      ]
     },
     "execution_count": 19,
     "metadata": {},
     "output_type": "execute_result"
    }
   ],
   "source": [
    "#Calcule la distancia entre el vector del cliente D y el cliente C\n",
    "ddc=np.linalg.norm(cd-cc)\n",
    "ddc"
   ]
  },
  {
   "cell_type": "markdown",
   "metadata": {},
   "source": [
    "Cuál es el cliente más cercano a C4? En base a esta cercanía, cree que la P4 le gustará o no a C4?"
   ]
  },
  {
   "cell_type": "markdown",
   "metadata": {},
   "source": [
    "# ¿Podemos automatizar el ejercicio anterior? "
   ]
  },
  {
   "cell_type": "code",
   "execution_count": 8,
   "metadata": {},
   "outputs": [
    {
     "name": "stdout",
     "output_type": "stream",
     "text": [
      "no le va a gustar la pelicula 4\n"
     ]
    }
   ],
   "source": [
    "import numpy as np\n",
    "# Creamos una matriz con los datos de los clientes que vieron la pelicula 4\n",
    "matriz = np.array ([[5,1,3],[3,5,4],[1,3,5]])\n",
    "# Creamos un vector con los datos del cliente que no vio la pelicula 4\n",
    "vector= np.array([4,2,1])\n",
    "# Creamos un vector con las respuestas a la pelicula 4\n",
    "puntos = np.array([1,4,3])\n",
    "# Comparo el vector con cada fila de la matriz con un for\n",
    "norma = 0\n",
    "menor = 100\n",
    "cliente = 0 \n",
    "fila=0\n",
    "for x in matriz:\n",
    "    norma = np.linalg.norm(vector-x)\n",
    "    if norma < menor: \n",
    "        menor=norma\n",
    "        cliente = fila\n",
    "    fila = fila+1\n",
    "if puntos [cliente] > 3:\n",
    "    print(\"si le va a gustar la pelicula 4\")\n",
    "else:\n",
    "    print(\"no le va a gustar la pelicula 4\")"
   ]
  },
  {
   "cell_type": "markdown",
   "metadata": {},
   "source": [
    "Rta: La menor distancia es con el Cliente1, como al Cliente1 no le gustó P4 ya que la calificó con 1 es posible al C4 tampoco le guste."
   ]
  },
  {
   "cell_type": "markdown",
   "metadata": {},
   "source": [
    "### Producto vectorial de dos vectores o producto cruz"
   ]
  },
  {
   "cell_type": "markdown",
   "metadata": {},
   "source": [
    "![](https://upload.wikimedia.org/wikipedia/commons/thumb/4/4e/Cross_product_parallelogram.svg/330px-Cross_product_parallelogram.svg.png)\n",
    "Se puede utilizar la función np.cross(v1,v2)\n",
    "\n",
    "Video que explica como calcular de forma manual el producto cruz: [Video](\"https://www.youtube.com/watch?v=io1vem2CmGc\")"
   ]
  },
  {
   "cell_type": "code",
   "execution_count": 27,
   "metadata": {},
   "outputs": [
    {
     "data": {
      "text/plain": [
       "13.45362404707371"
      ]
     },
     "execution_count": 27,
     "metadata": {},
     "output_type": "execute_result"
    }
   ],
   "source": [
    "#Importamos la librería numpy y creamos dos vectores\n",
    "import numpy as np\n",
    "v1=np.array([-3,-2,+5])\n",
    "v2=np.array([6,-10,-1])\n",
    "\n",
    "# Veamos el resultado del producto interno de los vectores\n",
    "interno=np.linalg.norm(v1-v2)\n",
    "interno"
   ]
  },
  {
   "cell_type": "code",
   "execution_count": 29,
   "metadata": {},
   "outputs": [
    {
     "data": {
      "text/plain": [
       "6.164414002968976"
      ]
     },
     "execution_count": 29,
     "metadata": {},
     "output_type": "execute_result"
    }
   ],
   "source": [
    "#Importamos la librería numpy y creamos dos vectores\n",
    "import numpy as np\n",
    "v1=np.array([1,2,3])\n",
    "v2=np.array([2,8,4])\n",
    "\n",
    "# Veamos el resultado del producto interno de los vectores\n",
    "inter=np.linalg.norm(v1-v2)\n",
    "inter"
   ]
  },
  {
   "cell_type": "code",
   "execution_count": 30,
   "metadata": {},
   "outputs": [
    {
     "data": {
      "text/plain": [
       "2.449489742783178"
      ]
     },
     "execution_count": 30,
     "metadata": {},
     "output_type": "execute_result"
    }
   ],
   "source": [
    "#Importamos la librería numpy y creamos dos vectores\n",
    "import numpy as np\n",
    "v1=np.array([2,0,1])\n",
    "v2=np.array([1,-1,3])\n",
    "\n",
    "# Veamos el resultado del producto interno de los vectores\n",
    "prod=np.linalg.norm(v1-v2)\n",
    "prod"
   ]
  },
  {
   "cell_type": "code",
   "execution_count": null,
   "metadata": {},
   "outputs": [],
   "source": []
  }
 ],
 "metadata": {
  "hide_input": false,
  "kernelspec": {
   "display_name": "Python 3",
   "language": "python",
   "name": "python3"
  },
  "language_info": {
   "codemirror_mode": {
    "name": "ipython",
    "version": 3
   },
   "file_extension": ".py",
   "mimetype": "text/x-python",
   "name": "python",
   "nbconvert_exporter": "python",
   "pygments_lexer": "ipython3",
   "version": "3.8.5"
  },
  "toc": {
   "base_numbering": 1,
   "nav_menu": {},
   "number_sections": true,
   "sideBar": true,
   "skip_h1_title": true,
   "title_cell": "Tabla de Contenidos",
   "title_sidebar": "Contenidos",
   "toc_cell": true,
   "toc_position": {
    "height": "calc(100% - 180px)",
    "left": "10px",
    "top": "150px",
    "width": "202.4px"
   },
   "toc_section_display": true,
   "toc_window_display": true
  },
  "varInspector": {
   "cols": {
    "lenName": 16,
    "lenType": 16,
    "lenVar": 40
   },
   "kernels_config": {
    "python": {
     "delete_cmd_postfix": "",
     "delete_cmd_prefix": "del ",
     "library": "var_list.py",
     "varRefreshCmd": "print(var_dic_list())"
    },
    "r": {
     "delete_cmd_postfix": ") ",
     "delete_cmd_prefix": "rm(",
     "library": "var_list.r",
     "varRefreshCmd": "cat(var_dic_list()) "
    }
   },
   "types_to_exclude": [
    "module",
    "function",
    "builtin_function_or_method",
    "instance",
    "_Feature"
   ],
   "window_display": false
  }
 },
 "nbformat": 4,
 "nbformat_minor": 2
}
