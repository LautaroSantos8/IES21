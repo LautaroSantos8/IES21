{
 "cells": [
  {
   "cell_type": "markdown",
   "metadata": {},
   "source": [
    "![imagen](https://encrypted-tbn0.gstatic.com/images?q=tbn:ANd9GcSRv7-9e8oYLYuPJ2mPM3YOlHoKFiHaQCFClWRKVBOzUe1CWABtg5QtluntYIxiHgpYNdw&usqp=CAU)\n",
    "\n",
    "# Computación Científica"
   ]
  },
  {
   "cell_type": "markdown",
   "metadata": {},
   "source": [
    "## Lista de datos en phyton\n",
    "Las listas son conjuntos de datos que pueden contener elementos de distinto tipo, por ejemplo, texto o números y los vectores que aprendió a usar en álgebra son numéricos."
   ]
  },
  {
   "cell_type": "code",
   "execution_count": 12,
   "metadata": {},
   "outputs": [
    {
     "data": {
      "text/plain": [
       "(1, 'Jorge', 9)"
      ]
     },
     "execution_count": 12,
     "metadata": {},
     "output_type": "execute_result"
    }
   ],
   "source": [
    "# Considerado una lista, puede recibir datos numericos como de tipo de texto #\n",
    "a= (1,\"Jorge\",9)\n",
    "a"
   ]
  },
  {
   "cell_type": "code",
   "execution_count": 14,
   "metadata": {
    "scrolled": true
   },
   "outputs": [
    {
     "name": "stdout",
     "output_type": "stream",
     "text": [
      "Jorge\n"
     ]
    }
   ],
   "source": [
    "# Para seleccionar un elemento de la lista basta con poner una orden print, llamando a la variable \"a\" y entre corchetes #z\n",
    "# seleccionar el numero de la posicion de la herramienta a usar de la lista, recordando de que empieza del 0 en adelante \n",
    "a= (1,\"Jorge\",9)\n",
    "print(a[1])"
   ]
  },
  {
   "cell_type": "code",
   "execution_count": 19,
   "metadata": {},
   "outputs": [
    {
     "name": "stdout",
     "output_type": "stream",
     "text": [
      "Ana\n"
     ]
    }
   ],
   "source": [
    "# Para acceder a tablas mas extensas y seleccionar un dato solicitado se debe ingresar primero el valor de la fila y \n",
    "#luego el valor de la columna donde está este Dato\n",
    "lista = ((1,\"Jorge\",9),(2,\"Ana\",10), (3,\"María\",11))\n",
    "print( lista [1][1]) "
   ]
  },
  {
   "cell_type": "code",
   "execution_count": 21,
   "metadata": {},
   "outputs": [
    {
     "name": "stdout",
     "output_type": "stream",
     "text": [
      "4\n"
     ]
    }
   ],
   "source": [
    "#pyhton nos permite tenér la posibilidad de que las listas no si o si deben tener la misma dimencion \n",
    "# Si se requiere que se muestre un dato en una lista que tiene menos filas que las otras dará un problema de rango \n",
    "lista = ((1,2,3), (4,5,6,7), (4,5,8,9,4))\n",
    "print(lista[2][4])"
   ]
  },
  {
   "cell_type": "code",
   "execution_count": 45,
   "metadata": {},
   "outputs": [
    {
     "name": "stdout",
     "output_type": "stream",
     "text": [
      "1\n",
      "2\n",
      "3\n"
     ]
    }
   ],
   "source": [
    "# Si queremos mostrar cada numero de la lista debo crear una estructura repetitiva \n",
    "lista = (1,2,3)\n",
    "for x in lista:\n",
    "    print(x)"
   ]
  },
  {
   "cell_type": "markdown",
   "metadata": {},
   "source": [
    "Pero a veces tenemos listas que contienen sólo valores numéricos y podemos confundirnos creyendo que son numeros, pero los trata como datos de tipo texto. En estos casos suelen ocurrir cosas inesperadas cuando hacemos operaciones algebraicas como la siguiente:"
   ]
  },
  {
   "cell_type": "code",
   "execution_count": 22,
   "metadata": {},
   "outputs": [
    {
     "name": "stdout",
     "output_type": "stream",
     "text": [
      "(1, 2, 3, 4, 5, 6)\n"
     ]
    }
   ],
   "source": [
    "# En la suma de listas solo se concatenan los datos, al contrario si estuviesemos trabajando con un vector \n",
    "lista1= (1,2,3)\n",
    "lista2= (4,5,6)\n",
    "print(lista1+lista2)"
   ]
  },
  {
   "cell_type": "markdown",
   "metadata": {},
   "source": [
    "Seguramente no fue el resultado esperado, al sumar dos listas, creó una nueva lista, más larga, con los elementos de la segunda lista a continuación de la primera.\n",
    "Obviamente este comportamiento de las listas puede ser muy útil, pero ahora queremos aplicar Python para resolver problemas de álgebra."
   ]
  },
  {
   "cell_type": "markdown",
   "metadata": {},
   "source": [
    "## Vectores y Matrices\n",
    "\n",
    "En programación, se le denomina vector, formación, matriz (en inglés array, del cual surge la mala traducción arreglo),1​ a una zona de almacenamiento contiguo que contiene una serie de elementos del mismo tipo, los elementos de la matriz.2​ Desde el punto de vista lógico una matriz se puede ver como un conjunto de elementos ordenados en fila (o filas y columnas si tuviera dos dimensiones).\n",
    "\n",
    "En principio, se puede considerar que todas las matrices son de una dimensión, la dimensión principal, pero los elementos de dicha fila pueden ser a su vez matrices (un proceso que puede ser recursivo), lo que nos permite hablar de la existencia de matrices multidimensionales, aunque las más fáciles de imaginar son las de una, dos y tres dimensiones.\n",
    "\n",
    "Estas estructuras de datos son adecuadas para situaciones en las que el acceso a los datos se realice de forma aleatoria e impredecible. Por el contrario, si los elementos pueden estar ordenados y se va a utilizar acceso secuencial sería más adecuado utilizar una lista, ya que esta estructura puede cambiar de tamaño fácilmente durante la ejecución de un programa, siendo esta última una estructura dinámica (al no tener un tamaño definido). [Fuente](https://es.wikipedia.org/wiki/Vector_(informática))"
   ]
  },
  {
   "cell_type": "markdown",
   "metadata": {},
   "source": [
    "## Arrays con Numpy\n",
    "Numpy es una de las librerías matemáticas más usadas en Python y la que da origen a otras aún más sofisticadas. Incorpora algoritmos que permiten resolver operaciones algebraicas en forma **eficiente** porque están precompiladas en C. \n",
    "Veamos cómo trabajar con Numpy.\n",
    "\n",
    "La estructura principal en NumPy es el **array multidimensional homogéneo**.  \n",
    "\n",
    "Aclaremos un poco:  \n",
    "\n",
    "**Homogéneo** significa que todos los elementos son del mismo tipo, para nosotros, generalmente serán números, ésto no nos traerá problemas.\n",
    "\n",
    "**Dimensional o multidimensional** es un término algo confuso ya que se superpone con la definición de dimensión que aprendimos en álgebra! \n",
    "\n",
    "A veces se utiliza una nomenclatura que resulta más clara para los elementos de NumPy y en vez de usar la palabra dimensión se utiliza la palabra **axis o eje**. \n",
    "\n",
    "Entonces en NumPy:  \n",
    "\n",
    "- un array de un eje (o dimensión 1 en NumPy)   es lo que en álgebra denominamos **vector**\n",
    "- un array de 2 ejes (o dimensión 2 en NumPy) es lo que en álgebra definimos como **matriz**\n",
    "- un array de más ejes (o mayor dimensión en NumPy) es lo que en álgebra se define como **tensor**\n",
    "\n",
    "Si desde el punto de vista de NumPy todos los vectores tienen un eje (o son de dimensión 1), qué distingue al vector (1,2) del (2,1,4) ?  \n",
    "\n",
    "La cantidad de elementos que tienen!  \n",
    "\n",
    "- la cantidad de elementos de (1,2) es 2 y   \n",
    "- la cantidad de elementos de (2,1,4) es 3\n",
    "\n",
    "En NumPy la cantidad de elementos se denomina longitud."
   ]
  },
  {
   "cell_type": "markdown",
   "metadata": {},
   "source": [
    "### Creación de arrays en NumPy\n",
    "A diferencia de las listas que comentamos al principio, los arrays deben definirse como tales, vamos a crear un vector, es decir un array con un solo eje o axis o de \"dimensión uno\".\n",
    "\n",
    "Para crear el array usamos:\n",
    "\n",
    "np.array()\n",
    "\n",
    "y dentro del paréntesis los elementos se enumeran como una secuencia entre corchetes y separados por coma:\n",
    "\n",
    "np.array([ secuencia de elementos separados por coma ])\n",
    "\n",
    "Podemos pensar que de esta manera NumPy crea vectores fila.\n",
    "\n",
    "Creemos el **vector** (1,2,3)\n",
    "\n",
    "Lo primero que debemos hacer es importar Numpy. Luego declaramos el vector."
   ]
  },
  {
   "cell_type": "code",
   "execution_count": 3,
   "metadata": {},
   "outputs": [],
   "source": [
    "#importamos la libreria y le damos un alias u objeto\n",
    "import numpy as np \n",
    "\n",
    "#luego declaramos el vector a trabajar\n",
    "vector = np.array([1,2,3])"
   ]
  },
  {
   "cell_type": "code",
   "execution_count": 4,
   "metadata": {},
   "outputs": [
    {
     "data": {
      "text/plain": [
       "array([1, 2, 3])"
      ]
     },
     "execution_count": 4,
     "metadata": {},
     "output_type": "execute_result"
    }
   ],
   "source": [
    "#¿Qué se creó?\n",
    "vector"
   ]
  },
  {
   "cell_type": "code",
   "execution_count": 29,
   "metadata": {},
   "outputs": [
    {
     "name": "stdout",
     "output_type": "stream",
     "text": [
      "[1 2 3]\n"
     ]
    }
   ],
   "source": [
    "#Con un print solo se mostrará los datos numericos\n",
    "print(vector)"
   ]
  },
  {
   "cell_type": "code",
   "execution_count": 30,
   "metadata": {},
   "outputs": [
    {
     "name": "stdout",
     "output_type": "stream",
     "text": [
      "4\n"
     ]
    }
   ],
   "source": [
    "# si quiero sumar los vectores se sumará cada valor de este, ademas de que puedo colocar un indice y marcar el dato \n",
    "# con el que quiero trabajar.\n",
    "print(vector[1]+vector[1])"
   ]
  },
  {
   "cell_type": "markdown",
   "metadata": {},
   "source": [
    "Ahora vamos a crear una **matriz**.\n",
    "Desde el punto de vista de NumPy una matriz será una secuencia de vectores, y un vector es una secuencia de números ...\n",
    "\n",
    "\n",
    "np.array([ [ fila 1 ],[ fila 2 ],...,[ fila n ] ])"
   ]
  },
  {
   "cell_type": "code",
   "execution_count": 5,
   "metadata": {},
   "outputs": [
    {
     "data": {
      "text/plain": [
       "array([[ 1,  2, -1],\n",
       "       [ 3,  0,  1],\n",
       "       [ 0,  2,  4],\n",
       "       [ 1,  5,  3]])"
      ]
     },
     "execution_count": 5,
     "metadata": {},
     "output_type": "execute_result"
    }
   ],
   "source": [
    "# Una matríz es un vector constituido por vectores.\n",
    "matriz=np.array([[1,2,-1],[3,0,1],[0,2,4],[1,5,3]])\n",
    "matriz"
   ]
  },
  {
   "cell_type": "code",
   "execution_count": 32,
   "metadata": {},
   "outputs": [
    {
     "data": {
      "text/plain": [
       "1"
      ]
     },
     "execution_count": 32,
     "metadata": {},
     "output_type": "execute_result"
    }
   ],
   "source": [
    "# Como hicimos anteriormente, para usar un dato seleccionamos la columna y la fila del dato\n",
    "matriz[1][2]"
   ]
  },
  {
   "cell_type": "code",
   "execution_count": 6,
   "metadata": {},
   "outputs": [
    {
     "data": {
      "text/plain": [
       "1"
      ]
     },
     "execution_count": 6,
     "metadata": {},
     "output_type": "execute_result"
    }
   ],
   "source": [
    "# Con Numpy puedo acortar la escritura y tambien se puede mostrar un elemento de la funcion de la siguiente forma\n",
    "matriz[1,2]"
   ]
  },
  {
   "cell_type": "markdown",
   "metadata": {},
   "source": [
    "### Describiendo arrays: .ndim, .shape, .size \n",
    "* La propiedad .ndim nos indica la cantidad de ejes (o dimensiones) que tiene el array, matrices tienen 2, vectores 1.\n",
    "* La propiedad .shape nos indica la cantidad de elementos en cada eje, si es una matriz nos indicará la cantidad de filas y de columnas que tiene.\n",
    "* La propiedad .size nos indica la cantidad de elementos en total que tiene el array"
   ]
  },
  {
   "cell_type": "code",
   "execution_count": 33,
   "metadata": {},
   "outputs": [
    {
     "data": {
      "text/plain": [
       "1"
      ]
     },
     "execution_count": 33,
     "metadata": {},
     "output_type": "execute_result"
    }
   ],
   "source": [
    "# .ndim en un vector \n",
    "vector.ndim"
   ]
  },
  {
   "cell_type": "code",
   "execution_count": 34,
   "metadata": {},
   "outputs": [
    {
     "data": {
      "text/plain": [
       "(3,)"
      ]
     },
     "execution_count": 34,
     "metadata": {},
     "output_type": "execute_result"
    }
   ],
   "source": [
    "# .shape en un vector. Nos indica la cantidad de filas y columnas\n",
    "vector.shape"
   ]
  },
  {
   "cell_type": "code",
   "execution_count": 35,
   "metadata": {},
   "outputs": [
    {
     "data": {
      "text/plain": [
       "3"
      ]
     },
     "execution_count": 35,
     "metadata": {},
     "output_type": "execute_result"
    }
   ],
   "source": [
    "# .size en nu vector. \n",
    "vector.size"
   ]
  },
  {
   "cell_type": "code",
   "execution_count": 36,
   "metadata": {},
   "outputs": [
    {
     "data": {
      "text/plain": [
       "array([[ 1,  2, -1],\n",
       "       [ 3,  0,  1],\n",
       "       [ 0,  2,  4],\n",
       "       [ 1,  5,  3]])"
      ]
     },
     "execution_count": 36,
     "metadata": {},
     "output_type": "execute_result"
    }
   ],
   "source": [
    "matriz\n"
   ]
  },
  {
   "cell_type": "code",
   "execution_count": 37,
   "metadata": {},
   "outputs": [
    {
     "data": {
      "text/plain": [
       "2"
      ]
     },
     "execution_count": 37,
     "metadata": {},
     "output_type": "execute_result"
    }
   ],
   "source": [
    "#muestra los ejes de la matriz\n",
    "matriz.ndim"
   ]
  },
  {
   "cell_type": "code",
   "execution_count": 38,
   "metadata": {},
   "outputs": [
    {
     "data": {
      "text/plain": [
       "(4, 3)"
      ]
     },
     "execution_count": 38,
     "metadata": {},
     "output_type": "execute_result"
    }
   ],
   "source": [
    "#primero la cantidad de filas, luego la cantidad de columnas, muestra la cantidad de esta\n",
    "matriz.shape"
   ]
  },
  {
   "cell_type": "code",
   "execution_count": 39,
   "metadata": {},
   "outputs": [
    {
     "data": {
      "text/plain": [
       "12"
      ]
     },
     "execution_count": 39,
     "metadata": {},
     "output_type": "execute_result"
    }
   ],
   "source": [
    "# .size muestra la cantidad de datos cargados en la matriz\n",
    "matriz.size"
   ]
  },
  {
   "cell_type": "markdown",
   "metadata": {},
   "source": [
    "### Tensor"
   ]
  },
  {
   "cell_type": "markdown",
   "metadata": {},
   "source": [
    "Son matrices de 3 dimensiones o vectores constituidos por matrices"
   ]
  },
  {
   "cell_type": "code",
   "execution_count": 59,
   "metadata": {},
   "outputs": [
    {
     "name": "stdout",
     "output_type": "stream",
     "text": [
      "[[[ 1  2]\n",
      "  [ 2  3]\n",
      "  [-1  5]]\n",
      "\n",
      " [[ 5  3]\n",
      "  [ 0  0]\n",
      "  [ 8  1]]\n",
      "\n",
      " [[ 5  3]\n",
      "  [ 0  0]\n",
      "  [ 8  1]]]\n"
     ]
    }
   ],
   "source": [
    "tensor=np.array([[[1,2],[2,3],[-1,5]],[[5,3],[0,0],[8,1]],[[5,3],[0,0],[8,1]]])\n",
    "print(tensor)"
   ]
  },
  {
   "cell_type": "code",
   "execution_count": 41,
   "metadata": {},
   "outputs": [
    {
     "data": {
      "text/plain": [
       "3"
      ]
     },
     "execution_count": 41,
     "metadata": {},
     "output_type": "execute_result"
    }
   ],
   "source": [
    "tensor.ndim"
   ]
  },
  {
   "cell_type": "code",
   "execution_count": 42,
   "metadata": {},
   "outputs": [
    {
     "data": {
      "text/plain": [
       "(3, 3, 2)"
      ]
     },
     "execution_count": 42,
     "metadata": {},
     "output_type": "execute_result"
    }
   ],
   "source": [
    "tensor.shape"
   ]
  },
  {
   "cell_type": "code",
   "execution_count": 43,
   "metadata": {},
   "outputs": [
    {
     "data": {
      "text/plain": [
       "18"
      ]
     },
     "execution_count": 43,
     "metadata": {},
     "output_type": "execute_result"
    }
   ],
   "source": [
    "tensor.size"
   ]
  },
  {
   "cell_type": "markdown",
   "metadata": {},
   "source": [
    "# Ejercicio para resolver 1\n",
    "* Crear un vector con los siguientes datos (1,2,3,4,5)\n",
    "* Mostrar la cantidad de ejes del vector\n",
    "* Mostrar la cantidad de elementos de cada eje del vector\n",
    "* Mostrar la cantidad de elementos del vector"
   ]
  },
  {
   "cell_type": "code",
   "execution_count": 7,
   "metadata": {},
   "outputs": [],
   "source": [
    "import numpy as np"
   ]
  },
  {
   "cell_type": "code",
   "execution_count": 8,
   "metadata": {},
   "outputs": [],
   "source": [
    "vector=np.array([1,2,3,4,5])"
   ]
  },
  {
   "cell_type": "code",
   "execution_count": 9,
   "metadata": {},
   "outputs": [
    {
     "data": {
      "text/plain": [
       "1"
      ]
     },
     "execution_count": 9,
     "metadata": {},
     "output_type": "execute_result"
    }
   ],
   "source": [
    "vector.ndim"
   ]
  },
  {
   "cell_type": "code",
   "execution_count": 10,
   "metadata": {},
   "outputs": [
    {
     "data": {
      "text/plain": [
       "(5,)"
      ]
     },
     "execution_count": 10,
     "metadata": {},
     "output_type": "execute_result"
    }
   ],
   "source": [
    "vector.shape"
   ]
  },
  {
   "cell_type": "code",
   "execution_count": 11,
   "metadata": {},
   "outputs": [
    {
     "data": {
      "text/plain": [
       "5"
      ]
     },
     "execution_count": 11,
     "metadata": {},
     "output_type": "execute_result"
    }
   ],
   "source": [
    "vector.size"
   ]
  },
  {
   "cell_type": "markdown",
   "metadata": {},
   "source": [
    "# Ejercicio para resolver 2\n",
    "* Crear una matriz con los siguientes datos \n",
    "((1,2,3),(8,4,6),(7,5,3),(9,5,1))\n",
    "* Mostrar la cantidad de ejes de la matriz\n",
    "* Mostrar la cantidad de elementos de cada eje de la matriz\n",
    "* Mostrar la cantidad de elementos de la matriz"
   ]
  },
  {
   "cell_type": "code",
   "execution_count": 12,
   "metadata": {},
   "outputs": [],
   "source": [
    "matriz=np.array([[1,2,3],[8,4,6],[7,5,3],[9,5,1]])"
   ]
  },
  {
   "cell_type": "code",
   "execution_count": 13,
   "metadata": {},
   "outputs": [
    {
     "data": {
      "text/plain": [
       "2"
      ]
     },
     "execution_count": 13,
     "metadata": {},
     "output_type": "execute_result"
    }
   ],
   "source": [
    "matriz.ndim"
   ]
  },
  {
   "cell_type": "code",
   "execution_count": 14,
   "metadata": {},
   "outputs": [
    {
     "data": {
      "text/plain": [
       "(4, 3)"
      ]
     },
     "execution_count": 14,
     "metadata": {},
     "output_type": "execute_result"
    }
   ],
   "source": [
    "matriz.shape"
   ]
  },
  {
   "cell_type": "code",
   "execution_count": 15,
   "metadata": {},
   "outputs": [
    {
     "data": {
      "text/plain": [
       "12"
      ]
     },
     "execution_count": 15,
     "metadata": {},
     "output_type": "execute_result"
    }
   ],
   "source": [
    "matriz.size"
   ]
  },
  {
   "cell_type": "markdown",
   "metadata": {},
   "source": [
    "# Ejercicio para resolver 3\n",
    "* Crear un tensor con los siguientes datos \n",
    "(((1,2,3),(8,4,6)),((7,5,3),(9,5,1)))\n",
    "* Mostrar la cantidad de ejes del tensor\n",
    "* Mostrar la cantidad de elementos de cada eje del tensor\n",
    "* Mostrar la cantidad de elementos ddel tensor"
   ]
  },
  {
   "cell_type": "code",
   "execution_count": 64,
   "metadata": {},
   "outputs": [
    {
     "name": "stdout",
     "output_type": "stream",
     "text": [
      "[[[1 2 3]\n",
      "  [8 4 6]]\n",
      "\n",
      " [[7 5 3]\n",
      "  [9 5 1]]]\n"
     ]
    }
   ],
   "source": [
    "ten = np.array ([[[1,2,3],[8,4,6]],[[7,5,3],[9,5,1]]])\n",
    "print(ten)"
   ]
  },
  {
   "cell_type": "code",
   "execution_count": 65,
   "metadata": {},
   "outputs": [
    {
     "data": {
      "text/plain": [
       "3"
      ]
     },
     "execution_count": 65,
     "metadata": {},
     "output_type": "execute_result"
    }
   ],
   "source": [
    "ten.ndim"
   ]
  },
  {
   "cell_type": "code",
   "execution_count": 66,
   "metadata": {},
   "outputs": [
    {
     "data": {
      "text/plain": [
       "(2, 2, 3)"
      ]
     },
     "execution_count": 66,
     "metadata": {},
     "output_type": "execute_result"
    }
   ],
   "source": [
    "ten.shape"
   ]
  },
  {
   "cell_type": "code",
   "execution_count": 69,
   "metadata": {},
   "outputs": [
    {
     "data": {
      "text/plain": [
       "12"
      ]
     },
     "execution_count": 69,
     "metadata": {},
     "output_type": "execute_result"
    }
   ],
   "source": [
    "ten.size"
   ]
  },
  {
   "cell_type": "code",
   "execution_count": null,
   "metadata": {},
   "outputs": [],
   "source": []
  }
 ],
 "metadata": {
  "kernelspec": {
   "display_name": "Python 3",
   "language": "python",
   "name": "python3"
  },
  "language_info": {
   "codemirror_mode": {
    "name": "ipython",
    "version": 3
   },
   "file_extension": ".py",
   "mimetype": "text/x-python",
   "name": "python",
   "nbconvert_exporter": "python",
   "pygments_lexer": "ipython3",
   "version": "3.8.5"
  }
 },
 "nbformat": 4,
 "nbformat_minor": 4
}
