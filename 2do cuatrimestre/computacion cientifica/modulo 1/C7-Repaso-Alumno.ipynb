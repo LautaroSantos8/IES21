{
 "cells": [
  {
   "cell_type": "code",
   "execution_count": 1,
   "metadata": {
    "ExecuteTime": {
     "end_time": "2020-09-11T18:30:17.902500Z",
     "start_time": "2020-09-11T18:30:17.781799Z"
    }
   },
   "outputs": [],
   "source": [
    "import numpy as np"
   ]
  },
  {
   "cell_type": "markdown",
   "metadata": {
    "ExecuteTime": {
     "end_time": "2020-09-11T18:49:28.618586Z",
     "start_time": "2020-09-11T18:49:28.614595Z"
    }
   },
   "source": [
    "## EJERCICIOS PARA PRACTICAR \n",
    "correspondientes a las Clases 01 a 03."
   ]
  },
  {
   "cell_type": "markdown",
   "metadata": {},
   "source": [
    "### Cree una secuencia con todos los números enteros múltipos de 3 desde 0 hasta el 100, llámela s1 "
   ]
  },
  {
   "cell_type": "code",
   "execution_count": 5,
   "metadata": {
    "ExecuteTime": {
     "end_time": "2020-09-11T18:31:31.641133Z",
     "start_time": "2020-09-11T18:31:31.629168Z"
    }
   },
   "outputs": [
    {
     "data": {
      "text/plain": [
       "array([ 0,  3,  6,  9, 12, 15, 18, 21, 24, 27, 30, 33, 36, 39, 42, 45, 48,\n",
       "       51, 54, 57, 60, 63, 66, 69, 72, 75, 78, 81, 84, 87, 90, 93, 96, 99])"
      ]
     },
     "execution_count": 5,
     "metadata": {},
     "output_type": "execute_result"
    }
   ],
   "source": [
    "# Escriba su código aquí\n",
    "v1=np.arange(0,100,3)\n",
    "v1"
   ]
  },
  {
   "cell_type": "markdown",
   "metadata": {},
   "source": [
    "### Cuántos elementos tiene?"
   ]
  },
  {
   "cell_type": "code",
   "execution_count": 7,
   "metadata": {
    "ExecuteTime": {
     "end_time": "2020-09-11T18:33:52.778418Z",
     "start_time": "2020-09-11T18:33:52.773434Z"
    }
   },
   "outputs": [
    {
     "data": {
      "text/plain": [
       "34"
      ]
     },
     "execution_count": 7,
     "metadata": {},
     "output_type": "execute_result"
    }
   ],
   "source": [
    "# Escriba su código aquí\n",
    "v1.size"
   ]
  },
  {
   "cell_type": "markdown",
   "metadata": {},
   "source": [
    "### Utilice lo visto anteriormente para calcular cuántos numéros enteros múltiplos de 23 existen entre 0 y 15 millones."
   ]
  },
  {
   "cell_type": "code",
   "execution_count": 9,
   "metadata": {
    "ExecuteTime": {
     "end_time": "2020-09-11T18:36:03.500383Z",
     "start_time": "2020-09-11T18:36:03.493361Z"
    }
   },
   "outputs": [
    {
     "data": {
      "text/plain": [
       "652174"
      ]
     },
     "execution_count": 9,
     "metadata": {},
     "output_type": "execute_result"
    }
   ],
   "source": [
    "# Escriba su código aquí\n",
    "v2=np.arange(0,15000000,23)\n",
    "v2.size"
   ]
  },
  {
   "cell_type": "markdown",
   "metadata": {},
   "source": [
    "### Cree la matriz M, esta matriz tiene 6 filas y 6 columnas y está formada por los números aleatorios enteros comprendidos entre -100 y 100 que se obtienen utilizando una semilla de valor 123. "
   ]
  },
  {
   "cell_type": "code",
   "execution_count": 13,
   "metadata": {
    "ExecuteTime": {
     "end_time": "2020-09-11T18:43:04.382054Z",
     "start_time": "2020-09-11T18:43:04.376065Z"
    }
   },
   "outputs": [
    {
     "data": {
      "text/plain": [
       "array([[  9,  26, -34,  -2, -83, -17],\n",
       "       [  6,  23, -43,  -4,  13,  26],\n",
       "       [-53, -27, -68,  74,  11,  53],\n",
       "       [-17, -22,  64,  -4, -32, -51],\n",
       "       [-45,  95, -98, -16, -61, -34],\n",
       "       [-16, -53,  89,  76,  35,   5]])"
      ]
     },
     "execution_count": 13,
     "metadata": {},
     "output_type": "execute_result"
    }
   ],
   "source": [
    "# Escriba su código aquí\n",
    "M=np.random.seed(123)\n",
    "M=np.random.randint(-100,100,(6,6))\n",
    "M"
   ]
  },
  {
   "cell_type": "markdown",
   "metadata": {},
   "source": [
    "### Cuánto vale el elemento ubicado en la 2da fila y 3er columna?"
   ]
  },
  {
   "cell_type": "code",
   "execution_count": 23,
   "metadata": {
    "ExecuteTime": {
     "end_time": "2020-09-11T19:06:32.175159Z",
     "start_time": "2020-09-11T19:06:32.168179Z"
    }
   },
   "outputs": [
    {
     "data": {
      "text/plain": [
       "-43"
      ]
     },
     "execution_count": 23,
     "metadata": {},
     "output_type": "execute_result"
    }
   ],
   "source": [
    "# Escriba su código aquí\n",
    "M[1][2]"
   ]
  },
  {
   "cell_type": "code",
   "execution_count": 24,
   "metadata": {},
   "outputs": [
    {
     "data": {
      "text/plain": [
       "-43"
      ]
     },
     "execution_count": 24,
     "metadata": {},
     "output_type": "execute_result"
    }
   ],
   "source": [
    "# De la misma forma que \n",
    "M[1,2]"
   ]
  },
  {
   "cell_type": "markdown",
   "metadata": {},
   "source": [
    "### En qué posiciones de M los elementos son mayores que 0?"
   ]
  },
  {
   "cell_type": "code",
   "execution_count": 20,
   "metadata": {
    "ExecuteTime": {
     "end_time": "2020-09-11T18:44:53.550676Z",
     "start_time": "2020-09-11T18:44:53.545689Z"
    }
   },
   "outputs": [
    {
     "data": {
      "text/plain": [
       "array([[ True,  True, False, False, False, False],\n",
       "       [ True,  True, False, False,  True,  True],\n",
       "       [False, False, False,  True,  True,  True],\n",
       "       [False, False,  True, False, False, False],\n",
       "       [False,  True, False, False, False, False],\n",
       "       [False, False,  True,  True,  True,  True]])"
      ]
     },
     "execution_count": 20,
     "metadata": {},
     "output_type": "execute_result"
    }
   ],
   "source": [
    "# Escriba su código aquí\n",
    "M>0"
   ]
  },
  {
   "cell_type": "markdown",
   "metadata": {
    "ExecuteTime": {
     "end_time": "2020-09-11T18:46:00.179286Z",
     "start_time": "2020-09-11T18:46:00.173298Z"
    }
   },
   "source": [
    "### Ahora calcule \n",
    "\n",
    "sum(M>0)  \n",
    "\n",
    "e interprete el resultado"
   ]
  },
  {
   "cell_type": "code",
   "execution_count": 21,
   "metadata": {},
   "outputs": [
    {
     "data": {
      "text/plain": [
       "array([2, 3, 2, 2, 3, 3])"
      ]
     },
     "execution_count": 21,
     "metadata": {},
     "output_type": "execute_result"
    }
   ],
   "source": [
    "# Escriba aquí su código\n",
    "sum(M>0)"
   ]
  },
  {
   "cell_type": "markdown",
   "metadata": {},
   "source": [
    "Interpretación: **el resultado indica la cantidad de resultados afirmativos por columna**"
   ]
  },
  {
   "cell_type": "markdown",
   "metadata": {},
   "source": [
    "### En base a lo anterior, calcule cuántos elementos de M son mayores que 0"
   ]
  },
  {
   "cell_type": "code",
   "execution_count": 22,
   "metadata": {
    "ExecuteTime": {
     "end_time": "2020-09-11T18:49:12.657503Z",
     "start_time": "2020-09-11T18:49:12.652526Z"
    }
   },
   "outputs": [
    {
     "data": {
      "text/plain": [
       "15"
      ]
     },
     "execution_count": 22,
     "metadata": {},
     "output_type": "execute_result"
    }
   ],
   "source": [
    "# Escriba su código aquí\n",
    "sum(sum(M>0))\n"
   ]
  }
 ],
 "metadata": {
  "hide_input": false,
  "kernelspec": {
   "display_name": "Python 3",
   "language": "python",
   "name": "python3"
  },
  "language_info": {
   "codemirror_mode": {
    "name": "ipython",
    "version": 3
   },
   "file_extension": ".py",
   "mimetype": "text/x-python",
   "name": "python",
   "nbconvert_exporter": "python",
   "pygments_lexer": "ipython3",
   "version": "3.8.5"
  },
  "toc": {
   "base_numbering": 1,
   "nav_menu": {},
   "number_sections": true,
   "sideBar": true,
   "skip_h1_title": true,
   "title_cell": "Tabla de Contenidos",
   "title_sidebar": "Contenidos",
   "toc_cell": false,
   "toc_position": {},
   "toc_section_display": true,
   "toc_window_display": true
  }
 },
 "nbformat": 4,
 "nbformat_minor": 4
}
