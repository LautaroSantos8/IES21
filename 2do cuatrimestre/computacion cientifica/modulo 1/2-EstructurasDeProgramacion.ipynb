{
 "cells": [
  {
   "cell_type": "markdown",
   "metadata": {},
   "source": [
    "![imagen](https://encrypted-tbn0.gstatic.com/images?q=tbn:ANd9GcSRv7-9e8oYLYuPJ2mPM3YOlHoKFiHaQCFClWRKVBOzUe1CWABtg5QtluntYIxiHgpYNdw&usqp=CAU)\n",
    "# Computación Científica\n",
    "\n",
    "## Estructuras de programación \n",
    "\n",
    "### Secuencial\n",
    "Cuando una linea se escribe a continuación de otra. En ese caso se ejecutan en el mismo orden en que se escriben.\n",
    "\n",
    "### Alternativas \n",
    "Cuando el programa tiene opciones para ejecutar un conjunto de instrucciones u otro diferente.\n",
    "Cuando el programa puede ejecutar más de una vez un mismo conjunto de instrucciones. Hay de dos tipos:\n",
    "* **While** \n",
    "* **For**\n",
    "\n",
    "## Operadores\n",
    "\n",
    "Para armar las condiciones es necesario trabajar con diferentes tipos de operadores.\n",
    "\n",
    "### Operadores relacionales\n",
    "Son los que se usan para armar las condiciones:\n",
    "* Mayor: >\n",
    "* Mayor e igual: >=\n",
    "* Menor: <\n",
    "* Menor e igual: <=\n",
    "* Distinto: !=\n",
    "* Igual: ==\n",
    "### Operadores lógicos\n",
    "Son los que se usan para unir dos condiciones:\n",
    "* Conjunción (y): **and**\n",
    "* Disyunción (o): **or**\n",
    "* Negación: **not**\n",
    "\n",
    "# Anexo\n",
    "En el siguiente [enlace](https://www.mclibre.org/consultar/python/index.html) se pueden ampliar los contenidos de la clase. "
   ]
  },
  {
   "cell_type": "markdown",
   "metadata": {},
   "source": [
    "# Ejercicio por resolver"
   ]
  },
  {
   "cell_type": "markdown",
   "metadata": {},
   "source": [
    "### Ejercicio 1\n",
    "El usuario debe ingresar el precio de un producto y se deberá informar cual es el valor del IVA de un producto y su precio final."
   ]
  },
  {
   "cell_type": "code",
   "execution_count": 1,
   "metadata": {},
   "outputs": [
    {
     "name": "stdout",
     "output_type": "stream",
     "text": [
      "ingrese el precio del producto: 100\n",
      "el IVA del producto es de 21.0, y su precio final será de 121.0\n"
     ]
    }
   ],
   "source": [
    "precio = float(input(\"ingrese el precio del producto: \"))\n",
    "IVA= precio * 21 / 100\n",
    "final= IVA + precio\n",
    "print(f\"El IVA del producto es de {IVA}, y su precio final será de {final}\")"
   ]
  },
  {
   "cell_type": "markdown",
   "metadata": {},
   "source": [
    "### Ejercicio 2\n",
    "El usuario debe ingresar dos números, el programa debe indicar cuál es el mayor."
   ]
  },
  {
   "cell_type": "code",
   "execution_count": 4,
   "metadata": {},
   "outputs": [
    {
     "name": "stdout",
     "output_type": "stream",
     "text": [
      "Ingrese el primer numero: 2\n",
      "Ingrese el segundo numero: 1\n",
      "el primer numero es mas grande\n"
     ]
    }
   ],
   "source": [
    "x= int(input(\"Ingrese el primer número: \"))\n",
    "y= int(input(\"Ingrese el segundo número: \"))\n",
    "if x<y:\n",
    "    print(\"el segundo número es mas grande\")\n",
    "else:\n",
    "    print(\"el primer número es mas grande\")\n"
   ]
  },
  {
   "cell_type": "markdown",
   "metadata": {},
   "source": [
    "### Ejercicio 3\n",
    "El usuario debe ingresar dos números, el programa debe indicar cuál es el menor."
   ]
  },
  {
   "cell_type": "code",
   "execution_count": 6,
   "metadata": {},
   "outputs": [
    {
     "name": "stdout",
     "output_type": "stream",
     "text": [
      "Ingrese el primer número: 2\n",
      "Ingrese el segundo número: 1\n",
      "el segundo número es el menor\n"
     ]
    }
   ],
   "source": [
    "x= int(input(\"Ingrese el primer número: \"))\n",
    "y= int(input(\"Ingrese el segundo número: \"))\n",
    "if x<y:\n",
    "    print(\"el primer número es el menor\")\n",
    "else:\n",
    "    print(\"el segundo número es el menor\")"
   ]
  },
  {
   "cell_type": "markdown",
   "metadata": {},
   "source": [
    "### Ejercicio 4\n",
    "El usuario debe ingresar un número entero y el programa debe informar si está comprendido entre 0 y 10."
   ]
  },
  {
   "cell_type": "code",
   "execution_count": 9,
   "metadata": {},
   "outputs": [
    {
     "name": "stdout",
     "output_type": "stream",
     "text": [
      "Ingrese un numero entero: 15\n",
      "el numero no está comprendido entre 0 y 10\n"
     ]
    }
   ],
   "source": [
    "x= int(input(\"Ingrese un numero entero: \"))\n",
    "if x >= 0 and x <= 10:\n",
    "    print(\"el numero está comprendido entre 0 y 10\")\n",
    "else:\n",
    "    print(\"el numero no está comprendido entre 0 y 10\")"
   ]
  },
  {
   "cell_type": "markdown",
   "metadata": {},
   "source": [
    "### Ejercicio 5\n",
    "El usuario debe ingresar las tres medidas de los ángulos de un triángulo, el programa deberá verificar que corresponden a un triángulo. Para eso la suma de los tres ángulos debe ser igual a 180 grados."
   ]
  },
  {
   "cell_type": "code",
   "execution_count": 12,
   "metadata": {},
   "outputs": [
    {
     "name": "stdout",
     "output_type": "stream",
     "text": [
      "Ingrese el primer angulo: 15\n",
      "Ingrese el segundo angulo: 70\n",
      "Ingrese el tercer angulo: 45\n",
      "no corresponde a un triángulo\n"
     ]
    }
   ],
   "source": [
    "a= int(input(\"Ingrese el primer angulo: \"))\n",
    "b= int(input(\"Ingrese el segundo angulo: \"))\n",
    "c= int(input(\"Ingrese el tercer angulo: \"))\n",
    "\n",
    "if (a+b+c) == 180:\n",
    "    print(\"corresponde a un triángulo\")\n",
    "else:\n",
    "    print(\"no corresponde a un triángulo\")"
   ]
  },
  {
   "cell_type": "markdown",
   "metadata": {},
   "source": [
    "### Ejercicio 6\n",
    "El usuario debe ingresar las tres medidas de los lados de un triángulo, el programa deberá verificar que corresponden a un triángulo. Para eso la suma de dos lados debe ser mayor a la suma del lado restante, y debe ser cierta esta condición para todas las combinaciones posibles."
   ]
  },
  {
   "cell_type": "code",
   "execution_count": 5,
   "metadata": {},
   "outputs": [
    {
     "name": "stdout",
     "output_type": "stream",
     "text": [
      "Ingrese el primer angulo: 60\n",
      "Ingrese el segundo angulo: 40\n",
      "Ingrese el tercer angulo: 80\n",
      "corresponde a un triángulo\n"
     ]
    }
   ],
   "source": [
    "a= int(input(\"Ingrese el primer angulo: \"))\n",
    "b= int(input(\"Ingrese el segundo angulo: \"))\n",
    "c= int(input(\"Ingrese el tercer angulo: \"))\n",
    "\n",
    "if (a+b+c) == 180 and a+b>c:\n",
    "    print(\"corresponde a un triángulo\")\n",
    "elif (a+b+c) == 180 and b+c>a:\n",
    "    print(\"corresponde a un triángulo\")\n",
    "elif (a+b+c) == 180 and c+a>b:\n",
    "    print(\"corresponde a un triángulo\")\n",
    "else:\n",
    "    print(\"no corresponde a un triángulo\")"
   ]
  },
  {
   "cell_type": "markdown",
   "metadata": {},
   "source": [
    "### Ejercicio 7\n",
    "Escribir un programa que tome un carácter e informe si es una vocal o no lo es.\n"
   ]
  },
  {
   "cell_type": "code",
   "execution_count": 45,
   "metadata": {},
   "outputs": [
    {
     "name": "stdout",
     "output_type": "stream",
     "text": [
      "ingrese un caracter: b\n",
      "El caractér no es una vocal\n"
     ]
    }
   ],
   "source": [
    "x = input(\"ingrese un caracter: \")\n",
    "if x == str(\"a\" or \"e\" or \"i\" or \"o\" or \"u\"):\n",
    "    print(\"El caractér es una vocal\")\n",
    "else:\n",
    "    if x!=str(\"a\" or \"e\" or \"i\" or \"o\" or \"u\"):\n",
    "        print(\"El caractér no es una vocal\")\n"
   ]
  },
  {
   "cell_type": "markdown",
   "metadata": {},
   "source": [
    "### Ejercicio 8\n",
    "Escribir un programa que muestre con un while los números del 1 al 100."
   ]
  },
  {
   "cell_type": "code",
   "execution_count": 7,
   "metadata": {},
   "outputs": [
    {
     "name": "stdout",
     "output_type": "stream",
     "text": [
      "0 1 2 3 4 5 6 7 8 9 10 11 12 13 14 15 16 17 18 19 20 21 22 23 24 25 26 27 28 29 30 31 32 33 34 35 36 37 38 39 40 41 42 43 44 45 46 47 48 49 50 51 52 53 54 55 56 57 58 59 60 61 62 63 64 65 66 67 68 69 70 71 72 73 74 75 76 77 78 79 80 81 82 83 84 85 86 87 88 89 90 91 92 93 94 95 96 97 98 99 100 "
     ]
    }
   ],
   "source": [
    "x= 0\n",
    "while x <= 100:\n",
    "    print(x, end= \" \")\n",
    "    x= x+1"
   ]
  },
  {
   "cell_type": "markdown",
   "metadata": {},
   "source": [
    "## Ejercicio 9\n",
    "Escribir un programa que muestre con un for los números del 1 al 100."
   ]
  },
  {
   "cell_type": "code",
   "execution_count": 24,
   "metadata": {},
   "outputs": [
    {
     "name": "stdout",
     "output_type": "stream",
     "text": [
      "0 1 2 3 4 5 6 7 8 9 10 11 12 13 14 15 16 17 18 19 20 21 22 23 24 25 26 27 28 29 30 31 32 33 34 35 36 37 38 39 40 41 42 43 44 45 46 47 48 49 50 51 52 53 54 55 56 57 58 59 60 61 62 63 64 65 66 67 68 69 70 71 72 73 74 75 76 77 78 79 80 81 82 83 84 85 86 87 88 89 90 91 92 93 94 95 96 97 98 99 100 "
     ]
    }
   ],
   "source": [
    "x = int(0)\n",
    "for x in range (0,101):\n",
    "    print(x, end = \" \")"
   ]
  },
  {
   "cell_type": "markdown",
   "metadata": {},
   "source": [
    "## Ejercicio 10\n",
    "Escribir un programa que cuente la cantidad de letras de una palabra. "
   ]
  },
  {
   "cell_type": "code",
   "execution_count": 51,
   "metadata": {},
   "outputs": [
    {
     "name": "stdout",
     "output_type": "stream",
     "text": [
      "ingrese una palabra: arroz\n",
      "5\n"
     ]
    }
   ],
   "source": [
    "palabra = input(\"ingrese una palabra: \")\n",
    "cantidad = int(0)\n",
    "\n",
    "for x in palabra:\n",
    "    cantidad=cantidad+1\n",
    "print(cantidad)"
   ]
  },
  {
   "cell_type": "markdown",
   "metadata": {},
   "source": [
    "## Ejercicio 11\n",
    "Escribir un programa que muestre una palabra de forma de vertical, carácter a carácter."
   ]
  },
  {
   "cell_type": "code",
   "execution_count": 54,
   "metadata": {},
   "outputs": [
    {
     "name": "stdout",
     "output_type": "stream",
     "text": [
      "Ingrese una palabra: hola como estas\n",
      "h\n",
      "o\n",
      "l\n",
      "a\n",
      " \n",
      "c\n",
      "o\n",
      "m\n",
      "o\n",
      " \n",
      "e\n",
      "s\n",
      "t\n",
      "a\n",
      "s\n"
     ]
    }
   ],
   "source": [
    "palabra = input(\"Ingrese una palabra: \")\n",
    "\n",
    "for x in palabra:\n",
    "    x=x\n",
    "    print(x)"
   ]
  },
  {
   "cell_type": "markdown",
   "metadata": {},
   "source": [
    "## Ejercicio 12 \n",
    "Escribir un programa que cuente la cantidad de vocales de una palabra. "
   ]
  },
  {
   "cell_type": "code",
   "execution_count": 10,
   "metadata": {},
   "outputs": [
    {
     "name": "stdout",
     "output_type": "stream",
     "text": [
      "ingrese una palabra: arandano\n",
      "4\n"
     ]
    }
   ],
   "source": [
    "texto = input(\"ingrese una palabra: \")\n",
    "vocal= int(0)\n",
    "for x in texto:\n",
    "    if x==\"a\" or x==\"e\" or x==\"i\" or x==\"o\" or x==\"u\":\n",
    "        vocal=vocal+1\n",
    "print(vocal)"
   ]
  },
  {
   "cell_type": "code",
   "execution_count": null,
   "metadata": {},
   "outputs": [],
   "source": []
  }
 ],
 "metadata": {
  "kernelspec": {
   "display_name": "Python 3",
   "language": "python",
   "name": "python3"
  },
  "language_info": {
   "codemirror_mode": {
    "name": "ipython",
    "version": 3
   },
   "file_extension": ".py",
   "mimetype": "text/x-python",
   "name": "python",
   "nbconvert_exporter": "python",
   "pygments_lexer": "ipython3",
   "version": "3.8.5"
  }
 },
 "nbformat": 4,
 "nbformat_minor": 4
}
