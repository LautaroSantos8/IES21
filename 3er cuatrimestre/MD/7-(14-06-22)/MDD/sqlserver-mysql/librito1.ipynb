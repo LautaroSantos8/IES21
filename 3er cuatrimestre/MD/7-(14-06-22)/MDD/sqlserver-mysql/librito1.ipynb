{
 "cells": [
  {
   "cell_type": "code",
   "execution_count": null,
   "id": "8a66eadc",
   "metadata": {},
   "outputs": [],
   "source": [
    "import pyodbc"
   ]
  },
  {
   "cell_type": "code",
   "execution_count": null,
   "id": "1e8ba4ed",
   "metadata": {},
   "outputs": [],
   "source": [
    "SERVIDOR = '.\\SQLEXPRESS'\n",
    "BASE = 'Farmacia'\n",
    "CADENA = \"Driver=ODBC Driver 17 for SQL Server;Server={};DATABASE={};Trusted_Connection=yes\".format(SERVIDOR, BASE)"
   ]
  },
  {
   "cell_type": "code",
   "execution_count": null,
   "id": "62f935d3",
   "metadata": {},
   "outputs": [],
   "source": [
    "try:\n",
    "    conector = pyodbc.connect(CADENA)\n",
    "    with conector.cursor() as cursor:\n",
    "        SQL  = ''\n",
    "        SQL += ''\n",
    "        SQL += 'SELECT P.producto, P.nombre, L.nombre AS nombre_laboratorio '\n",
    "        SQL += 'FROM Productos P '\n",
    "        SQL += 'INNER JOIN Laboratorios L ON P.laboratorio=L.laboratorio '\n",
    "        SQL += 'ORDER BY P.producto;'\n",
    "\n",
    "        cursor.execute(SQL)\n",
    "        laboratorios = cursor.fetchall()\n",
    "        for reg in laboratorios:\n",
    "            print('Miguel es lindo producto: {} - nombre del producto: {} - laboratorio: {}'.format(reg[0], reg[1], reg[2]))\n",
    "except Exception as e:\n",
    "    print('SOY UN NABO', e)"
   ]
  },
  {
   "cell_type": "code",
   "execution_count": null,
   "id": "ac961da9",
   "metadata": {},
   "outputs": [],
   "source": [
    "\n",
    "try:\n",
    "    conector = pyodbc.connect(CADENA)\n",
    "    with conector.cursor() as cursor:\n",
    "        LAB = 6\n",
    "        NOM = 'SOY MUY BUENO EN PYTHON'\n",
    "        SQL  = ''\n",
    "        SQL += \"INSERT INTO Laboratorios VALUES({}, '{}')\".format(LAB, NOM)\n",
    "        cursor.execute(SQL)\n",
    "except Exception as e:\n",
    "    print('SOY UN NABO', e)\n",
    "finally:\n",
    "    print('PUDE INSERTAR')"
   ]
  },
  {
   "cell_type": "code",
   "execution_count": null,
   "id": "f3344976",
   "metadata": {},
   "outputs": [],
   "source": []
  }
 ],
 "metadata": {
  "kernelspec": {
   "display_name": "Python 3 (ipykernel)",
   "language": "python",
   "name": "python3"
  },
  "language_info": {
   "codemirror_mode": {
    "name": "ipython",
    "version": 3
   },
   "file_extension": ".py",
   "mimetype": "text/x-python",
   "name": "python",
   "nbconvert_exporter": "python",
   "pygments_lexer": "ipython3",
   "version": "3.9.7"
  }
 },
 "nbformat": 4,
 "nbformat_minor": 5
}
