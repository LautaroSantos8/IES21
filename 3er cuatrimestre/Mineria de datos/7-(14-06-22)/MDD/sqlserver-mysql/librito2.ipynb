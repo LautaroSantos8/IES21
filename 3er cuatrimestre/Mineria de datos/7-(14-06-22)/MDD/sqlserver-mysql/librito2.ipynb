{
 "cells": [
  {
   "cell_type": "code",
   "execution_count": 2,
   "id": "4ab88cfc",
   "metadata": {},
   "outputs": [
    {
     "name": "stdout",
     "output_type": "stream",
     "text": [
      "Collecting mysql-connector-python\n",
      "  Downloading mysql_connector_python-8.0.29-cp39-cp39-win_amd64.whl (7.7 MB)\n",
      "Collecting protobuf>=3.0.0\n",
      "  Downloading protobuf-4.21.1-cp39-cp39-win_amd64.whl (524 kB)\n",
      "Installing collected packages: protobuf, mysql-connector-python\n",
      "Successfully installed mysql-connector-python-8.0.29 protobuf-4.21.1\n",
      "Note: you may need to restart the kernel to use updated packages.\n"
     ]
    }
   ],
   "source": [
    "pip install mysql-connector-python"
   ]
  },
  {
   "cell_type": "code",
   "execution_count": 7,
   "id": "06ad2f33",
   "metadata": {},
   "outputs": [],
   "source": [
    "import mysql.connector\n",
    "import pandas as pd"
   ]
  },
  {
   "cell_type": "code",
   "execution_count": 2,
   "id": "b2df9f6f",
   "metadata": {},
   "outputs": [],
   "source": [
    "mydb = mysql.connector.connect(\n",
    "  host=\"localhost\",\n",
    "  user=\"root\",\n",
    "  password=\"\",\n",
    "  database=\"farmacia\"\n",
    ")\n"
   ]
  },
  {
   "cell_type": "code",
   "execution_count": 3,
   "id": "b79b7584",
   "metadata": {},
   "outputs": [],
   "source": [
    "mycursor = mydb.cursor()"
   ]
  },
  {
   "cell_type": "code",
   "execution_count": 4,
   "id": "e05ed27e",
   "metadata": {},
   "outputs": [],
   "source": [
    "SQL = ''\n",
    "SQL += 'SELECT M.medicamento, M.nombre, L.nombre AS nombre_laboratorio '\n",
    "SQL += 'FROM medicamentos M  '\n",
    "SQL += 'INNER JOIN laboratorios L ON M.laboratorio=L.laboratorio '\n",
    "SQL += 'ORDER BY M.medicamento '\n"
   ]
  },
  {
   "cell_type": "code",
   "execution_count": 5,
   "id": "33a4c8bd",
   "metadata": {},
   "outputs": [],
   "source": [
    "mycursor.execute(SQL)"
   ]
  },
  {
   "cell_type": "code",
   "execution_count": 6,
   "id": "2274d08f",
   "metadata": {},
   "outputs": [
    {
     "name": "stdout",
     "output_type": "stream",
     "text": [
      "(1, 'JARABE PARA GRANDES', 'MOSQUITO')\n",
      "(2, 'JARABAE PARA CHICOS', 'MOSQUITO')\n",
      "(3, 'GENIOL PARA GRANDES', 'LANGOSTA')\n",
      "(4, 'GENIOL PARA CHICOS', 'LANGOSTA')\n"
     ]
    }
   ],
   "source": [
    "myresult = mycursor.fetchall()\n",
    "for x in myresult:\n",
    "    print(x)"
   ]
  },
  {
   "cell_type": "code",
   "execution_count": 8,
   "id": "e8c12876",
   "metadata": {},
   "outputs": [],
   "source": [
    "df = pd.read_csv('medicamentos.csv')"
   ]
  },
  {
   "cell_type": "code",
   "execution_count": 9,
   "id": "c8e8ebe0",
   "metadata": {},
   "outputs": [
    {
     "data": {
      "text/html": [
       "<div>\n",
       "<style scoped>\n",
       "    .dataframe tbody tr th:only-of-type {\n",
       "        vertical-align: middle;\n",
       "    }\n",
       "\n",
       "    .dataframe tbody tr th {\n",
       "        vertical-align: top;\n",
       "    }\n",
       "\n",
       "    .dataframe thead th {\n",
       "        text-align: right;\n",
       "    }\n",
       "</style>\n",
       "<table border=\"1\" class=\"dataframe\">\n",
       "  <thead>\n",
       "    <tr style=\"text-align: right;\">\n",
       "      <th></th>\n",
       "      <th>medicamento</th>\n",
       "      <th>nombre</th>\n",
       "      <th>laboratorio</th>\n",
       "    </tr>\n",
       "  </thead>\n",
       "  <tbody>\n",
       "    <tr>\n",
       "      <th>0</th>\n",
       "      <td>5</td>\n",
       "      <td>HOY ES UN DIA LINDO</td>\n",
       "      <td>1</td>\n",
       "    </tr>\n",
       "    <tr>\n",
       "      <th>1</th>\n",
       "      <td>6</td>\n",
       "      <td>HOY ES UN DIA FEO</td>\n",
       "      <td>1</td>\n",
       "    </tr>\n",
       "    <tr>\n",
       "      <th>2</th>\n",
       "      <td>7</td>\n",
       "      <td>CUIDADO CON EL PERRO</td>\n",
       "      <td>2</td>\n",
       "    </tr>\n",
       "    <tr>\n",
       "      <th>3</th>\n",
       "      <td>8</td>\n",
       "      <td>CUIDADO CON EL GATO</td>\n",
       "      <td>2</td>\n",
       "    </tr>\n",
       "    <tr>\n",
       "      <th>4</th>\n",
       "      <td>9</td>\n",
       "      <td>HOY ESTUDIE MUCHO</td>\n",
       "      <td>1</td>\n",
       "    </tr>\n",
       "    <tr>\n",
       "      <th>5</th>\n",
       "      <td>10</td>\n",
       "      <td>HOY ESTUDIE POCO</td>\n",
       "      <td>1</td>\n",
       "    </tr>\n",
       "    <tr>\n",
       "      <th>6</th>\n",
       "      <td>11</td>\n",
       "      <td>HACE FRIO</td>\n",
       "      <td>2</td>\n",
       "    </tr>\n",
       "    <tr>\n",
       "      <th>7</th>\n",
       "      <td>12</td>\n",
       "      <td>HACE CALOR</td>\n",
       "      <td>1</td>\n",
       "    </tr>\n",
       "  </tbody>\n",
       "</table>\n",
       "</div>"
      ],
      "text/plain": [
       "   medicamento                nombre  laboratorio\n",
       "0            5   HOY ES UN DIA LINDO            1\n",
       "1            6     HOY ES UN DIA FEO            1\n",
       "2            7  CUIDADO CON EL PERRO            2\n",
       "3            8   CUIDADO CON EL GATO            2\n",
       "4            9     HOY ESTUDIE MUCHO            1\n",
       "5           10      HOY ESTUDIE POCO            1\n",
       "6           11             HACE FRIO            2\n",
       "7           12            HACE CALOR            1"
      ]
     },
     "execution_count": 9,
     "metadata": {},
     "output_type": "execute_result"
    }
   ],
   "source": [
    "df"
   ]
  },
  {
   "cell_type": "code",
   "execution_count": 17,
   "id": "63b794b2",
   "metadata": {},
   "outputs": [],
   "source": [
    "for index, row in df.iterrows(): \n",
    "    SQL = \"INSERT INTO medicamentos VALUE({}, '{}', {})\".format(row['medicamento'], row['nombre'], row['laboratorio'])\n",
    "    mycursor.execute(SQL)"
   ]
  },
  {
   "cell_type": "code",
   "execution_count": 18,
   "id": "25be9317",
   "metadata": {},
   "outputs": [],
   "source": [
    "mydb.commit()"
   ]
  },
  {
   "cell_type": "code",
   "execution_count": null,
   "id": "a9b0987f",
   "metadata": {},
   "outputs": [],
   "source": [
    "SQL  = ''\n",
    "SQL += 'SELECT L.nombre, COUNT(M.medicamento) AS cantidad '\n",
    "SQL += 'FROM laboratorios L '\n",
    "SQL += 'INNER JOIN medicamentos M ON L.laboratorio=M.laboratorio '\n",
    "SQL += 'GROUP BY L.nombre '\n",
    "SQL += 'ORDER BY L.nombre '\n"
   ]
  }
 ],
 "metadata": {
  "kernelspec": {
   "display_name": "Python 3 (ipykernel)",
   "language": "python",
   "name": "python3"
  },
  "language_info": {
   "codemirror_mode": {
    "name": "ipython",
    "version": 3
   },
   "file_extension": ".py",
   "mimetype": "text/x-python",
   "name": "python",
   "nbconvert_exporter": "python",
   "pygments_lexer": "ipython3",
   "version": "3.9.7"
  }
 },
 "nbformat": 4,
 "nbformat_minor": 5
}
