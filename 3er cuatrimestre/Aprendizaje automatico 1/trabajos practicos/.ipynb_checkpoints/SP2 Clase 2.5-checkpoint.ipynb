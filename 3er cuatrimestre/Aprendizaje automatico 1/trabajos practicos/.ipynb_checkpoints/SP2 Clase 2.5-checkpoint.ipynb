{
 "cells": [
  {
   "cell_type": "markdown",
   "metadata": {},
   "source": [
    "Modelo de arbol de clasificacion"
   ]
  },
  {
   "cell_type": "code",
   "execution_count": 60,
   "metadata": {},
   "outputs": [
    {
     "data": {
      "text/plain": [
       "0.8"
      ]
     },
     "execution_count": 60,
     "metadata": {},
     "output_type": "execute_result"
    }
   ],
   "source": [
    "#Con Hiperparametros base\n",
    "import pandas as pd\n",
    "df_iris=pd.read_csv(r\"C:\\Users\\Usuario\\Desktop\\ies 21\\3er semestre\\Aprendizaje automatico 1\\trabajos practicos\\datos\\iris.tab\",sep='\\t',skiprows=(1,2))\n",
    "df=df_iris[['sepal length','sepal width','iris']]\n",
    "df.columns=['sl','sw','iris']\n",
    "x= df.drop(['iris'], axis=1)\n",
    "y= df.iris\n",
    "from sklearn.model_selection import train_test_split\n",
    "x_train, x_test, y_train, y_test = train_test_split(x,y, test_size=0.2,random_state=123)\n",
    "from sklearn.tree import DecisionTreeClassifier\n",
    "modelo=DecisionTreeClassifier(max_depth=4, random_state=123)\n",
    "modelo.fit(x_train, y_train)\n",
    "y_pred = modelo.predict(x_test) \n",
    "from sklearn.metrics import accuracy_score\n",
    "AC=accuracy_score(y_test, y_pred)\n",
    "AC"
   ]
  },
  {
   "cell_type": "code",
   "execution_count": 58,
   "metadata": {},
   "outputs": [
    {
     "data": {
      "text/plain": [
       "0.7666666666666667"
      ]
     },
     "execution_count": 58,
     "metadata": {},
     "output_type": "execute_result"
    }
   ],
   "source": [
    "import pandas as pd\n",
    "df_iris=pd.read_csv(r\"C:\\Users\\Usuario\\Desktop\\ies 21\\3er semestre\\Aprendizaje automatico 1\\trabajos practicos\\datos\\iris.tab\",sep='\\t',skiprows=(1,2))\n",
    "df=df_iris[['sepal length','sepal width','iris']]\n",
    "df.columns=['sl','sw','iris']\n",
    "x= df.drop(['iris'], axis=1)\n",
    "y= df.iris\n",
    "from sklearn.model_selection import train_test_split\n",
    "x_train, x_test, y_train, y_test = train_test_split(x,y, test_size=0.2,random_state=123)\n",
    "from sklearn.tree import DecisionTreeClassifier\n",
    "modelo=DecisionTreeClassifier(random_state=123,max_depth=4,criterion='gini',splitter='random')\n",
    "modelo.fit(x_train, y_train)\n",
    "y_pred = modelo.predict(x_test) \n",
    "from sklearn.metrics import accuracy_score\n",
    "AC=accuracy_score(y_test, y_pred)\n",
    "AC"
   ]
  },
  {
   "cell_type": "code",
   "execution_count": 63,
   "metadata": {},
   "outputs": [
    {
     "data": {
      "text/plain": [
       "0.8"
      ]
     },
     "execution_count": 63,
     "metadata": {},
     "output_type": "execute_result"
    }
   ],
   "source": [
    "import pandas as pd\n",
    "df_iris=pd.read_csv(r\"C:\\Users\\Usuario\\Desktop\\ies 21\\3er semestre\\Aprendizaje automatico 1\\trabajos practicos\\datos\\iris.tab\",sep='\\t',skiprows=(1,2))\n",
    "df=df_iris[['sepal length','sepal width','iris']]\n",
    "df.columns=['sl','sw','iris']\n",
    "x= df.drop(['iris'], axis=1)\n",
    "y= df.iris\n",
    "from sklearn.model_selection import train_test_split\n",
    "x_train, x_test, y_train, y_test = train_test_split(x,y, test_size=0.2,random_state=123)\n",
    "from sklearn.tree import DecisionTreeClassifier\n",
    "modelo=DecisionTreeClassifier(random_state=123,max_depth=4,criterion='entropy',splitter='best')\n",
    "modelo.fit(x_train, y_train)\n",
    "y_pred = modelo.predict(x_test) \n",
    "from sklearn.metrics import accuracy_score\n",
    "AC=accuracy_score(y_test, y_pred)\n",
    "AC"
   ]
  },
  {
   "cell_type": "code",
   "execution_count": 64,
   "metadata": {},
   "outputs": [
    {
     "data": {
      "text/plain": [
       "0.7666666666666667"
      ]
     },
     "execution_count": 64,
     "metadata": {},
     "output_type": "execute_result"
    }
   ],
   "source": [
    "import pandas as pd\n",
    "df_iris=pd.read_csv(r\"C:\\Users\\Usuario\\Desktop\\ies 21\\3er semestre\\Aprendizaje automatico 1\\trabajos practicos\\datos\\iris.tab\",sep='\\t',skiprows=(1,2))\n",
    "df=df_iris[['sepal length','sepal width','iris']]\n",
    "df.columns=['sl','sw','iris']\n",
    "x= df.drop(['iris'], axis=1)\n",
    "y= df.iris\n",
    "from sklearn.model_selection import train_test_split\n",
    "x_train, x_test, y_train, y_test = train_test_split(x,y, test_size=0.2,random_state=123)\n",
    "from sklearn.tree import DecisionTreeClassifier\n",
    "modelo=DecisionTreeClassifier(random_state=123,max_depth=4,criterion='entropy',splitter='random')\n",
    "modelo.fit(x_train, y_train)\n",
    "y_pred = modelo.predict(x_test) \n",
    "from sklearn.metrics import accuracy_score\n",
    "AC=accuracy_score(y_test, y_pred)\n",
    "AC"
   ]
  },
  {
   "cell_type": "markdown",
   "metadata": {},
   "source": [
    "Modelo de KNN"
   ]
  },
  {
   "cell_type": "code",
   "execution_count": 66,
   "metadata": {},
   "outputs": [
    {
     "name": "stdout",
     "output_type": "stream",
     "text": [
      "R2:  0.391\n",
      "MSE:  3834.863\n",
      "RMSE:  61.926\n"
     ]
    }
   ],
   "source": [
    "import pandas as pd\n",
    "df = pd.read_csv(r'C:\\Users\\Usuario\\Desktop\\ies 21\\3er semestre\\Aprendizaje automatico 1\\trabajos practicos\\datos\\diabetes_3variables.csv')\n",
    "x= df.drop(['y'], axis=1)\n",
    "y= df.y\n",
    "from sklearn.model_selection import train_test_split\n",
    "x_train, x_test, y_train, y_test = train_test_split(x, y, test_size=0.2, random_state=123)\n",
    "from sklearn.neighbors import KNeighborsRegressor\n",
    "KNN = KNeighborsRegressor( n_neighbors = 5)\n",
    "KNN.fit(x_train,y_train)\n",
    "Y_Predict = KNN.predict(x_test)\n",
    "from sklearn.metrics import mean_squared_error, r2_score\n",
    "print(\"R2: \",round(KNN.score(x_test,y_test),3)) \n",
    "print(\"MSE: \",round(mean_squared_error(y_test, Y_Predict),3))\n",
    "print(\"RMSE: \",round(mean_squared_error(y_test, Y_Predict,squared=False),3))"
   ]
  },
  {
   "cell_type": "code",
   "execution_count": 81,
   "metadata": {},
   "outputs": [
    {
     "name": "stdout",
     "output_type": "stream",
     "text": [
      "R2:  0.437\n",
      "MSE:  3547.659\n",
      "RMSE:  59.562\n"
     ]
    }
   ],
   "source": [
    "import pandas as pd\n",
    "df = pd.read_csv(r'C:\\Users\\Usuario\\Desktop\\ies 21\\3er semestre\\Aprendizaje automatico 1\\trabajos practicos\\datos\\diabetes_3variables.csv')\n",
    "x= df.drop(['y'], axis=1)\n",
    "y= df.y\n",
    "from sklearn.model_selection import train_test_split\n",
    "x_train, x_test, y_train, y_test = train_test_split(x, y, test_size=0.2, random_state=123)\n",
    "from sklearn.neighbors import KNeighborsRegressor\n",
    "KNN = KNeighborsRegressor( n_neighbors = 60, weights='distance',algorithm='kd_tree',p=2)\n",
    "KNN.fit(x_train,y_train)\n",
    "Y_Predict = KNN.predict(x_test)\n",
    "from sklearn.metrics import mean_squared_error, r2_score\n",
    "print(\"R2: \",round(KNN.score(x_test,y_test),3)) \n",
    "print(\"MSE: \",round(mean_squared_error(y_test, Y_Predict),3))\n",
    "print(\"RMSE: \",round(mean_squared_error(y_test, Y_Predict,squared=False),3))"
   ]
  },
  {
   "cell_type": "code",
   "execution_count": null,
   "metadata": {},
   "outputs": [],
   "source": []
  }
 ],
 "metadata": {
  "kernelspec": {
   "display_name": "Python 3",
   "language": "python",
   "name": "python3"
  },
  "language_info": {
   "codemirror_mode": {
    "name": "ipython",
    "version": 3
   },
   "file_extension": ".py",
   "mimetype": "text/x-python",
   "name": "python",
   "nbconvert_exporter": "python",
   "pygments_lexer": "ipython3",
   "version": "3.8.5"
  }
 },
 "nbformat": 4,
 "nbformat_minor": 4
}
