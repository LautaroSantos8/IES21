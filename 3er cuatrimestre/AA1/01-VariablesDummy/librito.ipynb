{
 "cells": [
  {
   "cell_type": "code",
   "execution_count": null,
   "id": "b6bca888",
   "metadata": {},
   "outputs": [],
   "source": [
    "import pandas as pd"
   ]
  },
  {
   "cell_type": "code",
   "execution_count": null,
   "id": "cb8080ff",
   "metadata": {},
   "outputs": [],
   "source": [
    "df = pd.read_csv('data01.csv', engine='python', index_col=0)"
   ]
  },
  {
   "cell_type": "code",
   "execution_count": null,
   "id": "a92e13f0",
   "metadata": {},
   "outputs": [],
   "source": [
    "df.info()"
   ]
  },
  {
   "cell_type": "code",
   "execution_count": null,
   "id": "5c5ef8d1",
   "metadata": {},
   "outputs": [],
   "source": [
    "df"
   ]
  },
  {
   "cell_type": "code",
   "execution_count": null,
   "id": "80b9b92f",
   "metadata": {},
   "outputs": [],
   "source": [
    "sexo_dummy = pd.get_dummies(df['sexo'], prefix='sexo')\n",
    "fruta_dummy = pd.get_dummies(df['fruta'], prefix='fruta')"
   ]
  },
  {
   "cell_type": "code",
   "execution_count": null,
   "id": "b4577985",
   "metadata": {},
   "outputs": [],
   "source": [
    "df = pd.concat([df, sexo_dummy], axis=1)\n",
    "df = pd.concat([df, fruta_dummy], axis=1)\n"
   ]
  },
  {
   "cell_type": "code",
   "execution_count": null,
   "id": "6b5ea37e",
   "metadata": {},
   "outputs": [],
   "source": [
    "df"
   ]
  },
  {
   "cell_type": "code",
   "execution_count": null,
   "id": "86785b14",
   "metadata": {},
   "outputs": [],
   "source": [
    "df_dummies = df.drop(['sexo', 'fruta'], axis=1)"
   ]
  },
  {
   "cell_type": "code",
   "execution_count": null,
   "id": "22d7a08d",
   "metadata": {},
   "outputs": [],
   "source": [
    "df_dummies"
   ]
  },
  {
   "cell_type": "code",
   "execution_count": null,
   "id": "45a01309",
   "metadata": {},
   "outputs": [],
   "source": [
    "df_dummies_columns = df.drop(df.columns[[1, 2]], axis=1)"
   ]
  },
  {
   "cell_type": "code",
   "execution_count": null,
   "id": "1a5287c8",
   "metadata": {},
   "outputs": [],
   "source": [
    "df_dummies_columns"
   ]
  },
  {
   "cell_type": "code",
   "execution_count": null,
   "id": "2bb71dff",
   "metadata": {},
   "outputs": [],
   "source": [
    "df_dummies_iloc = df.drop(df.iloc[:,1:3], axis=1)"
   ]
  },
  {
   "cell_type": "code",
   "execution_count": null,
   "id": "476be281",
   "metadata": {},
   "outputs": [],
   "source": [
    "df_dummies_iloc"
   ]
  },
  {
   "cell_type": "code",
   "execution_count": null,
   "id": "72e15f92",
   "metadata": {},
   "outputs": [],
   "source": [
    "df_dummies.to_csv('data01_okey.csv')"
   ]
  },
  {
   "cell_type": "code",
   "execution_count": null,
   "id": "58c162d6",
   "metadata": {},
   "outputs": [],
   "source": []
  }
 ],
 "metadata": {
  "kernelspec": {
   "display_name": "Python 3",
   "language": "python",
   "name": "python3"
  },
  "language_info": {
   "codemirror_mode": {
    "name": "ipython",
    "version": 3
   },
   "file_extension": ".py",
   "mimetype": "text/x-python",
   "name": "python",
   "nbconvert_exporter": "python",
   "pygments_lexer": "ipython3",
   "version": "3.8.8"
  }
 },
 "nbformat": 4,
 "nbformat_minor": 5
}
