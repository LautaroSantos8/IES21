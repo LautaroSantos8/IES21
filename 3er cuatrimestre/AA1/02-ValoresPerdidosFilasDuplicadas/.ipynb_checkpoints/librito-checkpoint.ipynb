{
 "cells": [
  {
   "cell_type": "code",
   "execution_count": null,
   "id": "9d8b68f9",
   "metadata": {},
   "outputs": [],
   "source": [
    "import pandas as pd"
   ]
  },
  {
   "cell_type": "code",
   "execution_count": null,
   "id": "6e085aa3",
   "metadata": {},
   "outputs": [],
   "source": [
    "dfa = pd.read_csv('data02_a.csv', engine='python')\n"
   ]
  },
  {
   "cell_type": "code",
   "execution_count": null,
   "id": "a3e3b9bf",
   "metadata": {},
   "outputs": [],
   "source": [
    "dfa.info()"
   ]
  },
  {
   "cell_type": "code",
   "execution_count": null,
   "id": "fbe3effe",
   "metadata": {},
   "outputs": [],
   "source": [
    "dfa.head()"
   ]
  },
  {
   "cell_type": "code",
   "execution_count": null,
   "id": "3ff39b1f",
   "metadata": {},
   "outputs": [],
   "source": [
    "dfa['PM10'].isnull()"
   ]
  },
  {
   "cell_type": "code",
   "execution_count": null,
   "id": "69e6b947",
   "metadata": {},
   "outputs": [],
   "source": [
    "dfa.isnull().sum()"
   ]
  },
  {
   "cell_type": "code",
   "execution_count": null,
   "id": "04aabf98",
   "metadata": {},
   "outputs": [],
   "source": [
    "dfb = pd.read_csv('data02_b.csv', engine='python', index_col=0)\n"
   ]
  },
  {
   "cell_type": "code",
   "execution_count": null,
   "id": "e5f7ea3b",
   "metadata": {},
   "outputs": [],
   "source": [
    "dfb.info()"
   ]
  },
  {
   "cell_type": "code",
   "execution_count": null,
   "id": "e4eea3f0",
   "metadata": {},
   "outputs": [],
   "source": [
    "dfb"
   ]
  },
  {
   "cell_type": "code",
   "execution_count": null,
   "id": "d09ce10c",
   "metadata": {},
   "outputs": [],
   "source": [
    "dfb2 = dfb.dropna()\n",
    "dfb2"
   ]
  },
  {
   "cell_type": "code",
   "execution_count": null,
   "id": "e447d405",
   "metadata": {},
   "outputs": [],
   "source": [
    "dfb3 = dfb.dropna(axis=1)\n",
    "dfb3"
   ]
  },
  {
   "cell_type": "code",
   "execution_count": null,
   "id": "629ed507",
   "metadata": {},
   "outputs": [],
   "source": [
    "dfb4 = dfb.dropna(axis=1, thresh=12)\n",
    "dfb4"
   ]
  },
  {
   "cell_type": "code",
   "execution_count": null,
   "id": "d1173e13",
   "metadata": {},
   "outputs": [],
   "source": [
    "dfa.duplicated()"
   ]
  },
  {
   "cell_type": "code",
   "execution_count": null,
   "id": "615b5ae2",
   "metadata": {},
   "outputs": [],
   "source": [
    "dfa"
   ]
  },
  {
   "cell_type": "code",
   "execution_count": null,
   "id": "a81519d3",
   "metadata": {},
   "outputs": [],
   "source": [
    "dfa = dfa.drop_duplicates()"
   ]
  },
  {
   "cell_type": "code",
   "execution_count": null,
   "id": "8b1b7b30",
   "metadata": {},
   "outputs": [],
   "source": [
    "dfa"
   ]
  },
  {
   "cell_type": "code",
   "execution_count": null,
   "id": "08f3f6b9",
   "metadata": {},
   "outputs": [],
   "source": [
    "dfa = dfa.dropna(thresh=8)"
   ]
  },
  {
   "cell_type": "code",
   "execution_count": null,
   "id": "ae9b8001",
   "metadata": {},
   "outputs": [],
   "source": [
    "dfa.mean()"
   ]
  },
  {
   "cell_type": "code",
   "execution_count": null,
   "id": "796421b1",
   "metadata": {},
   "outputs": [],
   "source": [
    "dfa.std()"
   ]
  },
  {
   "cell_type": "code",
   "execution_count": null,
   "id": "2785875d",
   "metadata": {},
   "outputs": [],
   "source": []
  }
 ],
 "metadata": {
  "kernelspec": {
   "display_name": "Python 3",
   "language": "python",
   "name": "python3"
  },
  "language_info": {
   "codemirror_mode": {
    "name": "ipython",
    "version": 3
   },
   "file_extension": ".py",
   "mimetype": "text/x-python",
   "name": "python",
   "nbconvert_exporter": "python",
   "pygments_lexer": "ipython3",
   "version": "3.8.8"
  }
 },
 "nbformat": 4,
 "nbformat_minor": 5
}
