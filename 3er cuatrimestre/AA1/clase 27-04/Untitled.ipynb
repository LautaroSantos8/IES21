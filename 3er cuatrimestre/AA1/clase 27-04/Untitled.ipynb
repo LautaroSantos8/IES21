{
 "cells": [
  {
   "cell_type": "code",
   "execution_count": 2,
   "metadata": {},
   "outputs": [],
   "source": [
    "import pandas as pd\n"
   ]
  },
  {
   "cell_type": "code",
   "execution_count": 6,
   "metadata": {},
   "outputs": [
    {
     "data": {
      "text/plain": [
       "'C:\\\\Users\\\\Alumno\\\\clase 27-04'"
      ]
     },
     "execution_count": 6,
     "metadata": {},
     "output_type": "execute_result"
    }
   ],
   "source": [
    "pwd"
   ]
  },
  {
   "cell_type": "code",
   "execution_count": 8,
   "metadata": {},
   "outputs": [
    {
     "name": "stdout",
     "output_type": "stream",
     "text": [
      " El volumen de la unidad C no tiene etiqueta.\n",
      " El número de serie del volumen es: 463B-22B5\n",
      "\n",
      " Directorio de C:\\Users\\Alumno\\clase 27-04\n",
      "\n",
      "27/04/2022  20:05    <DIR>          .\n",
      "27/04/2022  20:05    <DIR>          ..\n",
      "27/04/2022  20:03    <DIR>          .ipynb_checkpoints\n",
      "27/04/2022  20:05             3.075 Untitled.ipynb\n",
      "               1 archivos          3.075 bytes\n",
      "               3 dirs  32.692.146.176 bytes libres\n"
     ]
    }
   ],
   "source": [
    "ls"
   ]
  },
  {
   "cell_type": "code",
   "execution_count": 9,
   "metadata": {},
   "outputs": [
    {
     "name": "stdout",
     "output_type": "stream",
     "text": [
      "C:\\Users\\Alumno\n"
     ]
    }
   ],
   "source": [
    "cd .."
   ]
  },
  {
   "cell_type": "code",
   "execution_count": 12,
   "metadata": {},
   "outputs": [
    {
     "name": "stdout",
     "output_type": "stream",
     "text": [
      " El volumen de la unidad C no tiene etiqueta.\n",
      " El número de serie del volumen es: 463B-22B5\n",
      "\n",
      " Directorio de C:\\Users\\Alumno\n",
      "\n",
      "27/04/2022  20:03    <DIR>          .\n",
      "27/04/2022  20:03    <DIR>          ..\n",
      "10/12/2021  17:15    <DIR>          .android\n",
      "27/04/2022  20:08    <DIR>          .conda\n",
      "27/04/2022  19:59                25 .condarc\n",
      "27/04/2022  19:59    <DIR>          .continuum\n",
      "25/04/2022  19:15    <DIR>          .docker\n",
      "07/12/2021  17:49    <DIR>          .dotnet\n",
      "27/04/2022  20:03    <DIR>          .ipython\n",
      "27/04/2022  19:59    <DIR>          .jupyter\n",
      "09/12/2021  17:55    <DIR>          .mchp_packs\n",
      "09/12/2021  17:55    <DIR>          .mplabcomm\n",
      "07/12/2021  18:36    <DIR>          .nbi\n",
      "27/04/2022  10:30    <DIR>          .ssh\n",
      "27/04/2022  20:03             7.327 2022-04-26.rar\n",
      "07/12/2021  12:03    <DIR>          3D Objects\n",
      "07/12/2021  18:21    <DIR>          Anaconda3\n",
      "27/04/2022  09:15               717 ARTICULOS.CSV\n",
      "09/12/2021  19:12    <DIR>          Autodesk\n",
      "27/04/2022  20:07    <DIR>          clase 27-04\n",
      "27/04/2022  08:52                90 CLIENTES.csv\n",
      "07/12/2021  12:03    <DIR>          Contacts\n",
      "25/04/2022  20:14         2.749.311 DOCKER (SANCHEZ).pdf\n",
      "09/12/2021  16:45    <DIR>          Documents\n",
      "27/04/2022  19:56    <DIR>          Downloads\n",
      "07/12/2021  12:03    <DIR>          Favorites\n",
      "25/04/2022  20:14             1.755 LEER.txt\n",
      "10/12/2021  17:10    <DIR>          Links\n",
      "26/04/2022  19:49         7.550.631 MINERIA DE DATOS (TID).docx\n",
      "09/12/2021  17:55    <DIR>          MPLABXProjects\n",
      "07/12/2021  12:03    <DIR>          Music\n",
      "07/12/2021  18:01    <DIR>          OneDrive\n",
      "20/12/2021  15:53    <DIR>          Pictures\n",
      "07/12/2021  12:03    <DIR>          Saved Games\n",
      "07/12/2021  12:04    <DIR>          Searches\n",
      "09/12/2021  16:12    <DIR>          source\n",
      "25/04/2022  20:14         2.120.211 THE LINUX COMMAND LINE (WILLIAM SHOTTS).pdf\n",
      "27/04/2022  08:22           230.400 TrabajoPracticoIntegrador.doc\n",
      "09/12/2021  16:21    <DIR>          Videos\n",
      "               9 archivos     12.660.467 bytes\n",
      "              30 dirs  32.691.736.576 bytes libres\n"
     ]
    }
   ],
   "source": [
    "ls"
   ]
  },
  {
   "cell_type": "code",
   "execution_count": 13,
   "metadata": {},
   "outputs": [
    {
     "name": "stdout",
     "output_type": "stream",
     "text": [
      "C:\\Users\\Alumno\\Downloads\n"
     ]
    }
   ],
   "source": [
    "cd Downloads"
   ]
  },
  {
   "cell_type": "code",
   "execution_count": 14,
   "metadata": {},
   "outputs": [
    {
     "name": "stdout",
     "output_type": "stream",
     "text": [
      " El volumen de la unidad C no tiene etiqueta.\n",
      " El número de serie del volumen es: 463B-22B5\n",
      "\n",
      " Directorio de C:\\Users\\Alumno\\Downloads\n",
      "\n",
      "27/04/2022  19:56    <DIR>          .\n",
      "27/04/2022  19:56    <DIR>          ..\n",
      "27/04/2022  19:56            89.232 diabetes_completo.csv\n",
      "25/04/2022  19:01       523.594.696 Docker Desktop Installer.exe\n",
      "27/04/2022  19:51       124.383.891 pack mejorado.rar\n",
      "26/04/2022  12:44    <DIR>          pryBonaderoTP3Interfaces\n",
      "26/04/2022  11:56            22.042 pryBonaderoTP3Interfaces.rar\n",
      "               4 archivos    648.089.861 bytes\n",
      "               3 dirs  32.691.085.312 bytes libres\n"
     ]
    }
   ],
   "source": [
    "ls"
   ]
  },
  {
   "cell_type": "code",
   "execution_count": 17,
   "metadata": {},
   "outputs": [
    {
     "data": {
      "text/plain": [
       "'C:\\\\Users\\\\Alumno\\\\Downloads'"
      ]
     },
     "execution_count": 17,
     "metadata": {},
     "output_type": "execute_result"
    }
   ],
   "source": [
    "pwd\n"
   ]
  },
  {
   "cell_type": "code",
   "execution_count": 22,
   "metadata": {},
   "outputs": [
    {
     "name": "stdout",
     "output_type": "stream",
     "text": [
      "<class 'pandas.core.frame.DataFrame'>\n",
      "RangeIndex: 5 entries, 0 to 4\n",
      "Data columns (total 11 columns):\n",
      " #   Column  Non-Null Count  Dtype  \n",
      "---  ------  --------------  -----  \n",
      " 0   x1      5 non-null      float64\n",
      " 1   x2      5 non-null      float64\n",
      " 2   x3      5 non-null      float64\n",
      " 3   x4      5 non-null      float64\n",
      " 4   x5      5 non-null      float64\n",
      " 5   x6      5 non-null      float64\n",
      " 6   x7      5 non-null      float64\n",
      " 7   x8      5 non-null      float64\n",
      " 8   x9      5 non-null      float64\n",
      " 9   x10     5 non-null      float64\n",
      " 10  y       5 non-null      float64\n",
      "dtypes: float64(11)\n",
      "memory usage: 568.0 bytes\n"
     ]
    }
   ],
   "source": [
    "df= pd.read_csv(\"C:\\\\Users\\\\Alumno\\\\Downloads\\\\diabetes_completo.csv\")\n",
    "df.head()"
   ]
  },
  {
   "cell_type": "code",
   "execution_count": 23,
   "metadata": {},
   "outputs": [
    {
     "name": "stdout",
     "output_type": "stream",
     "text": [
      "<class 'pandas.core.frame.DataFrame'>\n",
      "RangeIndex: 442 entries, 0 to 441\n",
      "Data columns (total 11 columns):\n",
      " #   Column  Non-Null Count  Dtype  \n",
      "---  ------  --------------  -----  \n",
      " 0   x1      442 non-null    float64\n",
      " 1   x2      442 non-null    float64\n",
      " 2   x3      442 non-null    float64\n",
      " 3   x4      442 non-null    float64\n",
      " 4   x5      442 non-null    float64\n",
      " 5   x6      442 non-null    float64\n",
      " 6   x7      442 non-null    float64\n",
      " 7   x8      442 non-null    float64\n",
      " 8   x9      442 non-null    float64\n",
      " 9   x10     442 non-null    float64\n",
      " 10  y       442 non-null    float64\n",
      "dtypes: float64(11)\n",
      "memory usage: 38.1 KB\n"
     ]
    }
   ],
   "source": [
    "df.info()"
   ]
  },
  {
   "cell_type": "code",
   "execution_count": 51,
   "metadata": {},
   "outputs": [
    {
     "data": {
      "text/plain": [
       "array([151.,  75., 141., 206., 135.,  97., 138.,  63., 110., 310., 101.,\n",
       "        69., 179., 185., 118., 171., 166., 144., 168.,  68.,  49., 245.,\n",
       "       184., 202., 137.,  85., 131., 283., 129.,  59., 341.,  87.,  65.,\n",
       "       102., 265., 276., 252.,  90., 100.,  55.,  61.,  92., 259.,  53.,\n",
       "       190., 142., 155., 225., 104., 182., 128.,  52.,  37., 170.,  71.,\n",
       "       163., 150., 160., 178.,  48., 270., 111.,  42., 200., 113., 143.,\n",
       "        51., 210., 134.,  98., 164.,  96., 162., 279.,  83., 302., 198.,\n",
       "        95., 232.,  81., 246., 297., 258., 229., 275., 281., 173., 180.,\n",
       "        84., 121., 161.,  99., 109., 115., 268., 274., 158., 107., 103.,\n",
       "       272., 280., 336., 317., 235.,  60., 174., 126., 288.,  88., 292.,\n",
       "       197., 186.,  25., 195., 217., 172., 214.,  70., 220., 152.,  47.,\n",
       "        74., 295., 127., 237.,  64.,  79.,  91., 116.,  86., 122.,  72.,\n",
       "        39., 196., 222., 277.,  77., 191.,  73., 263., 248., 296.,  78.,\n",
       "        93., 208., 108., 154., 124.,  67., 257., 262., 177., 187., 125.,\n",
       "       215., 303., 243., 153., 346.,  89.,  50., 308., 145.,  45., 264.,\n",
       "       241.,  66.,  94., 230., 181., 156., 233., 219.,  80., 332.,  31.,\n",
       "       236., 253.,  44., 114., 147., 242., 249., 192., 244., 199., 306.,\n",
       "       216., 139., 148.,  54., 221., 311., 321.,  58., 123., 167., 140.,\n",
       "        40., 132., 201., 273.,  43., 175., 293., 189., 209., 136., 261.,\n",
       "       146., 212., 120., 183.,  57.])"
      ]
     },
     "execution_count": 51,
     "metadata": {},
     "output_type": "execute_result"
    }
   ],
   "source": [
    "import numpy as np\n",
    "a=df.y.unique()\n",
    "a"
   ]
  },
  {
   "cell_type": "code",
   "execution_count": 55,
   "metadata": {},
   "outputs": [
    {
     "ename": "AttributeError",
     "evalue": "'numpy.ndarray' object has no attribute 'count'",
     "output_type": "error",
     "traceback": [
      "\u001b[1;31m---------------------------------------------------------------------------\u001b[0m",
      "\u001b[1;31mAttributeError\u001b[0m                            Traceback (most recent call last)",
      "\u001b[1;32m~\\AppData\\Local\\Temp/ipykernel_9416/4086721465.py\u001b[0m in \u001b[0;36m<module>\u001b[1;34m\u001b[0m\n\u001b[1;32m----> 1\u001b[1;33m \u001b[0ma\u001b[0m\u001b[1;33m.\u001b[0m\u001b[0mcount\u001b[0m\u001b[1;33m(\u001b[0m\u001b[1;33m)\u001b[0m\u001b[1;33m\u001b[0m\u001b[1;33m\u001b[0m\u001b[0m\n\u001b[0m",
      "\u001b[1;31mAttributeError\u001b[0m: 'numpy.ndarray' object has no attribute 'count'"
     ]
    }
   ],
   "source": [
    "a.count()"
   ]
  },
  {
   "cell_type": "code",
   "execution_count": 53,
   "metadata": {},
   "outputs": [],
   "source": [
    "from sklearn.model_selection import train_test_split"
   ]
  },
  {
   "cell_type": "code",
   "execution_count": 54,
   "metadata": {},
   "outputs": [],
   "source": [
    "train,test= train_test_split(df,test_size=0.2,random_state=123)"
   ]
  },
  {
   "cell_type": "code",
   "execution_count": 29,
   "metadata": {},
   "outputs": [
    {
     "data": {
      "text/html": [
       "<div>\n",
       "<style scoped>\n",
       "    .dataframe tbody tr th:only-of-type {\n",
       "        vertical-align: middle;\n",
       "    }\n",
       "\n",
       "    .dataframe tbody tr th {\n",
       "        vertical-align: top;\n",
       "    }\n",
       "\n",
       "    .dataframe thead th {\n",
       "        text-align: right;\n",
       "    }\n",
       "</style>\n",
       "<table border=\"1\" class=\"dataframe\">\n",
       "  <thead>\n",
       "    <tr style=\"text-align: right;\">\n",
       "      <th></th>\n",
       "      <th>x1</th>\n",
       "      <th>x2</th>\n",
       "      <th>x3</th>\n",
       "      <th>x4</th>\n",
       "      <th>x5</th>\n",
       "      <th>x6</th>\n",
       "      <th>x7</th>\n",
       "      <th>x8</th>\n",
       "      <th>x9</th>\n",
       "      <th>x10</th>\n",
       "      <th>y</th>\n",
       "    </tr>\n",
       "  </thead>\n",
       "  <tbody>\n",
       "    <tr>\n",
       "      <th>59</th>\n",
       "      <td>0.063504</td>\n",
       "      <td>0.050680</td>\n",
       "      <td>-0.025607</td>\n",
       "      <td>0.011544</td>\n",
       "      <td>0.064477</td>\n",
       "      <td>0.048477</td>\n",
       "      <td>0.030232</td>\n",
       "      <td>-0.002592</td>\n",
       "      <td>0.038393</td>\n",
       "      <td>0.019633</td>\n",
       "      <td>170.0</td>\n",
       "    </tr>\n",
       "    <tr>\n",
       "      <th>209</th>\n",
       "      <td>0.038076</td>\n",
       "      <td>0.050680</td>\n",
       "      <td>-0.018062</td>\n",
       "      <td>0.066630</td>\n",
       "      <td>-0.051103</td>\n",
       "      <td>-0.016658</td>\n",
       "      <td>-0.076536</td>\n",
       "      <td>0.034309</td>\n",
       "      <td>-0.011901</td>\n",
       "      <td>-0.013504</td>\n",
       "      <td>77.0</td>\n",
       "    </tr>\n",
       "    <tr>\n",
       "      <th>21</th>\n",
       "      <td>-0.085430</td>\n",
       "      <td>0.050680</td>\n",
       "      <td>-0.022373</td>\n",
       "      <td>0.001215</td>\n",
       "      <td>-0.037344</td>\n",
       "      <td>-0.026366</td>\n",
       "      <td>0.015505</td>\n",
       "      <td>-0.039493</td>\n",
       "      <td>-0.072128</td>\n",
       "      <td>-0.017646</td>\n",
       "      <td>49.0</td>\n",
       "    </tr>\n",
       "    <tr>\n",
       "      <th>274</th>\n",
       "      <td>0.016281</td>\n",
       "      <td>-0.044642</td>\n",
       "      <td>-0.024529</td>\n",
       "      <td>0.035644</td>\n",
       "      <td>-0.007073</td>\n",
       "      <td>-0.003193</td>\n",
       "      <td>-0.013948</td>\n",
       "      <td>-0.002592</td>\n",
       "      <td>0.015567</td>\n",
       "      <td>0.015491</td>\n",
       "      <td>66.0</td>\n",
       "    </tr>\n",
       "    <tr>\n",
       "      <th>107</th>\n",
       "      <td>0.027178</td>\n",
       "      <td>-0.044642</td>\n",
       "      <td>0.049840</td>\n",
       "      <td>-0.055018</td>\n",
       "      <td>-0.002945</td>\n",
       "      <td>0.040648</td>\n",
       "      <td>-0.058127</td>\n",
       "      <td>0.052759</td>\n",
       "      <td>-0.052959</td>\n",
       "      <td>-0.005220</td>\n",
       "      <td>144.0</td>\n",
       "    </tr>\n",
       "    <tr>\n",
       "      <th>...</th>\n",
       "      <td>...</td>\n",
       "      <td>...</td>\n",
       "      <td>...</td>\n",
       "      <td>...</td>\n",
       "      <td>...</td>\n",
       "      <td>...</td>\n",
       "      <td>...</td>\n",
       "      <td>...</td>\n",
       "      <td>...</td>\n",
       "      <td>...</td>\n",
       "      <td>...</td>\n",
       "    </tr>\n",
       "    <tr>\n",
       "      <th>230</th>\n",
       "      <td>-0.038207</td>\n",
       "      <td>0.050680</td>\n",
       "      <td>0.071397</td>\n",
       "      <td>-0.057314</td>\n",
       "      <td>0.153914</td>\n",
       "      <td>0.155887</td>\n",
       "      <td>0.000779</td>\n",
       "      <td>0.071948</td>\n",
       "      <td>0.050276</td>\n",
       "      <td>0.069338</td>\n",
       "      <td>220.0</td>\n",
       "    </tr>\n",
       "    <tr>\n",
       "      <th>98</th>\n",
       "      <td>0.001751</td>\n",
       "      <td>0.050680</td>\n",
       "      <td>-0.005128</td>\n",
       "      <td>-0.012556</td>\n",
       "      <td>-0.015328</td>\n",
       "      <td>-0.013840</td>\n",
       "      <td>0.008142</td>\n",
       "      <td>-0.039493</td>\n",
       "      <td>-0.006080</td>\n",
       "      <td>-0.067351</td>\n",
       "      <td>92.0</td>\n",
       "    </tr>\n",
       "    <tr>\n",
       "      <th>322</th>\n",
       "      <td>0.023546</td>\n",
       "      <td>0.050680</td>\n",
       "      <td>0.061696</td>\n",
       "      <td>0.062039</td>\n",
       "      <td>0.024574</td>\n",
       "      <td>-0.036073</td>\n",
       "      <td>-0.091262</td>\n",
       "      <td>0.155345</td>\n",
       "      <td>0.133396</td>\n",
       "      <td>0.081764</td>\n",
       "      <td>242.0</td>\n",
       "    </tr>\n",
       "    <tr>\n",
       "      <th>382</th>\n",
       "      <td>0.048974</td>\n",
       "      <td>-0.044642</td>\n",
       "      <td>0.060618</td>\n",
       "      <td>-0.022885</td>\n",
       "      <td>-0.023584</td>\n",
       "      <td>-0.072712</td>\n",
       "      <td>-0.043401</td>\n",
       "      <td>-0.002592</td>\n",
       "      <td>0.104138</td>\n",
       "      <td>0.036201</td>\n",
       "      <td>132.0</td>\n",
       "    </tr>\n",
       "    <tr>\n",
       "      <th>365</th>\n",
       "      <td>0.034443</td>\n",
       "      <td>-0.044642</td>\n",
       "      <td>-0.038540</td>\n",
       "      <td>-0.012556</td>\n",
       "      <td>0.009439</td>\n",
       "      <td>0.005262</td>\n",
       "      <td>-0.006584</td>\n",
       "      <td>-0.002592</td>\n",
       "      <td>0.031193</td>\n",
       "      <td>0.098333</td>\n",
       "      <td>206.0</td>\n",
       "    </tr>\n",
       "  </tbody>\n",
       "</table>\n",
       "<p>353 rows × 11 columns</p>\n",
       "</div>"
      ],
      "text/plain": [
       "           x1        x2        x3        x4        x5        x6        x7  \\\n",
       "59   0.063504  0.050680 -0.025607  0.011544  0.064477  0.048477  0.030232   \n",
       "209  0.038076  0.050680 -0.018062  0.066630 -0.051103 -0.016658 -0.076536   \n",
       "21  -0.085430  0.050680 -0.022373  0.001215 -0.037344 -0.026366  0.015505   \n",
       "274  0.016281 -0.044642 -0.024529  0.035644 -0.007073 -0.003193 -0.013948   \n",
       "107  0.027178 -0.044642  0.049840 -0.055018 -0.002945  0.040648 -0.058127   \n",
       "..        ...       ...       ...       ...       ...       ...       ...   \n",
       "230 -0.038207  0.050680  0.071397 -0.057314  0.153914  0.155887  0.000779   \n",
       "98   0.001751  0.050680 -0.005128 -0.012556 -0.015328 -0.013840  0.008142   \n",
       "322  0.023546  0.050680  0.061696  0.062039  0.024574 -0.036073 -0.091262   \n",
       "382  0.048974 -0.044642  0.060618 -0.022885 -0.023584 -0.072712 -0.043401   \n",
       "365  0.034443 -0.044642 -0.038540 -0.012556  0.009439  0.005262 -0.006584   \n",
       "\n",
       "           x8        x9       x10      y  \n",
       "59  -0.002592  0.038393  0.019633  170.0  \n",
       "209  0.034309 -0.011901 -0.013504   77.0  \n",
       "21  -0.039493 -0.072128 -0.017646   49.0  \n",
       "274 -0.002592  0.015567  0.015491   66.0  \n",
       "107  0.052759 -0.052959 -0.005220  144.0  \n",
       "..        ...       ...       ...    ...  \n",
       "230  0.071948  0.050276  0.069338  220.0  \n",
       "98  -0.039493 -0.006080 -0.067351   92.0  \n",
       "322  0.155345  0.133396  0.081764  242.0  \n",
       "382 -0.002592  0.104138  0.036201  132.0  \n",
       "365 -0.002592  0.031193  0.098333  206.0  \n",
       "\n",
       "[353 rows x 11 columns]"
      ]
     },
     "execution_count": 29,
     "metadata": {},
     "output_type": "execute_result"
    }
   ],
   "source": [
    "train"
   ]
  },
  {
   "cell_type": "code",
   "execution_count": 30,
   "metadata": {},
   "outputs": [
    {
     "data": {
      "text/html": [
       "<div>\n",
       "<style scoped>\n",
       "    .dataframe tbody tr th:only-of-type {\n",
       "        vertical-align: middle;\n",
       "    }\n",
       "\n",
       "    .dataframe tbody tr th {\n",
       "        vertical-align: top;\n",
       "    }\n",
       "\n",
       "    .dataframe thead th {\n",
       "        text-align: right;\n",
       "    }\n",
       "</style>\n",
       "<table border=\"1\" class=\"dataframe\">\n",
       "  <thead>\n",
       "    <tr style=\"text-align: right;\">\n",
       "      <th></th>\n",
       "      <th>x1</th>\n",
       "      <th>x2</th>\n",
       "      <th>x3</th>\n",
       "      <th>x4</th>\n",
       "      <th>x5</th>\n",
       "      <th>x6</th>\n",
       "      <th>x7</th>\n",
       "      <th>x8</th>\n",
       "      <th>x9</th>\n",
       "      <th>x10</th>\n",
       "      <th>y</th>\n",
       "    </tr>\n",
       "  </thead>\n",
       "  <tbody>\n",
       "    <tr>\n",
       "      <th>13</th>\n",
       "      <td>0.005383</td>\n",
       "      <td>0.050680</td>\n",
       "      <td>-0.001895</td>\n",
       "      <td>0.008101</td>\n",
       "      <td>-0.004321</td>\n",
       "      <td>-0.015719</td>\n",
       "      <td>-0.002903</td>\n",
       "      <td>-0.002592</td>\n",
       "      <td>0.038393</td>\n",
       "      <td>-0.013504</td>\n",
       "      <td>185.0</td>\n",
       "    </tr>\n",
       "    <tr>\n",
       "      <th>66</th>\n",
       "      <td>-0.009147</td>\n",
       "      <td>0.050680</td>\n",
       "      <td>-0.018062</td>\n",
       "      <td>-0.033214</td>\n",
       "      <td>-0.020832</td>\n",
       "      <td>0.012152</td>\n",
       "      <td>-0.072854</td>\n",
       "      <td>0.071210</td>\n",
       "      <td>0.000271</td>\n",
       "      <td>0.019633</td>\n",
       "      <td>150.0</td>\n",
       "    </tr>\n",
       "    <tr>\n",
       "      <th>234</th>\n",
       "      <td>0.045341</td>\n",
       "      <td>-0.044642</td>\n",
       "      <td>0.039062</td>\n",
       "      <td>0.045972</td>\n",
       "      <td>0.006687</td>\n",
       "      <td>-0.024174</td>\n",
       "      <td>0.008142</td>\n",
       "      <td>-0.012556</td>\n",
       "      <td>0.064328</td>\n",
       "      <td>0.056912</td>\n",
       "      <td>246.0</td>\n",
       "    </tr>\n",
       "    <tr>\n",
       "      <th>24</th>\n",
       "      <td>-0.063635</td>\n",
       "      <td>-0.044642</td>\n",
       "      <td>0.035829</td>\n",
       "      <td>-0.022885</td>\n",
       "      <td>-0.030464</td>\n",
       "      <td>-0.018850</td>\n",
       "      <td>-0.006584</td>\n",
       "      <td>-0.002592</td>\n",
       "      <td>-0.025952</td>\n",
       "      <td>-0.054925</td>\n",
       "      <td>184.0</td>\n",
       "    </tr>\n",
       "    <tr>\n",
       "      <th>388</th>\n",
       "      <td>0.052606</td>\n",
       "      <td>0.050680</td>\n",
       "      <td>-0.024529</td>\n",
       "      <td>0.056301</td>\n",
       "      <td>-0.007073</td>\n",
       "      <td>-0.005072</td>\n",
       "      <td>-0.021311</td>\n",
       "      <td>-0.002592</td>\n",
       "      <td>0.026714</td>\n",
       "      <td>-0.038357</td>\n",
       "      <td>110.0</td>\n",
       "    </tr>\n",
       "    <tr>\n",
       "      <th>...</th>\n",
       "      <td>...</td>\n",
       "      <td>...</td>\n",
       "      <td>...</td>\n",
       "      <td>...</td>\n",
       "      <td>...</td>\n",
       "      <td>...</td>\n",
       "      <td>...</td>\n",
       "      <td>...</td>\n",
       "      <td>...</td>\n",
       "      <td>...</td>\n",
       "      <td>...</td>\n",
       "    </tr>\n",
       "    <tr>\n",
       "      <th>114</th>\n",
       "      <td>0.023546</td>\n",
       "      <td>-0.044642</td>\n",
       "      <td>0.110198</td>\n",
       "      <td>0.063187</td>\n",
       "      <td>0.013567</td>\n",
       "      <td>-0.032942</td>\n",
       "      <td>-0.024993</td>\n",
       "      <td>0.020655</td>\n",
       "      <td>0.099240</td>\n",
       "      <td>0.023775</td>\n",
       "      <td>258.0</td>\n",
       "    </tr>\n",
       "    <tr>\n",
       "      <th>142</th>\n",
       "      <td>0.041708</td>\n",
       "      <td>0.050680</td>\n",
       "      <td>0.012117</td>\n",
       "      <td>0.039087</td>\n",
       "      <td>0.054845</td>\n",
       "      <td>0.044406</td>\n",
       "      <td>0.004460</td>\n",
       "      <td>-0.002592</td>\n",
       "      <td>0.045601</td>\n",
       "      <td>-0.001078</td>\n",
       "      <td>235.0</td>\n",
       "    </tr>\n",
       "    <tr>\n",
       "      <th>121</th>\n",
       "      <td>0.063504</td>\n",
       "      <td>-0.044642</td>\n",
       "      <td>0.017506</td>\n",
       "      <td>0.021872</td>\n",
       "      <td>0.008063</td>\n",
       "      <td>0.021546</td>\n",
       "      <td>-0.036038</td>\n",
       "      <td>0.034309</td>\n",
       "      <td>0.019908</td>\n",
       "      <td>0.011349</td>\n",
       "      <td>173.0</td>\n",
       "    </tr>\n",
       "    <tr>\n",
       "      <th>31</th>\n",
       "      <td>-0.023677</td>\n",
       "      <td>-0.044642</td>\n",
       "      <td>-0.065486</td>\n",
       "      <td>-0.081414</td>\n",
       "      <td>-0.038720</td>\n",
       "      <td>-0.053610</td>\n",
       "      <td>0.059685</td>\n",
       "      <td>-0.076395</td>\n",
       "      <td>-0.037128</td>\n",
       "      <td>-0.042499</td>\n",
       "      <td>59.0</td>\n",
       "    </tr>\n",
       "    <tr>\n",
       "      <th>385</th>\n",
       "      <td>0.023546</td>\n",
       "      <td>0.050680</td>\n",
       "      <td>-0.019140</td>\n",
       "      <td>0.049415</td>\n",
       "      <td>-0.063487</td>\n",
       "      <td>-0.061125</td>\n",
       "      <td>0.004460</td>\n",
       "      <td>-0.039493</td>\n",
       "      <td>-0.025952</td>\n",
       "      <td>-0.013504</td>\n",
       "      <td>219.0</td>\n",
       "    </tr>\n",
       "  </tbody>\n",
       "</table>\n",
       "<p>89 rows × 11 columns</p>\n",
       "</div>"
      ],
      "text/plain": [
       "           x1        x2        x3        x4        x5        x6        x7  \\\n",
       "13   0.005383  0.050680 -0.001895  0.008101 -0.004321 -0.015719 -0.002903   \n",
       "66  -0.009147  0.050680 -0.018062 -0.033214 -0.020832  0.012152 -0.072854   \n",
       "234  0.045341 -0.044642  0.039062  0.045972  0.006687 -0.024174  0.008142   \n",
       "24  -0.063635 -0.044642  0.035829 -0.022885 -0.030464 -0.018850 -0.006584   \n",
       "388  0.052606  0.050680 -0.024529  0.056301 -0.007073 -0.005072 -0.021311   \n",
       "..        ...       ...       ...       ...       ...       ...       ...   \n",
       "114  0.023546 -0.044642  0.110198  0.063187  0.013567 -0.032942 -0.024993   \n",
       "142  0.041708  0.050680  0.012117  0.039087  0.054845  0.044406  0.004460   \n",
       "121  0.063504 -0.044642  0.017506  0.021872  0.008063  0.021546 -0.036038   \n",
       "31  -0.023677 -0.044642 -0.065486 -0.081414 -0.038720 -0.053610  0.059685   \n",
       "385  0.023546  0.050680 -0.019140  0.049415 -0.063487 -0.061125  0.004460   \n",
       "\n",
       "           x8        x9       x10      y  \n",
       "13  -0.002592  0.038393 -0.013504  185.0  \n",
       "66   0.071210  0.000271  0.019633  150.0  \n",
       "234 -0.012556  0.064328  0.056912  246.0  \n",
       "24  -0.002592 -0.025952 -0.054925  184.0  \n",
       "388 -0.002592  0.026714 -0.038357  110.0  \n",
       "..        ...       ...       ...    ...  \n",
       "114  0.020655  0.099240  0.023775  258.0  \n",
       "142 -0.002592  0.045601 -0.001078  235.0  \n",
       "121  0.034309  0.019908  0.011349  173.0  \n",
       "31  -0.076395 -0.037128 -0.042499   59.0  \n",
       "385 -0.039493 -0.025952 -0.013504  219.0  \n",
       "\n",
       "[89 rows x 11 columns]"
      ]
     },
     "execution_count": 30,
     "metadata": {},
     "output_type": "execute_result"
    }
   ],
   "source": [
    "test"
   ]
  },
  {
   "cell_type": "code",
   "execution_count": 33,
   "metadata": {},
   "outputs": [],
   "source": [
    "train_x= train.drop([\"y\"], axis=1)\n",
    "train_y= train.y\n",
    "test_x= test.drop([\"y\"], axis=1)\n",
    "test_y= test.y"
   ]
  },
  {
   "cell_type": "code",
   "execution_count": 34,
   "metadata": {},
   "outputs": [
    {
     "data": {
      "text/html": [
       "<div>\n",
       "<style scoped>\n",
       "    .dataframe tbody tr th:only-of-type {\n",
       "        vertical-align: middle;\n",
       "    }\n",
       "\n",
       "    .dataframe tbody tr th {\n",
       "        vertical-align: top;\n",
       "    }\n",
       "\n",
       "    .dataframe thead th {\n",
       "        text-align: right;\n",
       "    }\n",
       "</style>\n",
       "<table border=\"1\" class=\"dataframe\">\n",
       "  <thead>\n",
       "    <tr style=\"text-align: right;\">\n",
       "      <th></th>\n",
       "      <th>x1</th>\n",
       "      <th>x2</th>\n",
       "      <th>x3</th>\n",
       "      <th>x4</th>\n",
       "      <th>x5</th>\n",
       "      <th>x6</th>\n",
       "      <th>x7</th>\n",
       "      <th>x8</th>\n",
       "      <th>x9</th>\n",
       "      <th>x10</th>\n",
       "    </tr>\n",
       "  </thead>\n",
       "  <tbody>\n",
       "    <tr>\n",
       "      <th>59</th>\n",
       "      <td>0.063504</td>\n",
       "      <td>0.050680</td>\n",
       "      <td>-0.025607</td>\n",
       "      <td>0.011544</td>\n",
       "      <td>0.064477</td>\n",
       "      <td>0.048477</td>\n",
       "      <td>0.030232</td>\n",
       "      <td>-0.002592</td>\n",
       "      <td>0.038393</td>\n",
       "      <td>0.019633</td>\n",
       "    </tr>\n",
       "    <tr>\n",
       "      <th>209</th>\n",
       "      <td>0.038076</td>\n",
       "      <td>0.050680</td>\n",
       "      <td>-0.018062</td>\n",
       "      <td>0.066630</td>\n",
       "      <td>-0.051103</td>\n",
       "      <td>-0.016658</td>\n",
       "      <td>-0.076536</td>\n",
       "      <td>0.034309</td>\n",
       "      <td>-0.011901</td>\n",
       "      <td>-0.013504</td>\n",
       "    </tr>\n",
       "    <tr>\n",
       "      <th>21</th>\n",
       "      <td>-0.085430</td>\n",
       "      <td>0.050680</td>\n",
       "      <td>-0.022373</td>\n",
       "      <td>0.001215</td>\n",
       "      <td>-0.037344</td>\n",
       "      <td>-0.026366</td>\n",
       "      <td>0.015505</td>\n",
       "      <td>-0.039493</td>\n",
       "      <td>-0.072128</td>\n",
       "      <td>-0.017646</td>\n",
       "    </tr>\n",
       "    <tr>\n",
       "      <th>274</th>\n",
       "      <td>0.016281</td>\n",
       "      <td>-0.044642</td>\n",
       "      <td>-0.024529</td>\n",
       "      <td>0.035644</td>\n",
       "      <td>-0.007073</td>\n",
       "      <td>-0.003193</td>\n",
       "      <td>-0.013948</td>\n",
       "      <td>-0.002592</td>\n",
       "      <td>0.015567</td>\n",
       "      <td>0.015491</td>\n",
       "    </tr>\n",
       "    <tr>\n",
       "      <th>107</th>\n",
       "      <td>0.027178</td>\n",
       "      <td>-0.044642</td>\n",
       "      <td>0.049840</td>\n",
       "      <td>-0.055018</td>\n",
       "      <td>-0.002945</td>\n",
       "      <td>0.040648</td>\n",
       "      <td>-0.058127</td>\n",
       "      <td>0.052759</td>\n",
       "      <td>-0.052959</td>\n",
       "      <td>-0.005220</td>\n",
       "    </tr>\n",
       "    <tr>\n",
       "      <th>...</th>\n",
       "      <td>...</td>\n",
       "      <td>...</td>\n",
       "      <td>...</td>\n",
       "      <td>...</td>\n",
       "      <td>...</td>\n",
       "      <td>...</td>\n",
       "      <td>...</td>\n",
       "      <td>...</td>\n",
       "      <td>...</td>\n",
       "      <td>...</td>\n",
       "    </tr>\n",
       "    <tr>\n",
       "      <th>230</th>\n",
       "      <td>-0.038207</td>\n",
       "      <td>0.050680</td>\n",
       "      <td>0.071397</td>\n",
       "      <td>-0.057314</td>\n",
       "      <td>0.153914</td>\n",
       "      <td>0.155887</td>\n",
       "      <td>0.000779</td>\n",
       "      <td>0.071948</td>\n",
       "      <td>0.050276</td>\n",
       "      <td>0.069338</td>\n",
       "    </tr>\n",
       "    <tr>\n",
       "      <th>98</th>\n",
       "      <td>0.001751</td>\n",
       "      <td>0.050680</td>\n",
       "      <td>-0.005128</td>\n",
       "      <td>-0.012556</td>\n",
       "      <td>-0.015328</td>\n",
       "      <td>-0.013840</td>\n",
       "      <td>0.008142</td>\n",
       "      <td>-0.039493</td>\n",
       "      <td>-0.006080</td>\n",
       "      <td>-0.067351</td>\n",
       "    </tr>\n",
       "    <tr>\n",
       "      <th>322</th>\n",
       "      <td>0.023546</td>\n",
       "      <td>0.050680</td>\n",
       "      <td>0.061696</td>\n",
       "      <td>0.062039</td>\n",
       "      <td>0.024574</td>\n",
       "      <td>-0.036073</td>\n",
       "      <td>-0.091262</td>\n",
       "      <td>0.155345</td>\n",
       "      <td>0.133396</td>\n",
       "      <td>0.081764</td>\n",
       "    </tr>\n",
       "    <tr>\n",
       "      <th>382</th>\n",
       "      <td>0.048974</td>\n",
       "      <td>-0.044642</td>\n",
       "      <td>0.060618</td>\n",
       "      <td>-0.022885</td>\n",
       "      <td>-0.023584</td>\n",
       "      <td>-0.072712</td>\n",
       "      <td>-0.043401</td>\n",
       "      <td>-0.002592</td>\n",
       "      <td>0.104138</td>\n",
       "      <td>0.036201</td>\n",
       "    </tr>\n",
       "    <tr>\n",
       "      <th>365</th>\n",
       "      <td>0.034443</td>\n",
       "      <td>-0.044642</td>\n",
       "      <td>-0.038540</td>\n",
       "      <td>-0.012556</td>\n",
       "      <td>0.009439</td>\n",
       "      <td>0.005262</td>\n",
       "      <td>-0.006584</td>\n",
       "      <td>-0.002592</td>\n",
       "      <td>0.031193</td>\n",
       "      <td>0.098333</td>\n",
       "    </tr>\n",
       "  </tbody>\n",
       "</table>\n",
       "<p>353 rows × 10 columns</p>\n",
       "</div>"
      ],
      "text/plain": [
       "           x1        x2        x3        x4        x5        x6        x7  \\\n",
       "59   0.063504  0.050680 -0.025607  0.011544  0.064477  0.048477  0.030232   \n",
       "209  0.038076  0.050680 -0.018062  0.066630 -0.051103 -0.016658 -0.076536   \n",
       "21  -0.085430  0.050680 -0.022373  0.001215 -0.037344 -0.026366  0.015505   \n",
       "274  0.016281 -0.044642 -0.024529  0.035644 -0.007073 -0.003193 -0.013948   \n",
       "107  0.027178 -0.044642  0.049840 -0.055018 -0.002945  0.040648 -0.058127   \n",
       "..        ...       ...       ...       ...       ...       ...       ...   \n",
       "230 -0.038207  0.050680  0.071397 -0.057314  0.153914  0.155887  0.000779   \n",
       "98   0.001751  0.050680 -0.005128 -0.012556 -0.015328 -0.013840  0.008142   \n",
       "322  0.023546  0.050680  0.061696  0.062039  0.024574 -0.036073 -0.091262   \n",
       "382  0.048974 -0.044642  0.060618 -0.022885 -0.023584 -0.072712 -0.043401   \n",
       "365  0.034443 -0.044642 -0.038540 -0.012556  0.009439  0.005262 -0.006584   \n",
       "\n",
       "           x8        x9       x10  \n",
       "59  -0.002592  0.038393  0.019633  \n",
       "209  0.034309 -0.011901 -0.013504  \n",
       "21  -0.039493 -0.072128 -0.017646  \n",
       "274 -0.002592  0.015567  0.015491  \n",
       "107  0.052759 -0.052959 -0.005220  \n",
       "..        ...       ...       ...  \n",
       "230  0.071948  0.050276  0.069338  \n",
       "98  -0.039493 -0.006080 -0.067351  \n",
       "322  0.155345  0.133396  0.081764  \n",
       "382 -0.002592  0.104138  0.036201  \n",
       "365 -0.002592  0.031193  0.098333  \n",
       "\n",
       "[353 rows x 10 columns]"
      ]
     },
     "execution_count": 34,
     "metadata": {},
     "output_type": "execute_result"
    }
   ],
   "source": [
    "train_x"
   ]
  },
  {
   "cell_type": "code",
   "execution_count": 35,
   "metadata": {},
   "outputs": [
    {
     "data": {
      "text/html": [
       "<div>\n",
       "<style scoped>\n",
       "    .dataframe tbody tr th:only-of-type {\n",
       "        vertical-align: middle;\n",
       "    }\n",
       "\n",
       "    .dataframe tbody tr th {\n",
       "        vertical-align: top;\n",
       "    }\n",
       "\n",
       "    .dataframe thead th {\n",
       "        text-align: right;\n",
       "    }\n",
       "</style>\n",
       "<table border=\"1\" class=\"dataframe\">\n",
       "  <thead>\n",
       "    <tr style=\"text-align: right;\">\n",
       "      <th></th>\n",
       "      <th>x1</th>\n",
       "      <th>x2</th>\n",
       "      <th>x3</th>\n",
       "      <th>x4</th>\n",
       "      <th>x5</th>\n",
       "      <th>x6</th>\n",
       "      <th>x7</th>\n",
       "      <th>x8</th>\n",
       "      <th>x9</th>\n",
       "      <th>x10</th>\n",
       "    </tr>\n",
       "  </thead>\n",
       "  <tbody>\n",
       "    <tr>\n",
       "      <th>13</th>\n",
       "      <td>0.005383</td>\n",
       "      <td>0.050680</td>\n",
       "      <td>-0.001895</td>\n",
       "      <td>0.008101</td>\n",
       "      <td>-0.004321</td>\n",
       "      <td>-0.015719</td>\n",
       "      <td>-0.002903</td>\n",
       "      <td>-0.002592</td>\n",
       "      <td>0.038393</td>\n",
       "      <td>-0.013504</td>\n",
       "    </tr>\n",
       "    <tr>\n",
       "      <th>66</th>\n",
       "      <td>-0.009147</td>\n",
       "      <td>0.050680</td>\n",
       "      <td>-0.018062</td>\n",
       "      <td>-0.033214</td>\n",
       "      <td>-0.020832</td>\n",
       "      <td>0.012152</td>\n",
       "      <td>-0.072854</td>\n",
       "      <td>0.071210</td>\n",
       "      <td>0.000271</td>\n",
       "      <td>0.019633</td>\n",
       "    </tr>\n",
       "    <tr>\n",
       "      <th>234</th>\n",
       "      <td>0.045341</td>\n",
       "      <td>-0.044642</td>\n",
       "      <td>0.039062</td>\n",
       "      <td>0.045972</td>\n",
       "      <td>0.006687</td>\n",
       "      <td>-0.024174</td>\n",
       "      <td>0.008142</td>\n",
       "      <td>-0.012556</td>\n",
       "      <td>0.064328</td>\n",
       "      <td>0.056912</td>\n",
       "    </tr>\n",
       "    <tr>\n",
       "      <th>24</th>\n",
       "      <td>-0.063635</td>\n",
       "      <td>-0.044642</td>\n",
       "      <td>0.035829</td>\n",
       "      <td>-0.022885</td>\n",
       "      <td>-0.030464</td>\n",
       "      <td>-0.018850</td>\n",
       "      <td>-0.006584</td>\n",
       "      <td>-0.002592</td>\n",
       "      <td>-0.025952</td>\n",
       "      <td>-0.054925</td>\n",
       "    </tr>\n",
       "    <tr>\n",
       "      <th>388</th>\n",
       "      <td>0.052606</td>\n",
       "      <td>0.050680</td>\n",
       "      <td>-0.024529</td>\n",
       "      <td>0.056301</td>\n",
       "      <td>-0.007073</td>\n",
       "      <td>-0.005072</td>\n",
       "      <td>-0.021311</td>\n",
       "      <td>-0.002592</td>\n",
       "      <td>0.026714</td>\n",
       "      <td>-0.038357</td>\n",
       "    </tr>\n",
       "    <tr>\n",
       "      <th>...</th>\n",
       "      <td>...</td>\n",
       "      <td>...</td>\n",
       "      <td>...</td>\n",
       "      <td>...</td>\n",
       "      <td>...</td>\n",
       "      <td>...</td>\n",
       "      <td>...</td>\n",
       "      <td>...</td>\n",
       "      <td>...</td>\n",
       "      <td>...</td>\n",
       "    </tr>\n",
       "    <tr>\n",
       "      <th>114</th>\n",
       "      <td>0.023546</td>\n",
       "      <td>-0.044642</td>\n",
       "      <td>0.110198</td>\n",
       "      <td>0.063187</td>\n",
       "      <td>0.013567</td>\n",
       "      <td>-0.032942</td>\n",
       "      <td>-0.024993</td>\n",
       "      <td>0.020655</td>\n",
       "      <td>0.099240</td>\n",
       "      <td>0.023775</td>\n",
       "    </tr>\n",
       "    <tr>\n",
       "      <th>142</th>\n",
       "      <td>0.041708</td>\n",
       "      <td>0.050680</td>\n",
       "      <td>0.012117</td>\n",
       "      <td>0.039087</td>\n",
       "      <td>0.054845</td>\n",
       "      <td>0.044406</td>\n",
       "      <td>0.004460</td>\n",
       "      <td>-0.002592</td>\n",
       "      <td>0.045601</td>\n",
       "      <td>-0.001078</td>\n",
       "    </tr>\n",
       "    <tr>\n",
       "      <th>121</th>\n",
       "      <td>0.063504</td>\n",
       "      <td>-0.044642</td>\n",
       "      <td>0.017506</td>\n",
       "      <td>0.021872</td>\n",
       "      <td>0.008063</td>\n",
       "      <td>0.021546</td>\n",
       "      <td>-0.036038</td>\n",
       "      <td>0.034309</td>\n",
       "      <td>0.019908</td>\n",
       "      <td>0.011349</td>\n",
       "    </tr>\n",
       "    <tr>\n",
       "      <th>31</th>\n",
       "      <td>-0.023677</td>\n",
       "      <td>-0.044642</td>\n",
       "      <td>-0.065486</td>\n",
       "      <td>-0.081414</td>\n",
       "      <td>-0.038720</td>\n",
       "      <td>-0.053610</td>\n",
       "      <td>0.059685</td>\n",
       "      <td>-0.076395</td>\n",
       "      <td>-0.037128</td>\n",
       "      <td>-0.042499</td>\n",
       "    </tr>\n",
       "    <tr>\n",
       "      <th>385</th>\n",
       "      <td>0.023546</td>\n",
       "      <td>0.050680</td>\n",
       "      <td>-0.019140</td>\n",
       "      <td>0.049415</td>\n",
       "      <td>-0.063487</td>\n",
       "      <td>-0.061125</td>\n",
       "      <td>0.004460</td>\n",
       "      <td>-0.039493</td>\n",
       "      <td>-0.025952</td>\n",
       "      <td>-0.013504</td>\n",
       "    </tr>\n",
       "  </tbody>\n",
       "</table>\n",
       "<p>89 rows × 10 columns</p>\n",
       "</div>"
      ],
      "text/plain": [
       "           x1        x2        x3        x4        x5        x6        x7  \\\n",
       "13   0.005383  0.050680 -0.001895  0.008101 -0.004321 -0.015719 -0.002903   \n",
       "66  -0.009147  0.050680 -0.018062 -0.033214 -0.020832  0.012152 -0.072854   \n",
       "234  0.045341 -0.044642  0.039062  0.045972  0.006687 -0.024174  0.008142   \n",
       "24  -0.063635 -0.044642  0.035829 -0.022885 -0.030464 -0.018850 -0.006584   \n",
       "388  0.052606  0.050680 -0.024529  0.056301 -0.007073 -0.005072 -0.021311   \n",
       "..        ...       ...       ...       ...       ...       ...       ...   \n",
       "114  0.023546 -0.044642  0.110198  0.063187  0.013567 -0.032942 -0.024993   \n",
       "142  0.041708  0.050680  0.012117  0.039087  0.054845  0.044406  0.004460   \n",
       "121  0.063504 -0.044642  0.017506  0.021872  0.008063  0.021546 -0.036038   \n",
       "31  -0.023677 -0.044642 -0.065486 -0.081414 -0.038720 -0.053610  0.059685   \n",
       "385  0.023546  0.050680 -0.019140  0.049415 -0.063487 -0.061125  0.004460   \n",
       "\n",
       "           x8        x9       x10  \n",
       "13  -0.002592  0.038393 -0.013504  \n",
       "66   0.071210  0.000271  0.019633  \n",
       "234 -0.012556  0.064328  0.056912  \n",
       "24  -0.002592 -0.025952 -0.054925  \n",
       "388 -0.002592  0.026714 -0.038357  \n",
       "..        ...       ...       ...  \n",
       "114  0.020655  0.099240  0.023775  \n",
       "142 -0.002592  0.045601 -0.001078  \n",
       "121  0.034309  0.019908  0.011349  \n",
       "31  -0.076395 -0.037128 -0.042499  \n",
       "385 -0.039493 -0.025952 -0.013504  \n",
       "\n",
       "[89 rows x 10 columns]"
      ]
     },
     "execution_count": 35,
     "metadata": {},
     "output_type": "execute_result"
    }
   ],
   "source": [
    "test_x"
   ]
  },
  {
   "cell_type": "code",
   "execution_count": 37,
   "metadata": {},
   "outputs": [
    {
     "data": {
      "text/plain": [
       "13     185.0\n",
       "66     150.0\n",
       "234    246.0\n",
       "24     184.0\n",
       "388    110.0\n",
       "       ...  \n",
       "114    258.0\n",
       "142    235.0\n",
       "121    173.0\n",
       "31      59.0\n",
       "385    219.0\n",
       "Name: y, Length: 89, dtype: float64"
      ]
     },
     "execution_count": 37,
     "metadata": {},
     "output_type": "execute_result"
    }
   ],
   "source": [
    "test_y\n"
   ]
  },
  {
   "cell_type": "code",
   "execution_count": 70,
   "metadata": {},
   "outputs": [],
   "source": [
    "from sklearn import linear_model\n",
    "modelo = linear_model.LinearRegression()"
   ]
  },
  {
   "cell_type": "code",
   "execution_count": 71,
   "metadata": {},
   "outputs": [
    {
     "data": {
      "text/plain": [
       "LinearRegression()"
      ]
     },
     "execution_count": 71,
     "metadata": {},
     "output_type": "execute_result"
    }
   ],
   "source": [
    "modelo"
   ]
  },
  {
   "cell_type": "code",
   "execution_count": 72,
   "metadata": {},
   "outputs": [
    {
     "data": {
      "text/plain": [
       "LinearRegression()"
      ]
     },
     "execution_count": 72,
     "metadata": {},
     "output_type": "execute_result"
    }
   ],
   "source": [
    "modelo.fit(train_x,train_y)"
   ]
  },
  {
   "cell_type": "code",
   "execution_count": 73,
   "metadata": {},
   "outputs": [
    {
     "data": {
      "text/plain": [
       "0.5015524096207558"
      ]
     },
     "execution_count": 73,
     "metadata": {},
     "output_type": "execute_result"
    }
   ],
   "source": [
    "precision= modelo.score(train_x,train_y)\n",
    "precision"
   ]
  },
  {
   "cell_type": "code",
   "execution_count": 62,
   "metadata": {},
   "outputs": [
    {
     "data": {
      "text/plain": [
       "array([162.26359467, 155.48747839, 227.01019671, 164.63583097,\n",
       "       158.78861876, 135.27411288, 253.95946355, 106.30662813,\n",
       "       103.03631134, 114.33330776, 123.87775522, 183.76354732,\n",
       "       163.00541455, 203.26084844, 214.91810729, 174.49695156,\n",
       "       108.43475278, 145.38313077, 175.78816988, 191.42525183,\n",
       "       164.57232464, 233.24090956, 140.03825949,  73.79751056,\n",
       "       129.98678458, 189.7593074 ,  99.60413529,  99.22486195,\n",
       "       158.34182642, 184.63831369,  81.93551519, 238.22291295,\n",
       "       208.12075731, 210.13292762, 199.08373866,  94.83582711,\n",
       "        93.49289059,  99.17948241, 228.27847992, 101.50596652,\n",
       "       192.67553228,  81.54468369, 103.23825593, 147.13568637,\n",
       "       111.39328423, 215.7577106 ,  80.45897342,  75.04534093,\n",
       "       100.72245569, 217.41160041,  69.28173936, 115.45236404,\n",
       "       175.51938644, 195.88993672, 139.8423833 , 197.26642367,\n",
       "       220.21419051, 170.768533  , 194.81047154, 190.59958364,\n",
       "       138.06597191, 121.09270082, 234.55652657, 203.1669171 ,\n",
       "       191.84242585,  39.76251236,  62.18280432, 160.03620463,\n",
       "       126.45007195,  86.11489293, 137.29148782,  75.85023517,\n",
       "       142.75439948, 200.21205121, 121.87974958, 174.95663405,\n",
       "       147.55836446, 139.51071695, 100.12469474,  82.64485315,\n",
       "        58.74507014, 160.42070186, 120.1334828 , 226.80303286,\n",
       "       282.90531451, 164.80178969, 199.40752664,  70.14688404,\n",
       "       140.48590356])"
      ]
     },
     "execution_count": 62,
     "metadata": {},
     "output_type": "execute_result"
    }
   ],
   "source": [
    "modelo.predict(test_x)"
   ]
  },
  {
   "cell_type": "code",
   "execution_count": 64,
   "metadata": {},
   "outputs": [
    {
     "data": {
      "text/plain": [
       "13     185.0\n",
       "66     150.0\n",
       "234    246.0\n",
       "24     184.0\n",
       "388    110.0\n",
       "       ...  \n",
       "114    258.0\n",
       "142    235.0\n",
       "121    173.0\n",
       "31      59.0\n",
       "385    219.0\n",
       "Name: y, Length: 89, dtype: float64"
      ]
     },
     "execution_count": 64,
     "metadata": {},
     "output_type": "execute_result"
    }
   ],
   "source": [
    "test_y"
   ]
  },
  {
   "cell_type": "code",
   "execution_count": 66,
   "metadata": {},
   "outputs": [
    {
     "data": {
      "text/plain": [
       "array([162.26359467, 155.48747839, 227.01019671, 164.63583097,\n",
       "       158.78861876, 135.27411288, 253.95946355, 106.30662813,\n",
       "       103.03631134, 114.33330776, 123.87775522, 183.76354732,\n",
       "       163.00541455, 203.26084844, 214.91810729, 174.49695156,\n",
       "       108.43475278, 145.38313077, 175.78816988, 191.42525183,\n",
       "       164.57232464, 233.24090956, 140.03825949,  73.79751056,\n",
       "       129.98678458, 189.7593074 ,  99.60413529,  99.22486195,\n",
       "       158.34182642, 184.63831369,  81.93551519, 238.22291295,\n",
       "       208.12075731, 210.13292762, 199.08373866,  94.83582711,\n",
       "        93.49289059,  99.17948241, 228.27847992, 101.50596652,\n",
       "       192.67553228,  81.54468369, 103.23825593, 147.13568637,\n",
       "       111.39328423, 215.7577106 ,  80.45897342,  75.04534093,\n",
       "       100.72245569, 217.41160041,  69.28173936, 115.45236404,\n",
       "       175.51938644, 195.88993672, 139.8423833 , 197.26642367,\n",
       "       220.21419051, 170.768533  , 194.81047154, 190.59958364,\n",
       "       138.06597191, 121.09270082, 234.55652657, 203.1669171 ,\n",
       "       191.84242585,  39.76251236,  62.18280432, 160.03620463,\n",
       "       126.45007195,  86.11489293, 137.29148782,  75.85023517,\n",
       "       142.75439948, 200.21205121, 121.87974958, 174.95663405,\n",
       "       147.55836446, 139.51071695, 100.12469474,  82.64485315,\n",
       "        58.74507014, 160.42070186, 120.1334828 , 226.80303286,\n",
       "       282.90531451, 164.80178969, 199.40752664,  70.14688404,\n",
       "       140.48590356])"
      ]
     },
     "execution_count": 66,
     "metadata": {},
     "output_type": "execute_result"
    }
   ],
   "source": [
    "y_predict=modelo.predict(test_x)\n",
    "y_predict"
   ]
  },
  {
   "cell_type": "code",
   "execution_count": null,
   "metadata": {},
   "outputs": [],
   "source": []
  },
  {
   "cell_type": "code",
   "execution_count": 75,
   "metadata": {},
   "outputs": [],
   "source": [
    "from sklearn.metrics import r2_score\n",
    "from sklearn.metrics import mean_squared_error"
   ]
  },
  {
   "cell_type": "code",
   "execution_count": 95,
   "metadata": {},
   "outputs": [
    {
     "name": "stdout",
     "output_type": "stream",
     "text": [
      "R2:  0.568\n"
     ]
    }
   ],
   "source": [
    "r2_score(test_y, y_predict)\n",
    "print(\"R2: \",round(r2_score(test_y, y_predict),3))"
   ]
  },
  {
   "cell_type": "code",
   "execution_count": 93,
   "metadata": {},
   "outputs": [
    {
     "name": "stdout",
     "output_type": "stream",
     "text": [
      "MSE:  2724.245\n"
     ]
    }
   ],
   "source": [
    "mean_squared_error(test_y,y_predict)\n",
    "print(\"MSE: \", round(mean_squared_error(test_y,y_predict),3))"
   ]
  },
  {
   "cell_type": "code",
   "execution_count": 94,
   "metadata": {},
   "outputs": [
    {
     "name": "stdout",
     "output_type": "stream",
     "text": [
      "MSE:  52.194\n"
     ]
    }
   ],
   "source": [
    "mean_squared_error(test_y,y_predict)\n",
    "print(\"MSE: \", round(mean_squared_error(test_y,y_predict,squared=False),3))"
   ]
  },
  {
   "cell_type": "code",
   "execution_count": 109,
   "metadata": {},
   "outputs": [
    {
     "name": "stdout",
     "output_type": "stream",
     "text": [
      "R2:  0.5675916622351821\n"
     ]
    }
   ],
   "source": [
    "import pandas as pd\n",
    "from sklearn.model_selection import train_test_split\n",
    "from sklearn import linear_model\n",
    "from sklearn.metrics import r2_score\n",
    "from sklearn.metrics import mean_squared_error\n",
    "df= pd.read_csv(\"C:\\\\Users\\\\Alumno\\\\Downloads\\\\diabetes_completo.csv\")\n",
    "train,test= train_test_split(df,test_size=0.2,random_state=123)\n",
    "train_x= train.drop([\"y\"], axis=1)\n",
    "train_y= train.y\n",
    "test_x= test.drop([\"y\"], axis=1)\n",
    "test_y= test.y\n",
    "modelo = linear_model.LinearRegression()\n",
    "modelo.fit(train_x,train_y)\n",
    "y_predict=modelo.predict(test_x)\n",
    "y_predict\n",
    "\n",
    "print(\"R2: \",(r2_score(test_y, y_predict))) \n",
    "#print(\"MSE: \", round(mean_squared_error(test_y,y_predict),3))\n",
    "#print(\"RMSE: \", round(mean_squared_error(test_y,y_predict,squared=False),3))"
   ]
  },
  {
   "cell_type": "code",
   "execution_count": 110,
   "metadata": {},
   "outputs": [
    {
     "data": {
      "text/plain": [
       "13     185.0\n",
       "66     150.0\n",
       "234    246.0\n",
       "24     184.0\n",
       "388    110.0\n",
       "       ...  \n",
       "114    258.0\n",
       "142    235.0\n",
       "121    173.0\n",
       "31      59.0\n",
       "385    219.0\n",
       "Name: y, Length: 89, dtype: float64"
      ]
     },
     "execution_count": 110,
     "metadata": {},
     "output_type": "execute_result"
    }
   ],
   "source": [
    "test_y"
   ]
  },
  {
   "cell_type": "code",
   "execution_count": null,
   "metadata": {},
   "outputs": [],
   "source": []
  }
 ],
 "metadata": {
  "kernelspec": {
   "display_name": "Python 3",
   "language": "python",
   "name": "python3"
  },
  "language_info": {
   "codemirror_mode": {
    "name": "ipython",
    "version": 3
   },
   "file_extension": ".py",
   "mimetype": "text/x-python",
   "name": "python",
   "nbconvert_exporter": "python",
   "pygments_lexer": "ipython3",
   "version": "3.8.5"
  }
 },
 "nbformat": 4,
 "nbformat_minor": 5
}
