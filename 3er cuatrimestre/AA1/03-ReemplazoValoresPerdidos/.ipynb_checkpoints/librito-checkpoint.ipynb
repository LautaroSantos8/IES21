{
 "cells": [
  {
   "cell_type": "code",
   "execution_count": null,
   "id": "f9eb14da",
   "metadata": {},
   "outputs": [],
   "source": [
    "import numpy as np\n",
    "import pandas as pd"
   ]
  },
  {
   "cell_type": "code",
   "execution_count": null,
   "id": "2654a610",
   "metadata": {},
   "outputs": [],
   "source": [
    "dfa = pd.read_csv('data03_a.csv', engine='python')"
   ]
  },
  {
   "cell_type": "code",
   "execution_count": null,
   "id": "16861c8a",
   "metadata": {},
   "outputs": [],
   "source": [
    "dfa.info()"
   ]
  },
  {
   "cell_type": "code",
   "execution_count": null,
   "id": "6ff5da31",
   "metadata": {},
   "outputs": [],
   "source": [
    "dfa"
   ]
  },
  {
   "cell_type": "code",
   "execution_count": null,
   "id": "03858aff",
   "metadata": {},
   "outputs": [],
   "source": [
    "dfa1 = dfa\n",
    "dfa1.fillna(0)"
   ]
  },
  {
   "cell_type": "code",
   "execution_count": null,
   "id": "910a4164",
   "metadata": {},
   "outputs": [],
   "source": [
    "dfa2 = dfa.apply(lambda x: x.fillna(x.mean()), axis=0)\n",
    "dfa2"
   ]
  },
  {
   "cell_type": "code",
   "execution_count": null,
   "id": "21145c58",
   "metadata": {},
   "outputs": [],
   "source": [
    "dfa3 = dfa.apply(lambda x: x.fillna(x.median()), axis=0)\n",
    "dfa3"
   ]
  },
  {
   "cell_type": "code",
   "execution_count": null,
   "id": "48dbdf99",
   "metadata": {},
   "outputs": [],
   "source": [
    "dfb = pd.read_csv('data03_b.csv', engine='python', index_col=0)"
   ]
  },
  {
   "cell_type": "code",
   "execution_count": null,
   "id": "7286012c",
   "metadata": {},
   "outputs": [],
   "source": [
    "dfb.info()"
   ]
  },
  {
   "cell_type": "code",
   "execution_count": null,
   "id": "1aff1616",
   "metadata": {},
   "outputs": [],
   "source": [
    "dfb"
   ]
  },
  {
   "cell_type": "code",
   "execution_count": null,
   "id": "0b012412",
   "metadata": {},
   "outputs": [],
   "source": [
    "dfb['Profesion'].fillna('Desconocida', inplace=True)\n",
    "dfb"
   ]
  },
  {
   "cell_type": "code",
   "execution_count": null,
   "id": "325ef3c1",
   "metadata": {},
   "outputs": [],
   "source": [
    "dfb2 = dfb.fillna(method='ffill')\n",
    "dfb2"
   ]
  },
  {
   "cell_type": "code",
   "execution_count": null,
   "id": "3e02785e",
   "metadata": {},
   "outputs": [],
   "source": [
    "dfb3 = dfb.fillna(method='bfill')\n",
    "dfb3"
   ]
  },
  {
   "cell_type": "code",
   "execution_count": null,
   "id": "a6d54c35",
   "metadata": {},
   "outputs": [],
   "source": []
  }
 ],
 "metadata": {
  "kernelspec": {
   "display_name": "Python 3",
   "language": "python",
   "name": "python3"
  },
  "language_info": {
   "codemirror_mode": {
    "name": "ipython",
    "version": 3
   },
   "file_extension": ".py",
   "mimetype": "text/x-python",
   "name": "python",
   "nbconvert_exporter": "python",
   "pygments_lexer": "ipython3",
   "version": "3.8.8"
  }
 },
 "nbformat": 4,
 "nbformat_minor": 5
}
